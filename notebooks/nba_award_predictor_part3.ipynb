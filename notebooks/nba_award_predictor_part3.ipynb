{
 "cells": [
  {
   "cell_type": "markdown",
   "id": "fa71c7b0-f994-4e8e-a046-121eeeb59e40",
   "metadata": {},
   "source": [
    "# NBA Awards Predictor - Part 3"
   ]
  },
  {
   "cell_type": "markdown",
   "id": "0ac4c8df-e786-462b-8d14-819b38fdc91f",
   "metadata": {},
   "source": [
    "The following notebook is part 3 of the NBA awards predictor project. This notebook includes **data preprocessing**, **model building, and selection**. Part 1 and 2 of this portion of the project included constructing the datasets and exploratory data analysis. The insights derived from part 2 of this project will support in the selection of features and processing of data for building the model. This notebook will explore the accuracy of different models in predicting awards and ultimately utilize the best model for deployment, found in deployment.ipynb."
   ]
  },
  {
   "cell_type": "markdown",
   "id": "2d2426fb-b566-4cfb-a52d-3a732754b9d1",
   "metadata": {},
   "source": [
    "**NOTE:** Due to the similarity of the features and domain of every award, I will only display the specific steps of pre-processing and model selection/tuning for the MVP award. I will then apply everything in a more concise manner for the other awards."
   ]
  },
  {
   "cell_type": "markdown",
   "id": "1a046109-93db-4331-8b5c-f8a941f0c3f4",
   "metadata": {},
   "source": [
    "Below is a more detailed table of contents for this notebook"
   ]
  },
  {
   "cell_type": "markdown",
   "id": "897904dc-5d2c-418c-a3a9-df0eebc70a10",
   "metadata": {},
   "source": [
    "**Table of Contents:**\n",
    "1. Data Pre-Processing\n",
    "    - Addressing Missing Values\n",
    "    - Train/Test Split\n",
    "    - Encoding Categorical Data\n",
    "    - Feature Selection \n",
    "        - SelectKBest\n",
    "        - Lasso Regressor\n",
    "    - Feature Scaling\n",
    "        - Log Transformation\n",
    "    - Checking Target Assumptions\n",
    "        - Linearity\n",
    "        - Multicollinearity\n",
    "2. Model Construction\n",
    "    - Multiple Linear Regression\n",
    "        - Determining Custom Error Metric\n",
    "    - Ridge Regressor\n",
    "    - SVR\n",
    "    - Random Forest\n",
    "    - Extreme Gradient-Boosting Decision Tree Regressor (XGboost)\n",
    "3. Summary of Results\n",
    "    - Backtesting Model\n",
    "4. Constructing Data Pipelines for each Award\n",
    "    - ROY\n",
    "    - SMOY\n",
    "    - DPOY\n",
    "    - MIP\n",
    "5. Final Models for Deployment"
   ]
  },
  {
   "cell_type": "markdown",
   "id": "bfbb60d0-8402-460b-9e1b-9fe6a0d99c4d",
   "metadata": {},
   "source": [
    "NOTE: I will first construct the model using the **Most Valuable Player** data. Once I have a better idea of the performance of different algorithms, I will move on to construct the models for all the awards in section 5."
   ]
  },
  {
   "cell_type": "markdown",
   "id": "37d4630f-3f37-411d-9985-3cf314c0b59a",
   "metadata": {},
   "source": [
    "## Importing Libraries and Datasets"
   ]
  },
  {
   "cell_type": "code",
   "execution_count": 2,
   "id": "2f280cf7-bc4e-4894-9662-eb553ee22afe",
   "metadata": {
    "tags": []
   },
   "outputs": [],
   "source": [
    "import numpy as np\n",
    "import pandas as pd\n",
    "import matplotlib.pyplot as plt\n",
    "import seaborn as sns\n",
    "\n",
    "from sklearn.model_selection import train_test_split \n",
    "from sklearn.model_selection import GridSearchCV\n",
    "from sklearn.model_selection import RandomizedSearchCV\n",
    "from sklearn.compose import ColumnTransformer\n",
    "from sklearn.preprocessing import OneHotEncoder\n",
    "from sklearn.preprocessing import MinMaxScaler\n",
    "from sklearn.preprocessing import StandardScaler\n",
    "from sklearn.feature_selection import SelectKBest\n",
    "from sklearn.feature_selection import SelectFromModel\n",
    "from sklearn.feature_selection import f_regression\n",
    "from sklearn.pipeline import Pipeline\n",
    "\n",
    "from sklearn.linear_model import Lasso\n",
    "from sklearn.linear_model import LinearRegression\n",
    "from sklearn.linear_model import Ridge\n",
    "from sklearn.svm import SVR\n",
    "from sklearn.ensemble import RandomForestRegressor\n",
    "import xgboost as xgb\n",
    "\n",
    "from statsmodels.stats.outliers_influence import variance_inflation_factor\n",
    "%matplotlib inline"
   ]
  },
  {
   "cell_type": "code",
   "execution_count": 992,
   "id": "24b825bc-ee45-40da-894a-e85a46333e7c",
   "metadata": {},
   "outputs": [],
   "source": [
    "mvp = pd.read_csv(\"../data/awards_dfs/MVP.csv\")\n",
    "mip = pd.read_csv(\"../data/awards_dfs/MIP.csv\")\n",
    "smoy = pd.read_csv(\"../data/awards_dfs/SMOY.csv\")\n",
    "roy = pd.read_csv(\"../data/awards_dfs/ROY.csv\")\n",
    "dpoy = pd.read_csv(\"../data/awards_dfs/DPOY.csv\")"
   ]
  },
  {
   "cell_type": "markdown",
   "id": "a7768a23-bb02-4120-aefc-aff2093c00a4",
   "metadata": {},
   "source": [
    "# 1. Data Preprocessing"
   ]
  },
  {
   "cell_type": "markdown",
   "id": "aa674025-26c1-4f71-8f0c-d49ebf7d5c34",
   "metadata": {},
   "source": [
    "## Addressing Missing Values"
   ]
  },
  {
   "cell_type": "code",
   "execution_count": 4,
   "id": "fcde82dd-1bcd-482b-810b-fda396f52630",
   "metadata": {},
   "outputs": [
    {
     "data": {
      "text/plain": [
       "Index(['Unnamed: 0', 'Player', 'Pos', 'Age', 'Tm', 'G', 'GS', 'MP', 'FG',\n",
       "       'FGA', 'FG%', '3P', '3PA', '3P%', '2P', '2PA', '2P%', 'FT', 'FTA',\n",
       "       'FT%', 'ORB', 'DRB', 'TRB', 'AST', 'STL', 'BLK', 'TOV', 'PF', 'PTS',\n",
       "       'Year', 'PER', 'TS%', 'USG%', 'OWS', 'DWS', 'WS', 'WS/48', 'OBPM',\n",
       "       'DBPM', 'BPM', 'VORP', 'Share', 'Seed', 'WL', 'SS', 'MPG'],\n",
       "      dtype='object')"
      ]
     },
     "execution_count": 4,
     "metadata": {},
     "output_type": "execute_result"
    }
   ],
   "source": [
    "mvp.columns"
   ]
  },
  {
   "cell_type": "code",
   "execution_count": 993,
   "id": "17b7d129-c89a-4bf4-8e1f-42c2db6aaf92",
   "metadata": {},
   "outputs": [],
   "source": [
    "#dropping first column as it was unintentionally added during webscraping\n",
    "mvp.drop(\"Unnamed: 0\", axis = 1, inplace = True)"
   ]
  },
  {
   "cell_type": "markdown",
   "id": "ad457105-3a65-494a-9fd1-cb8d8505047f",
   "metadata": {},
   "source": [
    "We learned from the *EDA* portion of this project that the following features have NaN values: `3P%`, `FT%`, `Share`, `Seed`, and `WL`. "
   ]
  },
  {
   "cell_type": "markdown",
   "id": "ea98bbb2-8a04-4775-95d2-37cbc754df83",
   "metadata": {},
   "source": [
    "To first address `3P%` and `FT%`, we learned that the missing values are a result of the player never *attempting* a three pointer or free throw for the entire season. Thus, we can replace the values with 0."
   ]
  },
  {
   "cell_type": "code",
   "execution_count": 994,
   "id": "ee654499-be1c-4fb9-899b-dca3b6e9e773",
   "metadata": {},
   "outputs": [],
   "source": [
    "mvp[\"3P%\"].fillna(0, inplace = True)\n",
    "mvp[\"FT%\"].fillna(0, inplace = True)"
   ]
  },
  {
   "cell_type": "markdown",
   "id": "ec0270ed-a77c-4734-b600-34f6e9841886",
   "metadata": {},
   "source": [
    "Next, we discovered in EDA that the `Seed` and `WL` were NaN because the player had switched teams sometime during the season. We also found that these players were insignificant in the MVP race, so we can drop these players."
   ]
  },
  {
   "cell_type": "code",
   "execution_count": 995,
   "id": "7ac1f0d0-fbe8-42ae-be86-cb7ae784d0ae",
   "metadata": {},
   "outputs": [],
   "source": [
    "#Only need to use Seed as a subset because these players share the same NaN values\n",
    "mvp.dropna(subset = [\"Seed\"], inplace = True)"
   ]
  },
  {
   "cell_type": "markdown",
   "id": "99647c66-fd21-4be1-96d8-793d73fc60c1",
   "metadata": {},
   "source": [
    "Finally, we may replace the NaN in `Share` with 0 because these are players that didn't receive an MVP vote."
   ]
  },
  {
   "cell_type": "code",
   "execution_count": 996,
   "id": "8fc00b72-44dc-46d0-bfc8-969db3bf5d3e",
   "metadata": {},
   "outputs": [
    {
     "data": {
      "text/plain": [
       "0"
      ]
     },
     "execution_count": 996,
     "metadata": {},
     "output_type": "execute_result"
    }
   ],
   "source": [
    "mvp[\"Share\"].fillna(0, inplace = True)\n",
    "\n",
    "#checking for any NaN values\n",
    "np.sum(mvp.isna().sum())"
   ]
  },
  {
   "cell_type": "markdown",
   "id": "1751c90f-a398-4247-b60e-a604ad806d36",
   "metadata": {},
   "source": [
    "All missing values have been removed!"
   ]
  },
  {
   "cell_type": "markdown",
   "id": "165904eb-9234-4e04-a7f5-2915c30f8703",
   "metadata": {},
   "source": [
    "## Train/Test Split"
   ]
  },
  {
   "cell_type": "markdown",
   "id": "53effb4d-7634-47d3-ae78-b945cf9426ab",
   "metadata": {},
   "source": [
    "**Note:** I did not split the dataset prior to addressing missing values because I knew data leakage would not be a problem after exploring the NaN values in EDA.  "
   ]
  },
  {
   "cell_type": "code",
   "execution_count": 997,
   "id": "96a44a6b-801a-4801-9def-f8e3c4044cd0",
   "metadata": {},
   "outputs": [
    {
     "name": "stdout",
     "output_type": "stream",
     "text": [
      "(6057, 44)\n",
      "(6057,)\n"
     ]
    }
   ],
   "source": [
    "X = mvp.drop(\"Share\", axis = 1)\n",
    "y = mvp[\"Share\"]\n",
    "\n",
    "#I'll be performing the train/test split based on the years --> The last two years will be the test set\n",
    "X_train = X[(X[\"Year\"] != 2022) & (X[\"Year\"] != 2021)].reset_index(drop = True)\n",
    "X_test = X[~((X[\"Year\"] != 2022) & (X[\"Year\"] != 2021))].reset_index(drop = True)\n",
    "y_train = y[:-566]\n",
    "y_test = y.tail(566)\n",
    "\n",
    "#Confirming the split was done accurately \n",
    "print(X_train.shape)\n",
    "print(y_train.shape)"
   ]
  },
  {
   "cell_type": "code",
   "execution_count": 998,
   "id": "9fc497b9-0864-4541-b9d8-8cd3869a2ab4",
   "metadata": {},
   "outputs": [
    {
     "name": "stdout",
     "output_type": "stream",
     "text": [
      "                     Player  Year  Share\n",
      "4453  Giannis Antetokounmpo  2014  0.000\n",
      "4782  Giannis Antetokounmpo  2015  0.000\n",
      "5121  Giannis Antetokounmpo  2016  0.000\n",
      "5456  Giannis Antetokounmpo  2017  0.007\n",
      "5792  Giannis Antetokounmpo  2018  0.074\n",
      "6120  Giannis Antetokounmpo  2019  0.932\n",
      "6468  Giannis Antetokounmpo  2020  0.952\n",
      "6774  Giannis Antetokounmpo  2021  0.345\n",
      "7085  Giannis Antetokounmpo  2022  0.595\n",
      "                     Player  Year  Share\n",
      "4016  Giannis Antetokounmpo  2014  0.000\n",
      "4308  Giannis Antetokounmpo  2015  0.000\n",
      "4599  Giannis Antetokounmpo  2016  0.000\n",
      "4900  Giannis Antetokounmpo  2017  0.007\n",
      "5204  Giannis Antetokounmpo  2018  0.074\n",
      "5499  Giannis Antetokounmpo  2019  0.932\n",
      "5789  Giannis Antetokounmpo  2020  0.952\n",
      "                    Player  Year  Share\n",
      "6    Giannis Antetokounmpo  2021  0.345\n",
      "277  Giannis Antetokounmpo  2022  0.595\n"
     ]
    }
   ],
   "source": [
    "#Confirming the accuracy of the split\n",
    "print(mvp[mvp[\"Player\"] == \"Giannis Antetokounmpo\"][[\"Player\", \"Year\", \"Share\"]]) #checks original MVP shares\n",
    "\n",
    "#Displays the correlated MVP shares for Giannis in the testing and training sets \n",
    "giannis = X_train[X_train[\"Player\"] == \"Giannis Antetokounmpo\"][[\"Player\", \"Year\"]]\n",
    "giannis[\"Share\"] = y_train.iloc[giannis.index].values\n",
    "print(giannis)\n",
    "\n",
    "giannis2 = X_test[X_test[\"Player\"] == \"Giannis Antetokounmpo\"][[\"Player\", \"Year\"]]\n",
    "giannis2[\"Share\"] = y_test.iloc[giannis2.index].values\n",
    "print(giannis2)"
   ]
  },
  {
   "cell_type": "markdown",
   "id": "d8f0e12b-320b-4e57-aaf8-63d2aef00b32",
   "metadata": {},
   "source": [
    "The dataset is appropriately split."
   ]
  },
  {
   "cell_type": "markdown",
   "id": "16900d03-f809-4e4b-aa5c-4bfaaa670d0c",
   "metadata": {},
   "source": [
    "## Encoding Categorical Features"
   ]
  },
  {
   "cell_type": "markdown",
   "id": "c8ce851d-2ebc-4f10-be5b-b572b2dc2ca4",
   "metadata": {},
   "source": [
    "Before encoding my categorical variables, I'll drop `Tm` as we discovered it was insignificant during EDA."
   ]
  },
  {
   "cell_type": "code",
   "execution_count": 999,
   "id": "6b07e0dc-fd29-4edb-b207-f8b320e52e5d",
   "metadata": {},
   "outputs": [],
   "source": [
    "X_train.drop(\"Tm\", axis = 1, inplace = True)\n",
    "X_test.drop(\"Tm\", axis = 1, inplace = True)"
   ]
  },
  {
   "cell_type": "markdown",
   "id": "afd919ef-7cb2-4741-ac3d-39a9c1a64d25",
   "metadata": {},
   "source": [
    "I'll keep the players in a variable, but it is not necessary for the train and test set."
   ]
  },
  {
   "cell_type": "code",
   "execution_count": 1000,
   "id": "d428d638-7fb9-49b1-a52a-25b868df9a9b",
   "metadata": {},
   "outputs": [],
   "source": [
    "players = mvp[\"Player\"]\n",
    "X_train.drop(\"Player\", axis = 1, inplace = True)\n",
    "X_test.drop(\"Player\", axis = 1, inplace = True)"
   ]
  },
  {
   "cell_type": "markdown",
   "id": "934e7448-8a13-492b-b1b8-2fc25df57cdc",
   "metadata": {},
   "source": [
    "**`Pos`**\n",
    "\n",
    "The player's position is the only necessary feature to be transformed. The other categorical feature, `Seed`, is an ordinal feature. Therefore, it does not need to be encoded."
   ]
  },
  {
   "cell_type": "code",
   "execution_count": 233,
   "id": "e169c257-fcb4-453e-bccb-1317f6f3b19f",
   "metadata": {},
   "outputs": [
    {
     "data": {
      "text/plain": [
       "array(['SF', 'SG', 'C', 'PG', 'PF'], dtype=object)"
      ]
     },
     "execution_count": 233,
     "metadata": {},
     "output_type": "execute_result"
    }
   ],
   "source": [
    "X_train[\"Pos\"].unique()"
   ]
  },
  {
   "cell_type": "code",
   "execution_count": 1001,
   "id": "28027c2d-94af-4c3a-85f1-f92f2e230176",
   "metadata": {},
   "outputs": [
    {
     "data": {
      "text/html": [
       "<div>\n",
       "<style scoped>\n",
       "    .dataframe tbody tr th:only-of-type {\n",
       "        vertical-align: middle;\n",
       "    }\n",
       "\n",
       "    .dataframe tbody tr th {\n",
       "        vertical-align: top;\n",
       "    }\n",
       "\n",
       "    .dataframe thead th {\n",
       "        text-align: right;\n",
       "    }\n",
       "</style>\n",
       "<table border=\"1\" class=\"dataframe\">\n",
       "  <thead>\n",
       "    <tr style=\"text-align: right;\">\n",
       "      <th></th>\n",
       "      <th>Pos</th>\n",
       "      <th>Age</th>\n",
       "      <th>G</th>\n",
       "      <th>GS</th>\n",
       "      <th>MP</th>\n",
       "      <th>FG</th>\n",
       "      <th>FGA</th>\n",
       "      <th>FG%</th>\n",
       "      <th>3P</th>\n",
       "      <th>3PA</th>\n",
       "      <th>...</th>\n",
       "      <th>VORP</th>\n",
       "      <th>Seed</th>\n",
       "      <th>WL</th>\n",
       "      <th>SS</th>\n",
       "      <th>MPG</th>\n",
       "      <th>C</th>\n",
       "      <th>PF</th>\n",
       "      <th>PG</th>\n",
       "      <th>SF</th>\n",
       "      <th>SG</th>\n",
       "    </tr>\n",
       "  </thead>\n",
       "  <tbody>\n",
       "    <tr>\n",
       "      <th>0</th>\n",
       "      <td>SF</td>\n",
       "      <td>23</td>\n",
       "      <td>82</td>\n",
       "      <td>82</td>\n",
       "      <td>3223</td>\n",
       "      <td>6.6</td>\n",
       "      <td>14.3</td>\n",
       "      <td>0.465</td>\n",
       "      <td>0.3</td>\n",
       "      <td>1.1</td>\n",
       "      <td>...</td>\n",
       "      <td>3.4</td>\n",
       "      <td>12.0</td>\n",
       "      <td>0.268</td>\n",
       "      <td>35</td>\n",
       "      <td>39.304878</td>\n",
       "      <td>0.0</td>\n",
       "      <td>0.0</td>\n",
       "      <td>0.0</td>\n",
       "      <td>1.0</td>\n",
       "      <td>0.0</td>\n",
       "    </tr>\n",
       "    <tr>\n",
       "      <th>1</th>\n",
       "      <td>SG</td>\n",
       "      <td>24</td>\n",
       "      <td>82</td>\n",
       "      <td>82</td>\n",
       "      <td>3070</td>\n",
       "      <td>7.5</td>\n",
       "      <td>16.5</td>\n",
       "      <td>0.455</td>\n",
       "      <td>2.0</td>\n",
       "      <td>4.8</td>\n",
       "      <td>...</td>\n",
       "      <td>4.3</td>\n",
       "      <td>8.0</td>\n",
       "      <td>0.512</td>\n",
       "      <td>11</td>\n",
       "      <td>37.439024</td>\n",
       "      <td>0.0</td>\n",
       "      <td>0.0</td>\n",
       "      <td>0.0</td>\n",
       "      <td>0.0</td>\n",
       "      <td>1.0</td>\n",
       "    </tr>\n",
       "    <tr>\n",
       "      <th>2</th>\n",
       "      <td>C</td>\n",
       "      <td>29</td>\n",
       "      <td>80</td>\n",
       "      <td>53</td>\n",
       "      <td>1684</td>\n",
       "      <td>6.5</td>\n",
       "      <td>15.0</td>\n",
       "      <td>0.437</td>\n",
       "      <td>0.0</td>\n",
       "      <td>0.1</td>\n",
       "      <td>...</td>\n",
       "      <td>-0.2</td>\n",
       "      <td>9.0</td>\n",
       "      <td>0.500</td>\n",
       "      <td>45</td>\n",
       "      <td>21.050000</td>\n",
       "      <td>1.0</td>\n",
       "      <td>0.0</td>\n",
       "      <td>0.0</td>\n",
       "      <td>0.0</td>\n",
       "      <td>0.0</td>\n",
       "    </tr>\n",
       "    <tr>\n",
       "      <th>3</th>\n",
       "      <td>SG</td>\n",
       "      <td>25</td>\n",
       "      <td>64</td>\n",
       "      <td>58</td>\n",
       "      <td>2201</td>\n",
       "      <td>6.2</td>\n",
       "      <td>14.1</td>\n",
       "      <td>0.438</td>\n",
       "      <td>0.9</td>\n",
       "      <td>2.9</td>\n",
       "      <td>...</td>\n",
       "      <td>1.1</td>\n",
       "      <td>14.0</td>\n",
       "      <td>0.183</td>\n",
       "      <td>47</td>\n",
       "      <td>34.390625</td>\n",
       "      <td>0.0</td>\n",
       "      <td>0.0</td>\n",
       "      <td>0.0</td>\n",
       "      <td>0.0</td>\n",
       "      <td>1.0</td>\n",
       "    </tr>\n",
       "    <tr>\n",
       "      <th>4</th>\n",
       "      <td>PG</td>\n",
       "      <td>29</td>\n",
       "      <td>82</td>\n",
       "      <td>82</td>\n",
       "      <td>2593</td>\n",
       "      <td>6.0</td>\n",
       "      <td>13.7</td>\n",
       "      <td>0.440</td>\n",
       "      <td>1.2</td>\n",
       "      <td>3.1</td>\n",
       "      <td>...</td>\n",
       "      <td>2.5</td>\n",
       "      <td>10.0</td>\n",
       "      <td>0.427</td>\n",
       "      <td>88</td>\n",
       "      <td>31.621951</td>\n",
       "      <td>0.0</td>\n",
       "      <td>0.0</td>\n",
       "      <td>1.0</td>\n",
       "      <td>0.0</td>\n",
       "      <td>0.0</td>\n",
       "    </tr>\n",
       "  </tbody>\n",
       "</table>\n",
       "<p>5 rows × 47 columns</p>\n",
       "</div>"
      ],
      "text/plain": [
       "  Pos  Age   G  GS    MP   FG   FGA    FG%   3P  3PA  ...  VORP  Seed     WL  \\\n",
       "0  SF   23  82  82  3223  6.6  14.3  0.465  0.3  1.1  ...   3.4  12.0  0.268   \n",
       "1  SG   24  82  82  3070  7.5  16.5  0.455  2.0  4.8  ...   4.3   8.0  0.512   \n",
       "2   C   29  80  53  1684  6.5  15.0  0.437  0.0  0.1  ...  -0.2   9.0  0.500   \n",
       "3  SG   25  64  58  2201  6.2  14.1  0.438  0.9  2.9  ...   1.1  14.0  0.183   \n",
       "4  PG   29  82  82  2593  6.0  13.7  0.440  1.2  3.1  ...   2.5  10.0  0.427   \n",
       "\n",
       "   SS        MPG    C   PF   PG   SF   SG  \n",
       "0  35  39.304878  0.0  0.0  0.0  1.0  0.0  \n",
       "1  11  37.439024  0.0  0.0  0.0  0.0  1.0  \n",
       "2  45  21.050000  1.0  0.0  0.0  0.0  0.0  \n",
       "3  47  34.390625  0.0  0.0  0.0  0.0  1.0  \n",
       "4  88  31.621951  0.0  0.0  1.0  0.0  0.0  \n",
       "\n",
       "[5 rows x 47 columns]"
      ]
     },
     "execution_count": 1001,
     "metadata": {},
     "output_type": "execute_result"
    }
   ],
   "source": [
    "#Using sklearn's OHE to encode position, which will be used in future data pipeline\n",
    "ohe = OneHotEncoder(sparse = False)\n",
    "new_pos = ohe.fit_transform(X_train[\"Pos\"].values.reshape(-1, 1))\n",
    "df = pd.DataFrame(new_pos, columns = ohe.categories_[0])\n",
    "X_train.rename(columns = {\"PF\": \"Fouls\"}, inplace = True) #PF already exists in feature names \n",
    "X_train = X_train.join(df)\n",
    "X_train.head()"
   ]
  },
  {
   "cell_type": "code",
   "execution_count": 1002,
   "id": "280e926d-4531-4bab-9190-0c5fdbfbd803",
   "metadata": {},
   "outputs": [],
   "source": [
    "#Confirmed encoded positions are accurate\n",
    "X_train.drop(\"Pos\", axis = 1, inplace = True)"
   ]
  },
  {
   "cell_type": "markdown",
   "id": "06f2b111-5442-434e-bf34-fd1046dca503",
   "metadata": {},
   "source": [
    "## Feature Selection"
   ]
  },
  {
   "cell_type": "markdown",
   "id": "05ccb6e5-2569-46f0-9a8c-41b71ea357b2",
   "metadata": {},
   "source": [
    "From exploration in EDA, we discovered that there is high multicollinearity in the features. Therefore, I believe a ridge regressor or decision tree regressor model would be more appropriate. However, I will still explore feature importance to construct a multiple linear regression model for comparison purposes."
   ]
  },
  {
   "cell_type": "markdown",
   "id": "c7899eae-2a68-45e2-96bd-deb74cef3886",
   "metadata": {},
   "source": [
    "### SelectKBest"
   ]
  },
  {
   "cell_type": "markdown",
   "id": "ee6caf1f-3856-4f31-87f2-b233337a16a4",
   "metadata": {},
   "source": [
    "First, I'll use `f_regression` to compare the weight of each feature in predicting the target variable and compare the results to my correlation matrix in EDA."
   ]
  },
  {
   "cell_type": "code",
   "execution_count": 1003,
   "id": "96e85763-4c29-4d93-a819-6e99ee613d4b",
   "metadata": {},
   "outputs": [
    {
     "data": {
      "text/html": [
       "<div>\n",
       "<style scoped>\n",
       "    .dataframe tbody tr th:only-of-type {\n",
       "        vertical-align: middle;\n",
       "    }\n",
       "\n",
       "    .dataframe tbody tr th {\n",
       "        vertical-align: top;\n",
       "    }\n",
       "\n",
       "    .dataframe thead th {\n",
       "        text-align: right;\n",
       "    }\n",
       "</style>\n",
       "<table border=\"1\" class=\"dataframe\">\n",
       "  <thead>\n",
       "    <tr style=\"text-align: right;\">\n",
       "      <th></th>\n",
       "      <th>Features</th>\n",
       "      <th>Score</th>\n",
       "    </tr>\n",
       "  </thead>\n",
       "  <tbody>\n",
       "    <tr>\n",
       "      <th>36</th>\n",
       "      <td>VORP</td>\n",
       "      <td>1721.890513</td>\n",
       "    </tr>\n",
       "    <tr>\n",
       "      <th>31</th>\n",
       "      <td>WS</td>\n",
       "      <td>1164.895341</td>\n",
       "    </tr>\n",
       "    <tr>\n",
       "      <th>29</th>\n",
       "      <td>OWS</td>\n",
       "      <td>1126.385317</td>\n",
       "    </tr>\n",
       "    <tr>\n",
       "      <th>35</th>\n",
       "      <td>BPM</td>\n",
       "      <td>960.200714</td>\n",
       "    </tr>\n",
       "    <tr>\n",
       "      <th>26</th>\n",
       "      <td>PER</td>\n",
       "      <td>865.384341</td>\n",
       "    </tr>\n",
       "    <tr>\n",
       "      <th>33</th>\n",
       "      <td>OBPM</td>\n",
       "      <td>799.081245</td>\n",
       "    </tr>\n",
       "    <tr>\n",
       "      <th>32</th>\n",
       "      <td>WS/48</td>\n",
       "      <td>656.160568</td>\n",
       "    </tr>\n",
       "    <tr>\n",
       "      <th>24</th>\n",
       "      <td>PTS</td>\n",
       "      <td>632.286204</td>\n",
       "    </tr>\n",
       "    <tr>\n",
       "      <th>13</th>\n",
       "      <td>FT</td>\n",
       "      <td>593.497724</td>\n",
       "    </tr>\n",
       "    <tr>\n",
       "      <th>14</th>\n",
       "      <td>FTA</td>\n",
       "      <td>593.040494</td>\n",
       "    </tr>\n",
       "    <tr>\n",
       "      <th>28</th>\n",
       "      <td>USG%</td>\n",
       "      <td>520.644851</td>\n",
       "    </tr>\n",
       "    <tr>\n",
       "      <th>4</th>\n",
       "      <td>FG</td>\n",
       "      <td>507.598314</td>\n",
       "    </tr>\n",
       "    <tr>\n",
       "      <th>30</th>\n",
       "      <td>DWS</td>\n",
       "      <td>503.849849</td>\n",
       "    </tr>\n",
       "    <tr>\n",
       "      <th>5</th>\n",
       "      <td>FGA</td>\n",
       "      <td>361.828704</td>\n",
       "    </tr>\n",
       "    <tr>\n",
       "      <th>10</th>\n",
       "      <td>2P</td>\n",
       "      <td>322.966163</td>\n",
       "    </tr>\n",
       "    <tr>\n",
       "      <th>22</th>\n",
       "      <td>TOV</td>\n",
       "      <td>270.174275</td>\n",
       "    </tr>\n",
       "    <tr>\n",
       "      <th>11</th>\n",
       "      <td>2PA</td>\n",
       "      <td>241.231085</td>\n",
       "    </tr>\n",
       "    <tr>\n",
       "      <th>39</th>\n",
       "      <td>SS</td>\n",
       "      <td>234.147469</td>\n",
       "    </tr>\n",
       "    <tr>\n",
       "      <th>3</th>\n",
       "      <td>MP</td>\n",
       "      <td>217.556056</td>\n",
       "    </tr>\n",
       "    <tr>\n",
       "      <th>40</th>\n",
       "      <td>MPG</td>\n",
       "      <td>204.993763</td>\n",
       "    </tr>\n",
       "    <tr>\n",
       "      <th>19</th>\n",
       "      <td>AST</td>\n",
       "      <td>189.997452</td>\n",
       "    </tr>\n",
       "    <tr>\n",
       "      <th>34</th>\n",
       "      <td>DBPM</td>\n",
       "      <td>160.935123</td>\n",
       "    </tr>\n",
       "    <tr>\n",
       "      <th>2</th>\n",
       "      <td>GS</td>\n",
       "      <td>157.695464</td>\n",
       "    </tr>\n",
       "    <tr>\n",
       "      <th>38</th>\n",
       "      <td>WL</td>\n",
       "      <td>140.956925</td>\n",
       "    </tr>\n",
       "    <tr>\n",
       "      <th>37</th>\n",
       "      <td>Seed</td>\n",
       "      <td>135.593850</td>\n",
       "    </tr>\n",
       "  </tbody>\n",
       "</table>\n",
       "</div>"
      ],
      "text/plain": [
       "   Features        Score\n",
       "36     VORP  1721.890513\n",
       "31       WS  1164.895341\n",
       "29      OWS  1126.385317\n",
       "35      BPM   960.200714\n",
       "26      PER   865.384341\n",
       "33     OBPM   799.081245\n",
       "32    WS/48   656.160568\n",
       "24      PTS   632.286204\n",
       "13       FT   593.497724\n",
       "14      FTA   593.040494\n",
       "28     USG%   520.644851\n",
       "4        FG   507.598314\n",
       "30      DWS   503.849849\n",
       "5       FGA   361.828704\n",
       "10       2P   322.966163\n",
       "22      TOV   270.174275\n",
       "11      2PA   241.231085\n",
       "39       SS   234.147469\n",
       "3        MP   217.556056\n",
       "40      MPG   204.993763\n",
       "19      AST   189.997452\n",
       "34     DBPM   160.935123\n",
       "2        GS   157.695464\n",
       "38       WL   140.956925\n",
       "37     Seed   135.593850"
      ]
     },
     "execution_count": 1003,
     "metadata": {},
     "output_type": "execute_result"
    }
   ],
   "source": [
    "best_features = SelectKBest(score_func = f_regression)\n",
    "fit = best_features.fit(X_train, y_train)\n",
    "scores = pd.DataFrame({\"Features\": X_train.columns, \"Score\": fit.scores_})\n",
    "scores.nlargest(25, \"Score\")"
   ]
  },
  {
   "cell_type": "markdown",
   "id": "e547eef4-6e1b-4f41-944f-18b2d6a3aa7a",
   "metadata": {},
   "source": [
    "The results are highly identity to the correlation matrix for \"Shares\" in EDA. Therefore, this will act as a reference for which features to maintain when constructing the linear regression model."
   ]
  },
  {
   "cell_type": "markdown",
   "id": "3cc0b968-28d3-4752-861d-5fd14eaa419b",
   "metadata": {},
   "source": [
    "### Lasso Regressor"
   ]
  },
  {
   "cell_type": "markdown",
   "id": "9949325d-e7eb-4df0-9e07-9e57c0e9f4c1",
   "metadata": {},
   "source": [
    "I'll be using the Lasso Regressor to first cut the features and then address Variance Inflation Factor scores in order to preserve significant features. I'll also proceed to use these features when constructing a model using other algorithms."
   ]
  },
  {
   "cell_type": "code",
   "execution_count": 1004,
   "id": "2a358153-7519-4e99-825a-c4e446d9dadb",
   "metadata": {},
   "outputs": [
    {
     "name": "stdout",
     "output_type": "stream",
     "text": [
      "Kept Features:  ['Age', 'GS', 'MP', 'FG', '3P', '3P%', 'FTA', 'ORB', 'AST', 'STL', 'BLK', 'TOV', 'Year', 'TS%', 'OWS', 'WS', 'OBPM', 'BPM', 'VORP', 'WL', 'SS', 'MPG', 'C', 'PF', 'PG', 'SF']\n",
      "Dropped Features:  ['G', 'FGA', 'FG%', '3PA', '2P', '2PA', '2P%', 'FT', 'FT%', 'DRB', 'TRB', 'Fouls', 'PTS', 'PER', 'USG%', 'DWS', 'WS/48', 'DBPM', 'Seed', 'SG']\n"
     ]
    }
   ],
   "source": [
    "#Constructing a pipeline to scale the features \n",
    "lasso = Pipeline([\n",
    "    (\"scaler\", StandardScaler()),\n",
    "    (\"ls\", Lasso(alpha = 0.0005, random_state = 10))\n",
    "])\n",
    "\n",
    "#Fitting the model\n",
    "feature_select = SelectFromModel(lasso).fit(X_train, y_train)\n",
    "\n",
    "#Observing the results \n",
    "coefficients = feature_select.estimator_[\"ls\"].coef_\n",
    "print(\"Kept Features: \", list(X_train.columns[coefficients != 0]))\n",
    "print(\"Dropped Features: \", list(X_train.columns[coefficients == 0]))"
   ]
  },
  {
   "cell_type": "code",
   "execution_count": 1005,
   "id": "8a580913-ef4d-4413-a5a0-65f55b9e480e",
   "metadata": {},
   "outputs": [],
   "source": [
    "kept_features = X_train.columns[coefficients != 0]\n",
    "kept_feautres.drop(\"Year\", inplace = True) #Year is not necessary to include\n",
    "X_train = X_train[kept_features]"
   ]
  },
  {
   "cell_type": "markdown",
   "id": "6839a35f-8b51-46c5-b99c-553f5a4e9377",
   "metadata": {},
   "source": [
    "## Feature Scaling"
   ]
  },
  {
   "cell_type": "markdown",
   "id": "bd6771f3-b5e7-4069-8d8d-e473222c1280",
   "metadata": {},
   "source": [
    "As seen in the previous section, I utilized StandardScaler to construct the lasso regressor model. Therefore, I'll be scaling the features in the dataset through sklearn's packages for consistency when constructing the pipeline for the test set."
   ]
  },
  {
   "cell_type": "markdown",
   "id": "b9056ff8-6def-4cc4-9a92-69ba5155e8a8",
   "metadata": {},
   "source": [
    "### Log Transformation"
   ]
  },
  {
   "cell_type": "code",
   "execution_count": 1015,
   "id": "7940e168-f192-4046-b24c-dbd1e62e60fd",
   "metadata": {},
   "outputs": [
    {
     "data": {
      "text/plain": [
       "Index(['Age', 'GS', 'MP', 'FG', '3P', '3P%', 'FTA', 'ORB', 'AST', 'STL', 'BLK',\n",
       "       'TOV', 'TS%', 'OWS', 'WS', 'OBPM', 'BPM', 'VORP', 'WL', 'SS', 'MPG',\n",
       "       'C', 'PF', 'PG', 'SF'],\n",
       "      dtype='object')"
      ]
     },
     "execution_count": 1015,
     "metadata": {},
     "output_type": "execute_result"
    }
   ],
   "source": [
    "X_train.columns"
   ]
  },
  {
   "cell_type": "markdown",
   "id": "d6407c15-3bd5-403d-b43a-55d89bdd40b4",
   "metadata": {},
   "source": [
    "Before applying standard scaler, I'll need to apply a log transformation to skewed data. I discovered in EDA that `VORP`, `OWS`, `AST`, and `BLK` are heavily skewed. However, only VORP, OWS, AST, and BLK are relevant to us now."
   ]
  },
  {
   "cell_type": "code",
   "execution_count": 1007,
   "id": "bd52f7ee-7690-40dd-b1d8-997992589679",
   "metadata": {},
   "outputs": [
    {
     "data": {
      "text/plain": [
       "VORP   -2.6\n",
       "OWS    -3.3\n",
       "AST     0.2\n",
       "BLK     0.0\n",
       "dtype: float64"
      ]
     },
     "execution_count": 1007,
     "metadata": {},
     "output_type": "execute_result"
    }
   ],
   "source": [
    "X_train[[\"VORP\", \"OWS\", \"AST\", \"BLK\"]].apply(min)"
   ]
  },
  {
   "cell_type": "code",
   "execution_count": 1008,
   "id": "e8f11c7b-4fd8-49e7-a452-9fb638417158",
   "metadata": {},
   "outputs": [],
   "source": [
    "ast = np.log(X_train[\"AST\"])\n",
    "blk = np.log(X_train[\"BLK\"] + 0.01)\n",
    "vorp = np.log(X_train[\"VORP\"] + 2.61)\n",
    "ows = np.log(X_train[\"OWS\"] + 3.31)\n",
    "\n",
    "X_train[\"VORP\"] = vorp\n",
    "X_train[\"OWS\"] = ows\n",
    "X_train[\"AST\"] = ast\n",
    "X_train[\"BLK\"] = blk"
   ]
  },
  {
   "cell_type": "code",
   "execution_count": 1009,
   "id": "43ec777f-9a7b-48aa-9e7b-298c701af6a5",
   "metadata": {},
   "outputs": [
    {
     "data": {
      "image/png": "[encoded data removed]",
      "text/plain": [
       "<Figure size 288x288 with 4 Axes>"
      ]
     },
     "metadata": {
      "needs_background": "light"
     },
     "output_type": "display_data"
    }
   ],
   "source": [
    "features = [\"VORP\", \"OWS\", \"AST\", \"BLK\"]\n",
    "\n",
    "plt.figure(figsize = (4, 4))\n",
    "for x, y in enumerate(features):\n",
    "    plt.subplot(2, 2, (x + 1))\n",
    "    sns.histplot(X_train[y], stat = \"density\")\n",
    "plt.tight_layout()"
   ]
  },
  {
   "cell_type": "code",
   "execution_count": 1016,
   "id": "4df263de-4b58-4bf2-a46b-b677d7e4a5d3",
   "metadata": {},
   "outputs": [
    {
     "name": "stdout",
     "output_type": "stream",
     "text": [
      "             min         mean         std          max\n",
      "Age    18.000000    26.637609    4.287920    43.000000\n",
      "GS      0.000000    36.814925   29.952121    82.000000\n",
      "MP    224.000000  1708.922569  723.250204  3485.000000\n",
      "FG      0.700000     5.342331    1.575484    12.900000\n",
      "3P      0.000000     1.008965    0.943315     5.500000\n",
      "3P%     0.000000     0.266908    0.161235     1.000000\n",
      "FTA     0.000000     3.390920    1.724592    12.000000\n",
      "ORB     0.100000     1.747383    1.218076     6.600000\n",
      "AST    -1.609438     0.913348    0.655128     2.509599\n",
      "STL     0.100000     1.115684    0.422691     3.100000\n",
      "BLK    -4.605170    -0.692863    1.060961     1.570697\n",
      "TOV     0.200000     2.007182    0.671626     5.700000\n",
      "TS%     0.238000     0.534173    0.049545     0.730000\n",
      "OWS    -4.605170     1.600180    0.405542     2.896464\n",
      "WS     -2.100000     3.836916    3.088760    20.300000\n",
      "OBPM   -8.800000    -0.411161    2.425413    10.300000\n",
      "BPM    -9.300000    -0.372462    2.734437    13.200000\n",
      "VORP   -4.605170     1.203598    0.386301     2.667922\n",
      "WL      0.106000     0.505155    0.151399     0.890000\n",
      "SS      1.000000   160.392934   94.013373   349.000000\n",
      "MPG     4.203125    24.478979    8.412642    43.700000\n",
      "C       0.000000     0.206538    0.404821     1.000000\n"
     ]
    }
   ],
   "source": [
    "def description(array):\n",
    "    return np.min(array), np.mean(array), np.std(array), np.max(array)\n",
    "\n",
    "output = X_train.iloc[:, :-3].apply(description).T\n",
    "output.columns = [\"min\", \"mean\", \"std\", \"max\"]\n",
    "print(output)"
   ]
  },
  {
   "cell_type": "markdown",
   "id": "5d75b7ef-c297-44f4-ad91-81380d39fd80",
   "metadata": {},
   "source": [
    "Every feature will have a standard scaler applied to it. Features that already follow a normal distribution around 0 with variance ~1 are BLK and AST. However, for convenience purposes when constructing a pipeline, we'll apply the standard scaler to every feature to avoid utilizing ColumnTransformer."
   ]
  },
  {
   "cell_type": "code",
   "execution_count": 1017,
   "id": "d896a3c8-259b-4813-83a3-e1f3d49da188",
   "metadata": {},
   "outputs": [
    {
     "data": {
      "text/plain": [
       "Index(['Age', 'GS', 'MP', 'FG', '3P', '3P%', 'FTA', 'ORB', 'AST', 'STL', 'BLK',\n",
       "       'TOV', 'TS%', 'OWS', 'WS', 'OBPM', 'BPM', 'VORP', 'WL', 'SS', 'MPG',\n",
       "       'C', 'PF', 'PG', 'SF'],\n",
       "      dtype='object')"
      ]
     },
     "execution_count": 1017,
     "metadata": {},
     "output_type": "execute_result"
    }
   ],
   "source": [
    "X_train.columns"
   ]
  },
  {
   "cell_type": "code",
   "execution_count": 1018,
   "id": "90a6b9e5-f9f0-432f-9cda-509ec0f15c4f",
   "metadata": {},
   "outputs": [
    {
     "data": {
      "text/html": [
       "<div>\n",
       "<style scoped>\n",
       "    .dataframe tbody tr th:only-of-type {\n",
       "        vertical-align: middle;\n",
       "    }\n",
       "\n",
       "    .dataframe tbody tr th {\n",
       "        vertical-align: top;\n",
       "    }\n",
       "\n",
       "    .dataframe thead th {\n",
       "        text-align: right;\n",
       "    }\n",
       "</style>\n",
       "<table border=\"1\" class=\"dataframe\">\n",
       "  <thead>\n",
       "    <tr style=\"text-align: right;\">\n",
       "      <th></th>\n",
       "      <th>Age</th>\n",
       "      <th>GS</th>\n",
       "      <th>MP</th>\n",
       "      <th>FG</th>\n",
       "      <th>3P</th>\n",
       "      <th>3P%</th>\n",
       "      <th>FTA</th>\n",
       "      <th>ORB</th>\n",
       "      <th>AST</th>\n",
       "      <th>STL</th>\n",
       "      <th>...</th>\n",
       "      <th>OBPM</th>\n",
       "      <th>BPM</th>\n",
       "      <th>VORP</th>\n",
       "      <th>WL</th>\n",
       "      <th>MPG</th>\n",
       "      <th>SS</th>\n",
       "      <th>C</th>\n",
       "      <th>PF</th>\n",
       "      <th>PG</th>\n",
       "      <th>SF</th>\n",
       "    </tr>\n",
       "  </thead>\n",
       "  <tbody>\n",
       "    <tr>\n",
       "      <th>0</th>\n",
       "      <td>-0.848339</td>\n",
       "      <td>1.508577</td>\n",
       "      <td>2.093435</td>\n",
       "      <td>0.798274</td>\n",
       "      <td>-0.751567</td>\n",
       "      <td>0.217648</td>\n",
       "      <td>1.628837</td>\n",
       "      <td>0.535777</td>\n",
       "      <td>0.282792</td>\n",
       "      <td>-0.273685</td>\n",
       "      <td>...</td>\n",
       "      <td>1.241504</td>\n",
       "      <td>0.940764</td>\n",
       "      <td>1.526857</td>\n",
       "      <td>-1.566417</td>\n",
       "      <td>1.762336</td>\n",
       "      <td>0.097701</td>\n",
       "      <td>0.0</td>\n",
       "      <td>0.0</td>\n",
       "      <td>0.0</td>\n",
       "      <td>1.0</td>\n",
       "    </tr>\n",
       "    <tr>\n",
       "      <th>1</th>\n",
       "      <td>-0.615126</td>\n",
       "      <td>1.508577</td>\n",
       "      <td>1.881890</td>\n",
       "      <td>1.369527</td>\n",
       "      <td>1.050587</td>\n",
       "      <td>0.968106</td>\n",
       "      <td>0.759067</td>\n",
       "      <td>-0.613577</td>\n",
       "      <td>0.561091</td>\n",
       "      <td>0.436053</td>\n",
       "      <td>...</td>\n",
       "      <td>2.107336</td>\n",
       "      <td>1.452753</td>\n",
       "      <td>1.888090</td>\n",
       "      <td>0.045215</td>\n",
       "      <td>1.540544</td>\n",
       "      <td>0.028736</td>\n",
       "      <td>0.0</td>\n",
       "      <td>0.0</td>\n",
       "      <td>0.0</td>\n",
       "      <td>0.0</td>\n",
       "    </tr>\n",
       "    <tr>\n",
       "      <th>2</th>\n",
       "      <td>0.550941</td>\n",
       "      <td>0.540365</td>\n",
       "      <td>-0.034459</td>\n",
       "      <td>0.734802</td>\n",
       "      <td>-1.069595</td>\n",
       "      <td>-0.619639</td>\n",
       "      <td>1.628837</td>\n",
       "      <td>-0.367287</td>\n",
       "      <td>-0.336118</td>\n",
       "      <td>-0.983424</td>\n",
       "      <td>...</td>\n",
       "      <td>-0.572620</td>\n",
       "      <td>-0.778053</td>\n",
       "      <td>-0.838648</td>\n",
       "      <td>-0.034046</td>\n",
       "      <td>-0.407598</td>\n",
       "      <td>0.126437</td>\n",
       "      <td>1.0</td>\n",
       "      <td>0.0</td>\n",
       "      <td>0.0</td>\n",
       "      <td>0.0</td>\n",
       "    </tr>\n",
       "    <tr>\n",
       "      <th>3</th>\n",
       "      <td>-0.381912</td>\n",
       "      <td>0.707298</td>\n",
       "      <td>0.680370</td>\n",
       "      <td>0.544384</td>\n",
       "      <td>-0.115513</td>\n",
       "      <td>0.261063</td>\n",
       "      <td>0.991006</td>\n",
       "      <td>-0.367287</td>\n",
       "      <td>0.561091</td>\n",
       "      <td>0.909212</td>\n",
       "      <td>...</td>\n",
       "      <td>0.664283</td>\n",
       "      <td>0.099641</td>\n",
       "      <td>0.278110</td>\n",
       "      <td>-2.127846</td>\n",
       "      <td>1.178185</td>\n",
       "      <td>0.132184</td>\n",
       "      <td>0.0</td>\n",
       "      <td>0.0</td>\n",
       "      <td>0.0</td>\n",
       "      <td>0.0</td>\n",
       "    </tr>\n",
       "    <tr>\n",
       "      <th>4</th>\n",
       "      <td>0.550941</td>\n",
       "      <td>1.508577</td>\n",
       "      <td>1.222367</td>\n",
       "      <td>0.417439</td>\n",
       "      <td>0.202515</td>\n",
       "      <td>0.738627</td>\n",
       "      <td>0.063250</td>\n",
       "      <td>-0.777770</td>\n",
       "      <td>1.289077</td>\n",
       "      <td>1.855530</td>\n",
       "      <td>...</td>\n",
       "      <td>0.870433</td>\n",
       "      <td>0.794482</td>\n",
       "      <td>1.106912</td>\n",
       "      <td>-0.516214</td>\n",
       "      <td>0.849076</td>\n",
       "      <td>0.250000</td>\n",
       "      <td>0.0</td>\n",
       "      <td>0.0</td>\n",
       "      <td>1.0</td>\n",
       "      <td>0.0</td>\n",
       "    </tr>\n",
       "  </tbody>\n",
       "</table>\n",
       "<p>5 rows × 25 columns</p>\n",
       "</div>"
      ],
      "text/plain": [
       "        Age        GS        MP        FG        3P       3P%       FTA  \\\n",
       "0 -0.848339  1.508577  2.093435  0.798274 -0.751567  0.217648  1.628837   \n",
       "1 -0.615126  1.508577  1.881890  1.369527  1.050587  0.968106  0.759067   \n",
       "2  0.550941  0.540365 -0.034459  0.734802 -1.069595 -0.619639  1.628837   \n",
       "3 -0.381912  0.707298  0.680370  0.544384 -0.115513  0.261063  0.991006   \n",
       "4  0.550941  1.508577  1.222367  0.417439  0.202515  0.738627  0.063250   \n",
       "\n",
       "        ORB       AST       STL  ...      OBPM       BPM      VORP        WL  \\\n",
       "0  0.535777  0.282792 -0.273685  ...  1.241504  0.940764  1.526857 -1.566417   \n",
       "1 -0.613577  0.561091  0.436053  ...  2.107336  1.452753  1.888090  0.045215   \n",
       "2 -0.367287 -0.336118 -0.983424  ... -0.572620 -0.778053 -0.838648 -0.034046   \n",
       "3 -0.367287  0.561091  0.909212  ...  0.664283  0.099641  0.278110 -2.127846   \n",
       "4 -0.777770  1.289077  1.855530  ...  0.870433  0.794482  1.106912 -0.516214   \n",
       "\n",
       "        MPG        SS    C   PF   PG   SF  \n",
       "0  1.762336  0.097701  0.0  0.0  0.0  1.0  \n",
       "1  1.540544  0.028736  0.0  0.0  0.0  0.0  \n",
       "2 -0.407598  0.126437  1.0  0.0  0.0  0.0  \n",
       "3  1.178185  0.132184  0.0  0.0  0.0  0.0  \n",
       "4  0.849076  0.250000  0.0  0.0  1.0  0.0  \n",
       "\n",
       "[5 rows x 25 columns]"
      ]
     },
     "execution_count": 1018,
     "metadata": {},
     "output_type": "execute_result"
    }
   ],
   "source": [
    "#instantiation\n",
    "scaler = StandardScaler()\n",
    "minmax = MinMaxScaler() #using minmax scaler for ordinal data \n",
    "\n",
    "#separating the features \n",
    "standard = ['Age', 'GS', 'MP', 'FG', '3P', '3P%', 'FTA', 'ORB', 'AST', 'STL', 'BLK', \n",
    "            'TOV', 'TS%', 'OWS', 'WS', 'OBPM', 'BPM', 'VORP', 'WL', 'MPG']\n",
    "ordinal = [\"SS\"]\n",
    "na = [\"C\", \"PF\", \"PG\", \"SF\"]\n",
    "\n",
    "#creating the columntransformer\n",
    "scaling = ColumnTransformer([\n",
    "    (\"standard\", StandardScaler(), standard),\n",
    "    (\"ordinal\", MinMaxScaler(feature_range = (0, 1)), ordinal)\n",
    "])\n",
    "\n",
    "#constructing the dataframe\n",
    "scaled = pd.DataFrame(scaling.fit_transform(X_train), columns = standard + ordinal)\n",
    "X_train = pd.concat([scaled, X_train[na]], axis = 1)\n",
    "X_train.head()"
   ]
  },
  {
   "cell_type": "markdown",
   "id": "117e312e-1d95-4f14-a591-34752a1a82c8",
   "metadata": {},
   "source": [
    "This will be the final X_train that will be used to construct the model. I will create a data pipeline to perform the above steps."
   ]
  },
  {
   "cell_type": "markdown",
   "id": "5d839713-c829-4df0-ab8c-146f481ae374",
   "metadata": {},
   "source": [
    "## Checking Target Assumptions"
   ]
  },
  {
   "cell_type": "markdown",
   "id": "e71c2502-bbf4-4a04-98b0-bad9007e1f3b",
   "metadata": {},
   "source": [
    "### Linearity"
   ]
  },
  {
   "cell_type": "markdown",
   "id": "8a81fa9b-6971-43dc-96b8-ef9101c1c472",
   "metadata": {},
   "source": [
    "The linearity between all features and the target variable can be found in EDA (part 2). However, we'll be reminded here:"
   ]
  },
  {
   "cell_type": "code",
   "execution_count": 1020,
   "id": "3884cd62-ad3d-40a0-8680-e909b28734fa",
   "metadata": {},
   "outputs": [
    {
     "data": {
      "text/plain": [
       "Age    -0.068079\n",
       "GS      0.136832\n",
       "MP      0.149412\n",
       "FG      0.361766\n",
       "3P      0.129371\n",
       "3P%     0.026287\n",
       "FTA     0.340368\n",
       "ORB     0.056747\n",
       "AST     0.165435\n",
       "STL     0.065752\n",
       "BLK     0.087800\n",
       "TOV     0.300169\n",
       "Year    0.062970\n",
       "TS%     0.286017\n",
       "OWS     0.491967\n",
       "WS      0.589773\n",
       "OBPM    0.549331\n",
       "BPM     0.617964\n",
       "VORP    0.633488\n",
       "WL      0.338711\n",
       "SS     -0.216528\n",
       "MPG     0.108589\n",
       "dtype: float64"
      ]
     },
     "execution_count": 1020,
     "metadata": {},
     "output_type": "execute_result"
    }
   ],
   "source": [
    "temp = mvp[mvp[\"Share\"] > 0]\n",
    "\n",
    "def find_corr(array):\n",
    "    return np.corrcoef(array, temp[\"Share\"])[0, 1]\n",
    "\n",
    "temp[kept_features.drop([\"C\", \"PF\", \"PG\", \"SF\"])].apply(find_corr)"
   ]
  },
  {
   "cell_type": "markdown",
   "id": "b34954f7-e1df-4f60-83cb-b52e8b9f4560",
   "metadata": {},
   "source": [
    "As we can see, many variables do not have a strong linear relationship with the target variable. Thus, I anticipate the multiple linear regression model will not have incredible accuracy. However, I will preserve these variables due to the feature selection section. We will also tune the model with backward elimination to remove insignificant features."
   ]
  },
  {
   "cell_type": "markdown",
   "id": "5d8b92ae-15e5-457b-b869-1db1fa48f9f8",
   "metadata": {},
   "source": [
    "### Multicollinearity"
   ]
  },
  {
   "cell_type": "markdown",
   "id": "9267ab47-aa54-4d89-9e35-7d8825524ff9",
   "metadata": {},
   "source": [
    "As seen in EDA, VIF scores were very high even with reduced features. Let's see if the Lasso Regressor selected features with lower multicollinearity."
   ]
  },
  {
   "cell_type": "code",
   "execution_count": 1021,
   "id": "1b1281f2-22ae-4fe7-acb9-bda24f7b2cde",
   "metadata": {},
   "outputs": [
    {
     "data": {
      "text/html": [
       "<div>\n",
       "<style scoped>\n",
       "    .dataframe tbody tr th:only-of-type {\n",
       "        vertical-align: middle;\n",
       "    }\n",
       "\n",
       "    .dataframe tbody tr th {\n",
       "        vertical-align: top;\n",
       "    }\n",
       "\n",
       "    .dataframe thead th {\n",
       "        text-align: right;\n",
       "    }\n",
       "</style>\n",
       "<table border=\"1\" class=\"dataframe\">\n",
       "  <thead>\n",
       "    <tr style=\"text-align: right;\">\n",
       "      <th></th>\n",
       "      <th>Feature</th>\n",
       "      <th>VIF</th>\n",
       "    </tr>\n",
       "  </thead>\n",
       "  <tbody>\n",
       "    <tr>\n",
       "      <th>0</th>\n",
       "      <td>Age</td>\n",
       "      <td>1.230300</td>\n",
       "    </tr>\n",
       "    <tr>\n",
       "      <th>1</th>\n",
       "      <td>GS</td>\n",
       "      <td>3.804059</td>\n",
       "    </tr>\n",
       "    <tr>\n",
       "      <th>2</th>\n",
       "      <td>MP</td>\n",
       "      <td>12.063969</td>\n",
       "    </tr>\n",
       "    <tr>\n",
       "      <th>3</th>\n",
       "      <td>FG</td>\n",
       "      <td>4.252881</td>\n",
       "    </tr>\n",
       "    <tr>\n",
       "      <th>4</th>\n",
       "      <td>3P</td>\n",
       "      <td>3.359359</td>\n",
       "    </tr>\n",
       "    <tr>\n",
       "      <th>5</th>\n",
       "      <td>3P%</td>\n",
       "      <td>2.094957</td>\n",
       "    </tr>\n",
       "    <tr>\n",
       "      <th>6</th>\n",
       "      <td>FTA</td>\n",
       "      <td>3.152130</td>\n",
       "    </tr>\n",
       "    <tr>\n",
       "      <th>7</th>\n",
       "      <td>ORB</td>\n",
       "      <td>4.896292</td>\n",
       "    </tr>\n",
       "    <tr>\n",
       "      <th>8</th>\n",
       "      <td>AST</td>\n",
       "      <td>4.936892</td>\n",
       "    </tr>\n",
       "    <tr>\n",
       "      <th>9</th>\n",
       "      <td>STL</td>\n",
       "      <td>2.191582</td>\n",
       "    </tr>\n",
       "    <tr>\n",
       "      <th>10</th>\n",
       "      <td>BLK</td>\n",
       "      <td>2.754769</td>\n",
       "    </tr>\n",
       "    <tr>\n",
       "      <th>11</th>\n",
       "      <td>TOV</td>\n",
       "      <td>3.444009</td>\n",
       "    </tr>\n",
       "    <tr>\n",
       "      <th>12</th>\n",
       "      <td>TS%</td>\n",
       "      <td>2.739240</td>\n",
       "    </tr>\n",
       "    <tr>\n",
       "      <th>13</th>\n",
       "      <td>OWS</td>\n",
       "      <td>11.684490</td>\n",
       "    </tr>\n",
       "    <tr>\n",
       "      <th>14</th>\n",
       "      <td>WS</td>\n",
       "      <td>17.380052</td>\n",
       "    </tr>\n",
       "    <tr>\n",
       "      <th>15</th>\n",
       "      <td>OBPM</td>\n",
       "      <td>27.364005</td>\n",
       "    </tr>\n",
       "    <tr>\n",
       "      <th>16</th>\n",
       "      <td>BPM</td>\n",
       "      <td>30.304636</td>\n",
       "    </tr>\n",
       "    <tr>\n",
       "      <th>17</th>\n",
       "      <td>VORP</td>\n",
       "      <td>13.761388</td>\n",
       "    </tr>\n",
       "    <tr>\n",
       "      <th>18</th>\n",
       "      <td>WL</td>\n",
       "      <td>1.737329</td>\n",
       "    </tr>\n",
       "    <tr>\n",
       "      <th>19</th>\n",
       "      <td>MPG</td>\n",
       "      <td>11.140228</td>\n",
       "    </tr>\n",
       "    <tr>\n",
       "      <th>20</th>\n",
       "      <td>SS</td>\n",
       "      <td>7.515996</td>\n",
       "    </tr>\n",
       "    <tr>\n",
       "      <th>21</th>\n",
       "      <td>C</td>\n",
       "      <td>5.005928</td>\n",
       "    </tr>\n",
       "    <tr>\n",
       "      <th>22</th>\n",
       "      <td>PF</td>\n",
       "      <td>3.021472</td>\n",
       "    </tr>\n",
       "    <tr>\n",
       "      <th>23</th>\n",
       "      <td>PG</td>\n",
       "      <td>2.726360</td>\n",
       "    </tr>\n",
       "    <tr>\n",
       "      <th>24</th>\n",
       "      <td>SF</td>\n",
       "      <td>1.967724</td>\n",
       "    </tr>\n",
       "  </tbody>\n",
       "</table>\n",
       "</div>"
      ],
      "text/plain": [
       "   Feature        VIF\n",
       "0      Age   1.230300\n",
       "1       GS   3.804059\n",
       "2       MP  12.063969\n",
       "3       FG   4.252881\n",
       "4       3P   3.359359\n",
       "5      3P%   2.094957\n",
       "6      FTA   3.152130\n",
       "7      ORB   4.896292\n",
       "8      AST   4.936892\n",
       "9      STL   2.191582\n",
       "10     BLK   2.754769\n",
       "11     TOV   3.444009\n",
       "12     TS%   2.739240\n",
       "13     OWS  11.684490\n",
       "14      WS  17.380052\n",
       "15    OBPM  27.364005\n",
       "16     BPM  30.304636\n",
       "17    VORP  13.761388\n",
       "18      WL   1.737329\n",
       "19     MPG  11.140228\n",
       "20      SS   7.515996\n",
       "21       C   5.005928\n",
       "22      PF   3.021472\n",
       "23      PG   2.726360\n",
       "24      SF   1.967724"
      ]
     },
     "execution_count": 1021,
     "metadata": {},
     "output_type": "execute_result"
    }
   ],
   "source": [
    "vf_table = pd.DataFrame()\n",
    "vf_table[\"Feature\"] = X_train.columns\n",
    "vf_table[\"VIF\"] = [variance_inflation_factor(X_train.values, x) for x in range(len(X_train.columns))]\n",
    "vf_table"
   ]
  },
  {
   "cell_type": "markdown",
   "id": "a0d0d7b5-610d-4284-bbdb-8826ba922db3",
   "metadata": {},
   "source": [
    "As we can see, through the variance inflation factor scores, there is still significant multicollinearity which will heavily impact our multiple linear regression model. However, since this is the NBA, player performance is expected to raise *all* player statistics. As a result, there is no way to significantly reduce multicollinearity to an appropriate level (VIF < 10) without removing important features in deciding the MVP. Thus, I suspect that a `Ridge Regressor`, `Random Forest`, or `Gradient-Boosted Decision Tree` algorithm would be more appropriate. However, I will still construct the linear model to explore the performance and evaluate it against other models."
   ]
  },
  {
   "cell_type": "markdown",
   "id": "bee77499-583e-43ae-abd0-5568e0cf9704",
   "metadata": {},
   "source": [
    "# 2. Model Construction"
   ]
  },
  {
   "cell_type": "markdown",
   "id": "2f013c06-4d9d-4d61-b227-38d63f7de461",
   "metadata": {},
   "source": [
    "*NOTE:* I'll construct data pipelines in sklearn to streamline the process, however I'll be displaying the code of the pre-processing through a function for transparency purposes. The pipelines will be constructed in the end when I've decided which model and hyperparameters to utilize."
   ]
  },
  {
   "cell_type": "markdown",
   "id": "af712742-4f12-4079-add7-ba7f3840f435",
   "metadata": {},
   "source": [
    "## Multiple Linear Regression"
   ]
  },
  {
   "cell_type": "markdown",
   "id": "7f114b37-2ed2-46ae-afbd-f3596e7c9b2e",
   "metadata": {},
   "source": [
    "First, I'll create a function to apply the pre-processing to new sets of data."
   ]
  },
  {
   "cell_type": "code",
   "execution_count": 1026,
   "id": "4ef31ab5-0a32-4487-aeff-2baa079ea1d0",
   "metadata": {},
   "outputs": [
    {
     "data": {
      "text/plain": [
       "Index(['Player', 'Pos', 'Tm', 'G', 'FGA', 'FG%', '3PA', '2P', '2PA', '2P%',\n",
       "       'FT', 'FT%', 'DRB', 'TRB', 'PTS', 'Year', 'PER', 'USG%', 'DWS', 'WS/48',\n",
       "       'DBPM', 'Share', 'Seed'],\n",
       "      dtype='object')"
      ]
     },
     "execution_count": 1026,
     "metadata": {},
     "output_type": "execute_result"
    }
   ],
   "source": [
    "mvp.columns[~(mvp.columns).isin(X_train.columns)]"
   ]
  },
  {
   "cell_type": "code",
   "execution_count": 1028,
   "id": "a530792f-268f-4f1b-afb1-fdb4af6a8cc2",
   "metadata": {},
   "outputs": [
    {
     "data": {
      "text/plain": [
       "Index(['Player', 'Pos', 'Age', 'Tm', 'G', 'GS', 'MP', 'FG', 'FGA', 'FG%', '3P',\n",
       "       '3PA', '3P%', '2P', '2PA', '2P%', 'FT', 'FTA', 'FT%', 'ORB', 'DRB',\n",
       "       'TRB', 'AST', 'STL', 'BLK', 'TOV', 'PF', 'PTS', 'Year', 'PER', 'TS%',\n",
       "       'USG%', 'OWS', 'DWS', 'WS', 'WS/48', 'OBPM', 'DBPM', 'BPM', 'VORP',\n",
       "       'Share', 'Seed', 'WL', 'SS', 'MPG'],\n",
       "      dtype='object')"
      ]
     },
     "execution_count": 1028,
     "metadata": {},
     "output_type": "execute_result"
    }
   ],
   "source": [
    "mvp.columns"
   ]
  },
  {
   "cell_type": "code",
   "execution_count": 1035,
   "id": "de1b2620-273b-41fe-a62c-1cae9f9b5cd4",
   "metadata": {},
   "outputs": [],
   "source": [
    "def process_data(df):\n",
    "    final_df = df.copy()\n",
    "    \n",
    "    #encoding\n",
    "    positions = ohe.transform(final_df[\"Pos\"].values.reshape(-1, 1))\n",
    "    encoded_pos = pd.DataFrame(positions, columns = ohe.categories_[0])\n",
    "    final_df.rename(columns = {\"PF\": \"Fouls\"}, inplace = True)\n",
    "    final_df = final_df.join(encoded_pos)\n",
    "\n",
    "    #dropping\n",
    "    features_to_drop = ['Pos', 'G', 'FGA', 'FG%', '3PA', '2P', '2PA', '2P%', \n",
    "                        'FT', 'FT%', 'DRB', 'TRB', 'PTS', 'Year', 'PER', 'USG%', 'DWS', \n",
    "                        'WS/48', 'DBPM', 'Seed', 'SG']\n",
    "    final_df = final_df.drop(features_to_drop, axis = 1)\n",
    "    \n",
    "    #log-transformation\n",
    "    for x in [\"VORP\", \"OWS\", \"AST\", \"BLK\"]:\n",
    "        if(np.min(df[x]) <= 0):\n",
    "            add = abs(np.min(df[x])) + 0.01\n",
    "            replacement = np.log(df[x] + add)\n",
    "        else:\n",
    "            replacement = np.log(df[x])\n",
    "        final_df[x] = replacement\n",
    "\n",
    "    #feature scaling \n",
    "    scaled = pd.DataFrame(scaling.transform(final_df), columns = standard + ordinal)\n",
    "    final_df = pd.concat([scaled, final_df[na]], axis = 1)\n",
    "    return final_df"
   ]
  },
  {
   "cell_type": "markdown",
   "id": "ec95d2db-ef61-49a4-8f9f-f0f4c9b50fd5",
   "metadata": {},
   "source": [
    "Fitting the model:"
   ]
  },
  {
   "cell_type": "code",
   "execution_count": 1032,
   "id": "1241c78a-f06c-4e57-8af8-55f629e4f83b",
   "metadata": {},
   "outputs": [
    {
     "data": {
      "text/html": [
       "<style>#sk-container-id-25 {color: black;background-color: white;}#sk-container-id-25 pre{padding: 0;}#sk-container-id-25 div.sk-toggleable {background-color: white;}#sk-container-id-25 label.sk-toggleable__label {cursor: pointer;display: block;width: 100%;margin-bottom: 0;padding: 0.3em;box-sizing: border-box;text-align: center;}#sk-container-id-25 label.sk-toggleable__label-arrow:before {content: \"▸\";float: left;margin-right: 0.25em;color: #696969;}#sk-container-id-25 label.sk-toggleable__label-arrow:hover:before {color: black;}#sk-container-id-25 div.sk-estimator:hover label.sk-toggleable__label-arrow:before {color: black;}#sk-container-id-25 div.sk-toggleable__content {max-height: 0;max-width: 0;overflow: hidden;text-align: left;background-color: #f0f8ff;}#sk-container-id-25 div.sk-toggleable__content pre {margin: 0.2em;color: black;border-radius: 0.25em;background-color: #f0f8ff;}#sk-container-id-25 input.sk-toggleable__control:checked~div.sk-toggleable__content {max-height: 200px;max-width: 100%;overflow: auto;}#sk-container-id-25 input.sk-toggleable__control:checked~label.sk-toggleable__label-arrow:before {content: \"▾\";}#sk-container-id-25 div.sk-estimator input.sk-toggleable__control:checked~label.sk-toggleable__label {background-color: #d4ebff;}#sk-container-id-25 div.sk-label input.sk-toggleable__control:checked~label.sk-toggleable__label {background-color: #d4ebff;}#sk-container-id-25 input.sk-hidden--visually {border: 0;clip: rect(1px 1px 1px 1px);clip: rect(1px, 1px, 1px, 1px);height: 1px;margin: -1px;overflow: hidden;padding: 0;position: absolute;width: 1px;}#sk-container-id-25 div.sk-estimator {font-family: monospace;background-color: #f0f8ff;border: 1px dotted black;border-radius: 0.25em;box-sizing: border-box;margin-bottom: 0.5em;}#sk-container-id-25 div.sk-estimator:hover {background-color: #d4ebff;}#sk-container-id-25 div.sk-parallel-item::after {content: \"\";width: 100%;border-bottom: 1px solid gray;flex-grow: 1;}#sk-container-id-25 div.sk-label:hover label.sk-toggleable__label {background-color: #d4ebff;}#sk-container-id-25 div.sk-serial::before {content: \"\";position: absolute;border-left: 1px solid gray;box-sizing: border-box;top: 0;bottom: 0;left: 50%;z-index: 0;}#sk-container-id-25 div.sk-serial {display: flex;flex-direction: column;align-items: center;background-color: white;padding-right: 0.2em;padding-left: 0.2em;position: relative;}#sk-container-id-25 div.sk-item {position: relative;z-index: 1;}#sk-container-id-25 div.sk-parallel {display: flex;align-items: stretch;justify-content: center;background-color: white;position: relative;}#sk-container-id-25 div.sk-item::before, #sk-container-id-25 div.sk-parallel-item::before {content: \"\";position: absolute;border-left: 1px solid gray;box-sizing: border-box;top: 0;bottom: 0;left: 50%;z-index: -1;}#sk-container-id-25 div.sk-parallel-item {display: flex;flex-direction: column;z-index: 1;position: relative;background-color: white;}#sk-container-id-25 div.sk-parallel-item:first-child::after {align-self: flex-end;width: 50%;}#sk-container-id-25 div.sk-parallel-item:last-child::after {align-self: flex-start;width: 50%;}#sk-container-id-25 div.sk-parallel-item:only-child::after {width: 0;}#sk-container-id-25 div.sk-dashed-wrapped {border: 1px dashed gray;margin: 0 0.4em 0.5em 0.4em;box-sizing: border-box;padding-bottom: 0.4em;background-color: white;}#sk-container-id-25 div.sk-label label {font-family: monospace;font-weight: bold;display: inline-block;line-height: 1.2em;}#sk-container-id-25 div.sk-label-container {text-align: center;}#sk-container-id-25 div.sk-container {/* jupyter's `normalize.less` sets `[hidden] { display: none; }` but bootstrap.min.css set `[hidden] { display: none !important; }` so we also need the `!important` here to be able to override the default hidden behavior on the sphinx rendered scikit-learn.org. See: https://github.com/scikit-learn/scikit-learn/issues/21755 */display: inline-block !important;position: relative;}#sk-container-id-25 div.sk-text-repr-fallback {display: none;}</style><div id=\"sk-container-id-25\" class=\"sk-top-container\"><div class=\"sk-text-repr-fallback\"><pre>LinearRegression()</pre><b>In a Jupyter environment, please rerun this cell to show the HTML representation or trust the notebook. <br />On GitHub, the HTML representation is unable to render, please try loading this page with nbviewer.org.</b></div><div class=\"sk-container\" hidden><div class=\"sk-item\"><div class=\"sk-estimator sk-toggleable\"><input class=\"sk-toggleable__control sk-hidden--visually\" id=\"sk-estimator-id-41\" type=\"checkbox\" checked><label for=\"sk-estimator-id-41\" class=\"sk-toggleable__label sk-toggleable__label-arrow\">LinearRegression</label><div class=\"sk-toggleable__content\"><pre>LinearRegression()</pre></div></div></div></div></div>"
      ],
      "text/plain": [
       "LinearRegression()"
      ]
     },
     "execution_count": 1032,
     "metadata": {},
     "output_type": "execute_result"
    }
   ],
   "source": [
    "linreg = LinearRegression()\n",
    "linreg.fit(X_train, y_train)"
   ]
  },
  {
   "cell_type": "code",
   "execution_count": 1036,
   "id": "6325e210-deff-4e6c-b90d-dd13956fdec3",
   "metadata": {},
   "outputs": [
    {
     "name": "stdout",
     "output_type": "stream",
     "text": [
      "2021:\n",
      "                     Players  Predicted Share\n",
      "6987            Isaac Okoro         0.527978\n",
      "6915           Nikola Jokić         0.305212\n",
      "6774  Giannis Antetokounmpo         0.256422\n",
      "6839          Stephen Curry         0.245809\n",
      "6853            Joel Embiid         0.233691\n",
      "6783           Dwayne Bacon         0.198123\n",
      "6844            Luka Dončić         0.194806\n",
      "6935         Damian Lillard         0.193526\n",
      "6997     Aleksej Pokusevski         0.191761\n",
      "7070        Zion Williamson         0.177346\n",
      "\n",
      "2022:\n",
      "                     Players  Predicted Share\n",
      "7247           Nikola Jokić         0.340194\n",
      "7085  Giannis Antetokounmpo         0.327986\n",
      "7173            Joel Embiid         0.272132\n",
      "7375            Jalen Suggs         0.233868\n",
      "7420             Trae Young         0.211446\n",
      "7163            Luka Dončić         0.195861\n",
      "7168           Kevin Durant         0.189814\n",
      "7240           LeBron James         0.189730\n",
      "7303              Ja Morant         0.171867\n",
      "7377           Jayson Tatum         0.163412\n"
     ]
    }
   ],
   "source": [
    "y_pred = linreg.predict(process_data(X_test))\n",
    "y_pred[y_pred < 0.1] = 0\n",
    "\n",
    "_2021players = mvp[mvp[\"Year\"] == 2021][\"Player\"]\n",
    "_2021 = pd.DataFrame({\"Players\": _2021players, \"Predicted Share\": y_pred[:(len(_2021players))]})\n",
    "_2022players = mvp[mvp[\"Year\"] == 2022][\"Player\"]\n",
    "_2022 = pd.DataFrame({\"Players\": _2022players, \"Predicted Share\": y_pred[(-len(_2022players)):]})\n",
    "\n",
    "print(\"2021:\\n\", _2021.sort_values(\"Predicted Share\", ascending = False).head(10))\n",
    "print(\"\\n2022:\\n\", _2022.sort_values(\"Predicted Share\", ascending = False).head(10))"
   ]
  },
  {
   "cell_type": "markdown",
   "id": "77fde685-0b22-4c0e-9635-77c5f9138b0f",
   "metadata": {},
   "source": [
    "### Determining an Error Metric"
   ]
  },
  {
   "cell_type": "markdown",
   "id": "3bda8b44-694d-4e09-8802-e7dbd4dc43fb",
   "metadata": {},
   "source": [
    "First, I'll put the actual results against the predicted results."
   ]
  },
  {
   "cell_type": "code",
   "execution_count": 1037,
   "id": "80699d8e-a234-4d91-8545-4efa9178ca87",
   "metadata": {},
   "outputs": [
    {
     "data": {
      "text/html": [
       "<div>\n",
       "<style scoped>\n",
       "    .dataframe tbody tr th:only-of-type {\n",
       "        vertical-align: middle;\n",
       "    }\n",
       "\n",
       "    .dataframe tbody tr th {\n",
       "        vertical-align: top;\n",
       "    }\n",
       "\n",
       "    .dataframe thead tr th {\n",
       "        text-align: left;\n",
       "    }\n",
       "</style>\n",
       "<table border=\"1\" class=\"dataframe\">\n",
       "  <thead>\n",
       "    <tr>\n",
       "      <th></th>\n",
       "      <th colspan=\"4\" halign=\"left\">2021</th>\n",
       "      <th colspan=\"4\" halign=\"left\">2022</th>\n",
       "    </tr>\n",
       "    <tr>\n",
       "      <th></th>\n",
       "      <th>Pred_Player</th>\n",
       "      <th>Real_Player</th>\n",
       "      <th>Pred_Share</th>\n",
       "      <th>Real_Share</th>\n",
       "      <th>Pred_Player</th>\n",
       "      <th>Real_Player</th>\n",
       "      <th>Pred_Share</th>\n",
       "      <th>Real_Share</th>\n",
       "    </tr>\n",
       "  </thead>\n",
       "  <tbody>\n",
       "    <tr>\n",
       "      <th>1</th>\n",
       "      <td>Isaac Okoro</td>\n",
       "      <td>Nikola Jokić</td>\n",
       "      <td>0.527978</td>\n",
       "      <td>0.961</td>\n",
       "      <td>Nikola Jokić</td>\n",
       "      <td>Nikola Jokić</td>\n",
       "      <td>0.340194</td>\n",
       "      <td>0.875</td>\n",
       "    </tr>\n",
       "    <tr>\n",
       "      <th>2</th>\n",
       "      <td>Nikola Jokić</td>\n",
       "      <td>Joel Embiid</td>\n",
       "      <td>0.305212</td>\n",
       "      <td>0.580</td>\n",
       "      <td>Giannis Antetokounmpo</td>\n",
       "      <td>Joel Embiid</td>\n",
       "      <td>0.327986</td>\n",
       "      <td>0.706</td>\n",
       "    </tr>\n",
       "    <tr>\n",
       "      <th>3</th>\n",
       "      <td>Giannis Antetokounmpo</td>\n",
       "      <td>Stephen Curry</td>\n",
       "      <td>0.256422</td>\n",
       "      <td>0.449</td>\n",
       "      <td>Joel Embiid</td>\n",
       "      <td>Giannis Antetokounmpo</td>\n",
       "      <td>0.272132</td>\n",
       "      <td>0.595</td>\n",
       "    </tr>\n",
       "    <tr>\n",
       "      <th>4</th>\n",
       "      <td>Stephen Curry</td>\n",
       "      <td>Giannis Antetokounmpo</td>\n",
       "      <td>0.245809</td>\n",
       "      <td>0.345</td>\n",
       "      <td>Jalen Suggs</td>\n",
       "      <td>Devin Booker</td>\n",
       "      <td>0.233868</td>\n",
       "      <td>0.216</td>\n",
       "    </tr>\n",
       "    <tr>\n",
       "      <th>5</th>\n",
       "      <td>Joel Embiid</td>\n",
       "      <td>Chris Paul</td>\n",
       "      <td>0.233691</td>\n",
       "      <td>0.138</td>\n",
       "      <td>Trae Young</td>\n",
       "      <td>Luka Dončić</td>\n",
       "      <td>0.211446</td>\n",
       "      <td>0.146</td>\n",
       "    </tr>\n",
       "    <tr>\n",
       "      <th>6</th>\n",
       "      <td>Dwayne Bacon</td>\n",
       "      <td>Luka Dončić</td>\n",
       "      <td>0.198123</td>\n",
       "      <td>0.042</td>\n",
       "      <td>Luka Dončić</td>\n",
       "      <td>Jayson Tatum</td>\n",
       "      <td>0.195861</td>\n",
       "      <td>0.043</td>\n",
       "    </tr>\n",
       "    <tr>\n",
       "      <th>7</th>\n",
       "      <td>Luka Dončić</td>\n",
       "      <td>Damian Lillard</td>\n",
       "      <td>0.194806</td>\n",
       "      <td>0.038</td>\n",
       "      <td>Kevin Durant</td>\n",
       "      <td>Ja Morant</td>\n",
       "      <td>0.189814</td>\n",
       "      <td>0.010</td>\n",
       "    </tr>\n",
       "    <tr>\n",
       "      <th>8</th>\n",
       "      <td>Damian Lillard</td>\n",
       "      <td>Julius Randle</td>\n",
       "      <td>0.193526</td>\n",
       "      <td>0.020</td>\n",
       "      <td>LeBron James</td>\n",
       "      <td>Stephen Curry</td>\n",
       "      <td>0.189730</td>\n",
       "      <td>0.004</td>\n",
       "    </tr>\n",
       "    <tr>\n",
       "      <th>9</th>\n",
       "      <td>Aleksej Pokusevski</td>\n",
       "      <td>Rudy Gobert</td>\n",
       "      <td>0.191761</td>\n",
       "      <td>0.008</td>\n",
       "      <td>Ja Morant</td>\n",
       "      <td>Chris Paul</td>\n",
       "      <td>0.171867</td>\n",
       "      <td>0.002</td>\n",
       "    </tr>\n",
       "    <tr>\n",
       "      <th>10</th>\n",
       "      <td>Zion Williamson</td>\n",
       "      <td>Russell Westbrook</td>\n",
       "      <td>0.177346</td>\n",
       "      <td>0.005</td>\n",
       "      <td>Jayson Tatum</td>\n",
       "      <td>DeMar DeRozan</td>\n",
       "      <td>0.163412</td>\n",
       "      <td>0.001</td>\n",
       "    </tr>\n",
       "  </tbody>\n",
       "</table>\n",
       "</div>"
      ],
      "text/plain": [
       "                     2021                                               \\\n",
       "              Pred_Player            Real_Player Pred_Share Real_Share   \n",
       "1             Isaac Okoro           Nikola Jokić   0.527978      0.961   \n",
       "2            Nikola Jokić            Joel Embiid   0.305212      0.580   \n",
       "3   Giannis Antetokounmpo          Stephen Curry   0.256422      0.449   \n",
       "4           Stephen Curry  Giannis Antetokounmpo   0.245809      0.345   \n",
       "5             Joel Embiid             Chris Paul   0.233691      0.138   \n",
       "6            Dwayne Bacon            Luka Dončić   0.198123      0.042   \n",
       "7             Luka Dončić         Damian Lillard   0.194806      0.038   \n",
       "8          Damian Lillard          Julius Randle   0.193526      0.020   \n",
       "9      Aleksej Pokusevski            Rudy Gobert   0.191761      0.008   \n",
       "10        Zion Williamson      Russell Westbrook   0.177346      0.005   \n",
       "\n",
       "                     2022                                               \n",
       "              Pred_Player            Real_Player Pred_Share Real_Share  \n",
       "1            Nikola Jokić           Nikola Jokić   0.340194      0.875  \n",
       "2   Giannis Antetokounmpo            Joel Embiid   0.327986      0.706  \n",
       "3             Joel Embiid  Giannis Antetokounmpo   0.272132      0.595  \n",
       "4             Jalen Suggs           Devin Booker   0.233868      0.216  \n",
       "5              Trae Young            Luka Dončić   0.211446      0.146  \n",
       "6             Luka Dončić           Jayson Tatum   0.195861      0.043  \n",
       "7            Kevin Durant              Ja Morant   0.189814      0.010  \n",
       "8            LeBron James          Stephen Curry   0.189730      0.004  \n",
       "9               Ja Morant             Chris Paul   0.171867      0.002  \n",
       "10           Jayson Tatum          DeMar DeRozan   0.163412      0.001  "
      ]
     },
     "execution_count": 1037,
     "metadata": {},
     "output_type": "execute_result"
    }
   ],
   "source": [
    "#column names\n",
    "cols = pd.MultiIndex.from_product([[2021, 2022], [\"Pred_Player\", \"Real_Player\", \"Pred_Share\", \"Real_Share\"]])\n",
    "\n",
    "#Defining function to display result comparisons (used in future as well)\n",
    "def sort_players(df, by, length): #helper function\n",
    "    return df.sort_values(by, ascending = False).head(length).copy()\n",
    "\n",
    "def display_results(predictions, award, length):\n",
    "    _2021players = award[award[\"Year\"] == 2021][\"Player\"]\n",
    "    pred_2021 = pd.DataFrame({\"Players\": _2021players, \"Predicted Share\": predictions[:(len(_2021players))]})\n",
    "    _2022players = award[award[\"Year\"] == 2022][\"Player\"]\n",
    "    pred_2022 = pd.DataFrame({\"Players\": _2022players, \"Predicted Share\": predictions[(-len(_2022players)):]})\n",
    "    \n",
    "    real_2021 = sort_players(award[award[\"Year\"] == 2021][[\"Player\", \"Share\"]], \"Share\", length)\n",
    "    pred_2021 = sort_players(pred_2021, \"Predicted Share\", length)\n",
    "    real_2021.reset_index(drop = True, inplace = True)\n",
    "    pred_2021.reset_index(drop = True, inplace = True)\n",
    "\n",
    "    df2021 = pd.concat([real_2021, pred_2021], axis = 1, ignore_index = True)\n",
    "\n",
    "    real_2022 = sort_players(award[award[\"Year\"] == 2022][[\"Player\", \"Share\"]], \"Share\", length)\n",
    "    pred_2022 = sort_players(pred_2022, \"Predicted Share\", length)\n",
    "    real_2022.reset_index(drop = True, inplace = True)\n",
    "    pred_2022.reset_index(drop = True, inplace = True)\n",
    "\n",
    "    df2022 = pd.concat([real_2022, pred_2022], axis = 1, ignore_index = True)\n",
    "    \n",
    "    output = pd.concat([df2021, df2022], axis = 1, ignore_index = True)\n",
    "    output = output[[2, 0, 3, 1, 6, 4, 7, 5]]\n",
    "    output.columns = cols\n",
    "    output.index = range(1, length + 1)\n",
    "    return output\n",
    "\n",
    "display_results(y_pred, mvp, 10)"
   ]
  },
  {
   "cell_type": "markdown",
   "id": "57c91e2b-0a9f-429b-aeef-7a841355f4ae",
   "metadata": {},
   "source": [
    "The predicted shares are no where close to the real shares in an MVP race. I suspect the amount of 0 values messes with the distribution of the target variable. Additionally, the algorithm also inherently predicts linearly, whereas in reality the shares are more exponential. Therefore, I'll be utilizing a different error metric that focuses on the relativity of a player ranking and the accuracy of predicting that a player will receive an MVP award."
   ]
  },
  {
   "cell_type": "markdown",
   "id": "05aa0717-17db-4a77-8a84-0dece21947f2",
   "metadata": {},
   "source": [
    "However, I'll still look and evaluate common error metrics"
   ]
  },
  {
   "cell_type": "code",
   "execution_count": 1038,
   "id": "b0cac4a0-6003-41ad-b678-cefd8066d330",
   "metadata": {},
   "outputs": [
    {
     "data": {
      "text/plain": [
       "0.014780319361524673"
      ]
     },
     "execution_count": 1038,
     "metadata": {},
     "output_type": "execute_result"
    }
   ],
   "source": [
    "mean_absolute_error(y_pred, y_test)"
   ]
  },
  {
   "cell_type": "code",
   "execution_count": 1039,
   "id": "a8d3cbf7-384a-4ae3-8938-5e8220448869",
   "metadata": {},
   "outputs": [
    {
     "data": {
      "text/plain": [
       "-0.02650913146024041"
      ]
     },
     "execution_count": 1039,
     "metadata": {},
     "output_type": "execute_result"
    }
   ],
   "source": [
    "cross_val_score(LinearRegression(), X_train, y_train, cv = 10, scoring = \"neg_mean_absolute_error\").mean()"
   ]
  },
  {
   "cell_type": "markdown",
   "id": "abd37d3f-0a96-497b-b5ac-b7297d8357c8",
   "metadata": {},
   "source": [
    "Seemingly, the model performs well in predicting within .05 of the shares of the real data. However, this may be a signal of overfitting. Since I'm still more concerned about the relativity of the shares, I'll create a new error metric:"
   ]
  },
  {
   "cell_type": "markdown",
   "id": "f5295fda-9b62-4384-9f30-9ea58c3c01be",
   "metadata": {},
   "source": [
    "**Custom Error Metric** "
   ]
  },
  {
   "cell_type": "markdown",
   "id": "fc0625ff-b8aa-4e9e-84e3-794ba74ef7b0",
   "metadata": {},
   "source": [
    "- 60% of the evaluation focuses on the ability to predict the relative ranking of the players that *received* MVP votes. 1 point will be awarded for being correctly ranked, 0.8 for being 1 place off, 0.6 for being 2 places off, 0.4 for being 3 places off, 0.2 for being 4 places off, and 0 for being 5 more places off.\n",
    "    - If a player had over .1 in award shares, they'll be pooled in being weighted 75% of this category. If a player received less than .1 in award shares, they'll be pooled in being weighted 25% of this category. This is a result from players receiving over .1 in award shares being more significant to me.  \n",
    "- 40% of the evaluation focuses on the ability to predict the players that did not receive MVP votes. The % of correctly predicted 0 MVP vote players will be taken."
   ]
  },
  {
   "cell_type": "code",
   "execution_count": 629,
   "id": "3a6a5131-cc82-4ddd-ba8d-a9df6ae818ab",
   "metadata": {},
   "outputs": [],
   "source": [
    "def count(lst): #helper function\n",
    "    return sum(bool(x) for x in lst) / len(lst)\n",
    "\n",
    "def custom_error(pred, year):\n",
    "    real_shares = mvp[mvp[\"Year\"] == year][[\"Player\", \"Share\"]].copy()\n",
    "    real_shares = real_shares.sort_values(\"Share\", ascending = False)\n",
    "    real_no_votes = real_shares[real_shares[\"Share\"] == 0]\n",
    "    real_shares = real_shares[real_shares[\"Share\"] > 0]\n",
    "    real_shares[\"Rank\"] = np.arange(len(real_shares)) + 1\n",
    "    \n",
    "    pred_shares = mvp[mvp[\"Year\"] == year][[\"Player\"]].copy()\n",
    "    pred_shares[\"Share\"] = pred\n",
    "    pred_shares.sort_values(\"Share\", ascending = False, inplace = True)\n",
    "    pred_shares[\"Rank\"] = np.arange(len(pred_shares)) + 1\n",
    "    \n",
    "    sum_one = 0\n",
    "    count_one = 0\n",
    "    sum_two = 0\n",
    "    count_two = 0\n",
    "    for x in real_shares[\"Player\"].values:\n",
    "        rank = real_shares[real_shares[\"Player\"] == x][\"Rank\"].values[0]\n",
    "        pred_rank = pred_shares[pred_shares[\"Player\"] == x][\"Rank\"].values[0]\n",
    "        \n",
    "        points = 1 - 0.2 * abs(rank - pred_rank) \n",
    "        if points < 0:\n",
    "            points = 0\n",
    "        \n",
    "        if real_shares[real_shares[\"Player\"] == x][\"Share\"].values[0] < 0.1:\n",
    "            sum_two += points \n",
    "            count_two += 1\n",
    "        else: \n",
    "            sum_one += points\n",
    "            count_one += 1\n",
    "        \n",
    "    relative_score = (0.75 * (sum_one / count_one)) + (0.25 * (sum_two / count_two))\n",
    "    \n",
    "    real_players = real_no_votes[\"Player\"].values\n",
    "    pred_players = pred_shares[pred_shares[\"Share\"] == 0][\"Player\"].values\n",
    "    \n",
    "    zero_score = count([player in pred_players for player in real_players])\n",
    "    \n",
    "    return (relative_score + zero_score) / 2"
   ]
  },
  {
   "cell_type": "code",
   "execution_count": 1040,
   "id": "86ab7068-b2d3-4dd7-8c44-6b8f5f7297a5",
   "metadata": {},
   "outputs": [
    {
     "data": {
      "text/plain": [
       "0.7466790021929824"
      ]
     },
     "execution_count": 1040,
     "metadata": {},
     "output_type": "execute_result"
    }
   ],
   "source": [
    "np.mean([custom_error(y_pred[:269], 2021), custom_error(y_pred[-297:], 2022)])"
   ]
  },
  {
   "cell_type": "markdown",
   "id": "18c37bf6-7ca7-4507-8388-2d134c60be0e",
   "metadata": {},
   "source": [
    "As we can see, even though I achieved an acceptable MAE score, the model does not perform accurately in the way that I would like. Therefore, I'll be exploring other algorithms to see if I can get at least a score of 0.75 using my error metric."
   ]
  },
  {
   "cell_type": "markdown",
   "id": "8263b19b-7e0f-4352-aea1-579cd4877c71",
   "metadata": {},
   "source": [
    "## Ridge Regressor"
   ]
  },
  {
   "cell_type": "markdown",
   "id": "f5ecbafe-a726-4c60-9346-13eaeced4bf2",
   "metadata": {},
   "source": [
    "I will slightly adjust the pre-processing steps for the Ridge Regressor to include more features since Ridge Regression is more resistant to Multicollinearity than the multiple linear regression model, and is naturally able to handle more features. Thus, I'll use the f-regression table I constructed earlier to add back important features. Additionally, I'll take into consider how the L1 regularization model reduced the features as Ridge will include *all* features in the formula. "
   ]
  },
  {
   "cell_type": "markdown",
   "id": "f3705894-fefb-435f-b193-ae5dc0a9848b",
   "metadata": {},
   "source": [
    "Many pre-processing steps such as standardization and encoding will remain the same."
   ]
  },
  {
   "cell_type": "code",
   "execution_count": 1045,
   "id": "23187f0c-333e-4a91-9342-3c6510330171",
   "metadata": {},
   "outputs": [
    {
     "data": {
      "text/html": [
       "<style>#sk-container-id-27 {color: black;background-color: white;}#sk-container-id-27 pre{padding: 0;}#sk-container-id-27 div.sk-toggleable {background-color: white;}#sk-container-id-27 label.sk-toggleable__label {cursor: pointer;display: block;width: 100%;margin-bottom: 0;padding: 0.3em;box-sizing: border-box;text-align: center;}#sk-container-id-27 label.sk-toggleable__label-arrow:before {content: \"▸\";float: left;margin-right: 0.25em;color: #696969;}#sk-container-id-27 label.sk-toggleable__label-arrow:hover:before {color: black;}#sk-container-id-27 div.sk-estimator:hover label.sk-toggleable__label-arrow:before {color: black;}#sk-container-id-27 div.sk-toggleable__content {max-height: 0;max-width: 0;overflow: hidden;text-align: left;background-color: #f0f8ff;}#sk-container-id-27 div.sk-toggleable__content pre {margin: 0.2em;color: black;border-radius: 0.25em;background-color: #f0f8ff;}#sk-container-id-27 input.sk-toggleable__control:checked~div.sk-toggleable__content {max-height: 200px;max-width: 100%;overflow: auto;}#sk-container-id-27 input.sk-toggleable__control:checked~label.sk-toggleable__label-arrow:before {content: \"▾\";}#sk-container-id-27 div.sk-estimator input.sk-toggleable__control:checked~label.sk-toggleable__label {background-color: #d4ebff;}#sk-container-id-27 div.sk-label input.sk-toggleable__control:checked~label.sk-toggleable__label {background-color: #d4ebff;}#sk-container-id-27 input.sk-hidden--visually {border: 0;clip: rect(1px 1px 1px 1px);clip: rect(1px, 1px, 1px, 1px);height: 1px;margin: -1px;overflow: hidden;padding: 0;position: absolute;width: 1px;}#sk-container-id-27 div.sk-estimator {font-family: monospace;background-color: #f0f8ff;border: 1px dotted black;border-radius: 0.25em;box-sizing: border-box;margin-bottom: 0.5em;}#sk-container-id-27 div.sk-estimator:hover {background-color: #d4ebff;}#sk-container-id-27 div.sk-parallel-item::after {content: \"\";width: 100%;border-bottom: 1px solid gray;flex-grow: 1;}#sk-container-id-27 div.sk-label:hover label.sk-toggleable__label {background-color: #d4ebff;}#sk-container-id-27 div.sk-serial::before {content: \"\";position: absolute;border-left: 1px solid gray;box-sizing: border-box;top: 0;bottom: 0;left: 50%;z-index: 0;}#sk-container-id-27 div.sk-serial {display: flex;flex-direction: column;align-items: center;background-color: white;padding-right: 0.2em;padding-left: 0.2em;position: relative;}#sk-container-id-27 div.sk-item {position: relative;z-index: 1;}#sk-container-id-27 div.sk-parallel {display: flex;align-items: stretch;justify-content: center;background-color: white;position: relative;}#sk-container-id-27 div.sk-item::before, #sk-container-id-27 div.sk-parallel-item::before {content: \"\";position: absolute;border-left: 1px solid gray;box-sizing: border-box;top: 0;bottom: 0;left: 50%;z-index: -1;}#sk-container-id-27 div.sk-parallel-item {display: flex;flex-direction: column;z-index: 1;position: relative;background-color: white;}#sk-container-id-27 div.sk-parallel-item:first-child::after {align-self: flex-end;width: 50%;}#sk-container-id-27 div.sk-parallel-item:last-child::after {align-self: flex-start;width: 50%;}#sk-container-id-27 div.sk-parallel-item:only-child::after {width: 0;}#sk-container-id-27 div.sk-dashed-wrapped {border: 1px dashed gray;margin: 0 0.4em 0.5em 0.4em;box-sizing: border-box;padding-bottom: 0.4em;background-color: white;}#sk-container-id-27 div.sk-label label {font-family: monospace;font-weight: bold;display: inline-block;line-height: 1.2em;}#sk-container-id-27 div.sk-label-container {text-align: center;}#sk-container-id-27 div.sk-container {/* jupyter's `normalize.less` sets `[hidden] { display: none; }` but bootstrap.min.css set `[hidden] { display: none !important; }` so we also need the `!important` here to be able to override the default hidden behavior on the sphinx rendered scikit-learn.org. See: https://github.com/scikit-learn/scikit-learn/issues/21755 */display: inline-block !important;position: relative;}#sk-container-id-27 div.sk-text-repr-fallback {display: none;}</style><div id=\"sk-container-id-27\" class=\"sk-top-container\"><div class=\"sk-text-repr-fallback\"><pre>ColumnTransformer(transformers=[(&#x27;standard&#x27;, StandardScaler(),\n",
       "                                 [&#x27;Age&#x27;, &#x27;GS&#x27;, &#x27;MP&#x27;, &#x27;FG&#x27;, &#x27;3P&#x27;, &#x27;3P%&#x27;, &#x27;ORB&#x27;,\n",
       "                                  &#x27;AST&#x27;, &#x27;STL&#x27;, &#x27;BLK&#x27;, &#x27;TOV&#x27;, &#x27;PTS&#x27;, &#x27;TS%&#x27;,\n",
       "                                  &#x27;OWS&#x27;, &#x27;WS/48&#x27;, &#x27;OBPM&#x27;, &#x27;BPM&#x27;, &#x27;VORP&#x27;, &#x27;WL&#x27;,\n",
       "                                  &#x27;MPG&#x27;]),\n",
       "                                (&#x27;ordinal&#x27;, MinMaxScaler(), [&#x27;SS&#x27;])])</pre><b>In a Jupyter environment, please rerun this cell to show the HTML representation or trust the notebook. <br />On GitHub, the HTML representation is unable to render, please try loading this page with nbviewer.org.</b></div><div class=\"sk-container\" hidden><div class=\"sk-item sk-dashed-wrapped\"><div class=\"sk-label-container\"><div class=\"sk-label sk-toggleable\"><input class=\"sk-toggleable__control sk-hidden--visually\" id=\"sk-estimator-id-47\" type=\"checkbox\" ><label for=\"sk-estimator-id-47\" class=\"sk-toggleable__label sk-toggleable__label-arrow\">ColumnTransformer</label><div class=\"sk-toggleable__content\"><pre>ColumnTransformer(transformers=[(&#x27;standard&#x27;, StandardScaler(),\n",
       "                                 [&#x27;Age&#x27;, &#x27;GS&#x27;, &#x27;MP&#x27;, &#x27;FG&#x27;, &#x27;3P&#x27;, &#x27;3P%&#x27;, &#x27;ORB&#x27;,\n",
       "                                  &#x27;AST&#x27;, &#x27;STL&#x27;, &#x27;BLK&#x27;, &#x27;TOV&#x27;, &#x27;PTS&#x27;, &#x27;TS%&#x27;,\n",
       "                                  &#x27;OWS&#x27;, &#x27;WS/48&#x27;, &#x27;OBPM&#x27;, &#x27;BPM&#x27;, &#x27;VORP&#x27;, &#x27;WL&#x27;,\n",
       "                                  &#x27;MPG&#x27;]),\n",
       "                                (&#x27;ordinal&#x27;, MinMaxScaler(), [&#x27;SS&#x27;])])</pre></div></div></div><div class=\"sk-parallel\"><div class=\"sk-parallel-item\"><div class=\"sk-item\"><div class=\"sk-label-container\"><div class=\"sk-label sk-toggleable\"><input class=\"sk-toggleable__control sk-hidden--visually\" id=\"sk-estimator-id-48\" type=\"checkbox\" ><label for=\"sk-estimator-id-48\" class=\"sk-toggleable__label sk-toggleable__label-arrow\">standard</label><div class=\"sk-toggleable__content\"><pre>[&#x27;Age&#x27;, &#x27;GS&#x27;, &#x27;MP&#x27;, &#x27;FG&#x27;, &#x27;3P&#x27;, &#x27;3P%&#x27;, &#x27;ORB&#x27;, &#x27;AST&#x27;, &#x27;STL&#x27;, &#x27;BLK&#x27;, &#x27;TOV&#x27;, &#x27;PTS&#x27;, &#x27;TS%&#x27;, &#x27;OWS&#x27;, &#x27;WS/48&#x27;, &#x27;OBPM&#x27;, &#x27;BPM&#x27;, &#x27;VORP&#x27;, &#x27;WL&#x27;, &#x27;MPG&#x27;]</pre></div></div></div><div class=\"sk-serial\"><div class=\"sk-item\"><div class=\"sk-estimator sk-toggleable\"><input class=\"sk-toggleable__control sk-hidden--visually\" id=\"sk-estimator-id-49\" type=\"checkbox\" ><label for=\"sk-estimator-id-49\" class=\"sk-toggleable__label sk-toggleable__label-arrow\">StandardScaler</label><div class=\"sk-toggleable__content\"><pre>StandardScaler()</pre></div></div></div></div></div></div><div class=\"sk-parallel-item\"><div class=\"sk-item\"><div class=\"sk-label-container\"><div class=\"sk-label sk-toggleable\"><input class=\"sk-toggleable__control sk-hidden--visually\" id=\"sk-estimator-id-50\" type=\"checkbox\" ><label for=\"sk-estimator-id-50\" class=\"sk-toggleable__label sk-toggleable__label-arrow\">ordinal</label><div class=\"sk-toggleable__content\"><pre>[&#x27;SS&#x27;]</pre></div></div></div><div class=\"sk-serial\"><div class=\"sk-item\"><div class=\"sk-estimator sk-toggleable\"><input class=\"sk-toggleable__control sk-hidden--visually\" id=\"sk-estimator-id-51\" type=\"checkbox\" ><label for=\"sk-estimator-id-51\" class=\"sk-toggleable__label sk-toggleable__label-arrow\">MinMaxScaler</label><div class=\"sk-toggleable__content\"><pre>MinMaxScaler()</pre></div></div></div></div></div></div></div></div></div></div>"
      ],
      "text/plain": [
       "ColumnTransformer(transformers=[('standard', StandardScaler(),\n",
       "                                 ['Age', 'GS', 'MP', 'FG', '3P', '3P%', 'ORB',\n",
       "                                  'AST', 'STL', 'BLK', 'TOV', 'PTS', 'TS%',\n",
       "                                  'OWS', 'WS/48', 'OBPM', 'BPM', 'VORP', 'WL',\n",
       "                                  'MPG']),\n",
       "                                ('ordinal', MinMaxScaler(), ['SS'])])"
      ]
     },
     "execution_count": 1045,
     "metadata": {},
     "output_type": "execute_result"
    }
   ],
   "source": [
    "#fitting new scaler with new variables \n",
    "X_train_ridge = X[(X[\"Year\"] != 2022) & (X[\"Year\"] != 2021)].reset_index(drop = True)\n",
    "X_train_ridge.drop([\"Player\", \"Tm\"], axis = 1, inplace = True)\n",
    "\n",
    "standard_ridge = ['Age', 'GS', 'MP', 'FG', '3P', '3P%', 'ORB', 'AST', 'STL', 'BLK', \n",
    "            'TOV', 'PTS', 'TS%', 'OWS', 'WS/48', 'OBPM', 'BPM', 'VORP', 'WL', 'MPG']\n",
    "\n",
    "scaling_ridge = ColumnTransformer([\n",
    "    (\"standard\", StandardScaler(), standard_ridge),\n",
    "    (\"ordinal\", MinMaxScaler(feature_range = (0, 1)), ordinal)\n",
    "])\n",
    "\n",
    "scaling_ridge.fit(X_train_ridge)"
   ]
  },
  {
   "cell_type": "code",
   "execution_count": 1046,
   "id": "b349979e-e7f6-416c-9da1-c8d69b118e83",
   "metadata": {},
   "outputs": [],
   "source": [
    "def process_data_ridge(df):\n",
    "    final_df = df.copy()\n",
    "    \n",
    "    #encoding\n",
    "    positions = ohe.transform(final_df[\"Pos\"].values.reshape(-1, 1))\n",
    "    encoded_pos = pd.DataFrame(positions, columns = ohe.categories_[0])\n",
    "    final_df.rename(columns = {\"PF\": \"Fouls\"}, inplace = True)\n",
    "    final_df = final_df.join(encoded_pos)\n",
    "\n",
    "    #dropping\n",
    "    features_to_drop = ['Pos', 'G', 'FGA', 'FG%', '3PA', '2P', '2PA', \n",
    "                        '2P%', 'FT', 'FTA', 'DRB', 'TRB', 'Fouls', 'Year', \n",
    "                        'PER', 'USG%', 'DWS', 'WS', 'DBPM', 'Seed', 'SG']\n",
    "    \n",
    "    final_df = final_df.drop(features_to_drop, axis = 1)\n",
    "    \n",
    "    #log-transformation\n",
    "    for x in [\"VORP\", \"OWS\", \"AST\", \"BLK\", \"FT\"]:\n",
    "        if(np.min(df[x]) <= 0):\n",
    "            add = abs(np.min(df[x])) + 0.01\n",
    "            replacement = np.log(df[x] + add)\n",
    "        else:\n",
    "            replacement = np.log(df[x])\n",
    "        final_df[x] = replacement\n",
    "\n",
    "    #feature scaling \n",
    "    scaled = pd.DataFrame(scaling_ridge.transform(final_df), columns = standard_ridge + ordinal)\n",
    "    final_df = pd.concat([scaled, final_df[na]], axis = 1)\n",
    "    return final_df"
   ]
  },
  {
   "cell_type": "markdown",
   "id": "5e02f805-7e4c-4bc7-9653-5bf265b6c347",
   "metadata": {},
   "source": [
    "Fitting the model:"
   ]
  },
  {
   "cell_type": "code",
   "execution_count": 1047,
   "id": "cfae7f5f-b44d-42a3-a8fb-62c34f90f5eb",
   "metadata": {},
   "outputs": [
    {
     "data": {
      "text/html": [
       "<div>\n",
       "<style scoped>\n",
       "    .dataframe tbody tr th:only-of-type {\n",
       "        vertical-align: middle;\n",
       "    }\n",
       "\n",
       "    .dataframe tbody tr th {\n",
       "        vertical-align: top;\n",
       "    }\n",
       "\n",
       "    .dataframe thead th {\n",
       "        text-align: right;\n",
       "    }\n",
       "</style>\n",
       "<table border=\"1\" class=\"dataframe\">\n",
       "  <thead>\n",
       "    <tr style=\"text-align: right;\">\n",
       "      <th></th>\n",
       "      <th>mean_fit_time</th>\n",
       "      <th>std_fit_time</th>\n",
       "      <th>mean_score_time</th>\n",
       "      <th>std_score_time</th>\n",
       "      <th>param_alpha</th>\n",
       "      <th>params</th>\n",
       "      <th>split0_test_score</th>\n",
       "      <th>split1_test_score</th>\n",
       "      <th>split2_test_score</th>\n",
       "      <th>mean_test_score</th>\n",
       "      <th>std_test_score</th>\n",
       "      <th>rank_test_score</th>\n",
       "    </tr>\n",
       "  </thead>\n",
       "  <tbody>\n",
       "    <tr>\n",
       "      <th>0</th>\n",
       "      <td>0.025534</td>\n",
       "      <td>0.025995</td>\n",
       "      <td>0.001966</td>\n",
       "      <td>0.000241</td>\n",
       "      <td>1</td>\n",
       "      <td>{'alpha': 1}</td>\n",
       "      <td>-0.004140</td>\n",
       "      <td>-0.003899</td>\n",
       "      <td>-0.003926</td>\n",
       "      <td>-0.003988</td>\n",
       "      <td>0.000108</td>\n",
       "      <td>10</td>\n",
       "    </tr>\n",
       "    <tr>\n",
       "      <th>1</th>\n",
       "      <td>0.002749</td>\n",
       "      <td>0.000349</td>\n",
       "      <td>0.001019</td>\n",
       "      <td>0.000056</td>\n",
       "      <td>2</td>\n",
       "      <td>{'alpha': 2}</td>\n",
       "      <td>-0.004116</td>\n",
       "      <td>-0.003905</td>\n",
       "      <td>-0.003905</td>\n",
       "      <td>-0.003976</td>\n",
       "      <td>0.000099</td>\n",
       "      <td>9</td>\n",
       "    </tr>\n",
       "    <tr>\n",
       "      <th>2</th>\n",
       "      <td>0.002750</td>\n",
       "      <td>0.001141</td>\n",
       "      <td>0.002841</td>\n",
       "      <td>0.001780</td>\n",
       "      <td>3</td>\n",
       "      <td>{'alpha': 3}</td>\n",
       "      <td>-0.004098</td>\n",
       "      <td>-0.003912</td>\n",
       "      <td>-0.003891</td>\n",
       "      <td>-0.003967</td>\n",
       "      <td>0.000093</td>\n",
       "      <td>8</td>\n",
       "    </tr>\n",
       "    <tr>\n",
       "      <th>3</th>\n",
       "      <td>0.002108</td>\n",
       "      <td>0.000110</td>\n",
       "      <td>0.001130</td>\n",
       "      <td>0.000172</td>\n",
       "      <td>4</td>\n",
       "      <td>{'alpha': 4}</td>\n",
       "      <td>-0.004084</td>\n",
       "      <td>-0.003919</td>\n",
       "      <td>-0.003882</td>\n",
       "      <td>-0.003962</td>\n",
       "      <td>0.000088</td>\n",
       "      <td>6</td>\n",
       "    </tr>\n",
       "    <tr>\n",
       "      <th>4</th>\n",
       "      <td>0.001913</td>\n",
       "      <td>0.000044</td>\n",
       "      <td>0.000925</td>\n",
       "      <td>0.000031</td>\n",
       "      <td>5</td>\n",
       "      <td>{'alpha': 5}</td>\n",
       "      <td>-0.004073</td>\n",
       "      <td>-0.003926</td>\n",
       "      <td>-0.003877</td>\n",
       "      <td>-0.003959</td>\n",
       "      <td>0.000084</td>\n",
       "      <td>4</td>\n",
       "    </tr>\n",
       "    <tr>\n",
       "      <th>5</th>\n",
       "      <td>0.002087</td>\n",
       "      <td>0.000228</td>\n",
       "      <td>0.000957</td>\n",
       "      <td>0.000043</td>\n",
       "      <td>6</td>\n",
       "      <td>{'alpha': 6}</td>\n",
       "      <td>-0.004065</td>\n",
       "      <td>-0.003933</td>\n",
       "      <td>-0.003874</td>\n",
       "      <td>-0.003957</td>\n",
       "      <td>0.000080</td>\n",
       "      <td>1</td>\n",
       "    </tr>\n",
       "    <tr>\n",
       "      <th>6</th>\n",
       "      <td>0.001961</td>\n",
       "      <td>0.000186</td>\n",
       "      <td>0.001675</td>\n",
       "      <td>0.000562</td>\n",
       "      <td>7</td>\n",
       "      <td>{'alpha': 7}</td>\n",
       "      <td>-0.004059</td>\n",
       "      <td>-0.003940</td>\n",
       "      <td>-0.003873</td>\n",
       "      <td>-0.003957</td>\n",
       "      <td>0.000077</td>\n",
       "      <td>2</td>\n",
       "    </tr>\n",
       "    <tr>\n",
       "      <th>7</th>\n",
       "      <td>0.002627</td>\n",
       "      <td>0.001359</td>\n",
       "      <td>0.000850</td>\n",
       "      <td>0.000037</td>\n",
       "      <td>8</td>\n",
       "      <td>{'alpha': 8}</td>\n",
       "      <td>-0.004054</td>\n",
       "      <td>-0.003947</td>\n",
       "      <td>-0.003874</td>\n",
       "      <td>-0.003959</td>\n",
       "      <td>0.000074</td>\n",
       "      <td>3</td>\n",
       "    </tr>\n",
       "    <tr>\n",
       "      <th>8</th>\n",
       "      <td>0.001889</td>\n",
       "      <td>0.000256</td>\n",
       "      <td>0.000846</td>\n",
       "      <td>0.000013</td>\n",
       "      <td>9</td>\n",
       "      <td>{'alpha': 9}</td>\n",
       "      <td>-0.004050</td>\n",
       "      <td>-0.003954</td>\n",
       "      <td>-0.003877</td>\n",
       "      <td>-0.003961</td>\n",
       "      <td>0.000071</td>\n",
       "      <td>5</td>\n",
       "    </tr>\n",
       "    <tr>\n",
       "      <th>9</th>\n",
       "      <td>0.001730</td>\n",
       "      <td>0.000092</td>\n",
       "      <td>0.000905</td>\n",
       "      <td>0.000073</td>\n",
       "      <td>10</td>\n",
       "      <td>{'alpha': 10}</td>\n",
       "      <td>-0.004048</td>\n",
       "      <td>-0.003961</td>\n",
       "      <td>-0.003881</td>\n",
       "      <td>-0.003963</td>\n",
       "      <td>0.000068</td>\n",
       "      <td>7</td>\n",
       "    </tr>\n",
       "  </tbody>\n",
       "</table>\n",
       "</div>"
      ],
      "text/plain": [
       "   mean_fit_time  std_fit_time  mean_score_time  std_score_time param_alpha  \\\n",
       "0       0.025534      0.025995         0.001966        0.000241           1   \n",
       "1       0.002749      0.000349         0.001019        0.000056           2   \n",
       "2       0.002750      0.001141         0.002841        0.001780           3   \n",
       "3       0.002108      0.000110         0.001130        0.000172           4   \n",
       "4       0.001913      0.000044         0.000925        0.000031           5   \n",
       "5       0.002087      0.000228         0.000957        0.000043           6   \n",
       "6       0.001961      0.000186         0.001675        0.000562           7   \n",
       "7       0.002627      0.001359         0.000850        0.000037           8   \n",
       "8       0.001889      0.000256         0.000846        0.000013           9   \n",
       "9       0.001730      0.000092         0.000905        0.000073          10   \n",
       "\n",
       "          params  split0_test_score  split1_test_score  split2_test_score  \\\n",
       "0   {'alpha': 1}          -0.004140          -0.003899          -0.003926   \n",
       "1   {'alpha': 2}          -0.004116          -0.003905          -0.003905   \n",
       "2   {'alpha': 3}          -0.004098          -0.003912          -0.003891   \n",
       "3   {'alpha': 4}          -0.004084          -0.003919          -0.003882   \n",
       "4   {'alpha': 5}          -0.004073          -0.003926          -0.003877   \n",
       "5   {'alpha': 6}          -0.004065          -0.003933          -0.003874   \n",
       "6   {'alpha': 7}          -0.004059          -0.003940          -0.003873   \n",
       "7   {'alpha': 8}          -0.004054          -0.003947          -0.003874   \n",
       "8   {'alpha': 9}          -0.004050          -0.003954          -0.003877   \n",
       "9  {'alpha': 10}          -0.004048          -0.003961          -0.003881   \n",
       "\n",
       "   mean_test_score  std_test_score  rank_test_score  \n",
       "0        -0.003988        0.000108               10  \n",
       "1        -0.003976        0.000099                9  \n",
       "2        -0.003967        0.000093                8  \n",
       "3        -0.003962        0.000088                6  \n",
       "4        -0.003959        0.000084                4  \n",
       "5        -0.003957        0.000080                1  \n",
       "6        -0.003957        0.000077                2  \n",
       "7        -0.003959        0.000074                3  \n",
       "8        -0.003961        0.000071                5  \n",
       "9        -0.003963        0.000068                7  "
      ]
     },
     "execution_count": 1047,
     "metadata": {},
     "output_type": "execute_result"
    }
   ],
   "source": [
    "#I'll be utilizing GridSearchCV to determine the best alpha level for the Ridge regressor.\n",
    "model = Ridge()\n",
    "parameters = {'alpha': np.arange(1, 11, 1)}\n",
    "ridge_reg = GridSearchCV(estimator = model, param_grid = parameters, cv = 3, scoring = \"neg_mean_squared_error\")\n",
    "ridge_reg.fit(process_data_ridge(X_train_ridge), y_train)\n",
    "pd.DataFrame(ridge_reg.cv_results_)"
   ]
  },
  {
   "cell_type": "code",
   "execution_count": 1048,
   "id": "e1013363-d0d7-4043-bf8d-00919ed5cd76",
   "metadata": {},
   "outputs": [
    {
     "data": {
      "text/html": [
       "<style>#sk-container-id-28 {color: black;background-color: white;}#sk-container-id-28 pre{padding: 0;}#sk-container-id-28 div.sk-toggleable {background-color: white;}#sk-container-id-28 label.sk-toggleable__label {cursor: pointer;display: block;width: 100%;margin-bottom: 0;padding: 0.3em;box-sizing: border-box;text-align: center;}#sk-container-id-28 label.sk-toggleable__label-arrow:before {content: \"▸\";float: left;margin-right: 0.25em;color: #696969;}#sk-container-id-28 label.sk-toggleable__label-arrow:hover:before {color: black;}#sk-container-id-28 div.sk-estimator:hover label.sk-toggleable__label-arrow:before {color: black;}#sk-container-id-28 div.sk-toggleable__content {max-height: 0;max-width: 0;overflow: hidden;text-align: left;background-color: #f0f8ff;}#sk-container-id-28 div.sk-toggleable__content pre {margin: 0.2em;color: black;border-radius: 0.25em;background-color: #f0f8ff;}#sk-container-id-28 input.sk-toggleable__control:checked~div.sk-toggleable__content {max-height: 200px;max-width: 100%;overflow: auto;}#sk-container-id-28 input.sk-toggleable__control:checked~label.sk-toggleable__label-arrow:before {content: \"▾\";}#sk-container-id-28 div.sk-estimator input.sk-toggleable__control:checked~label.sk-toggleable__label {background-color: #d4ebff;}#sk-container-id-28 div.sk-label input.sk-toggleable__control:checked~label.sk-toggleable__label {background-color: #d4ebff;}#sk-container-id-28 input.sk-hidden--visually {border: 0;clip: rect(1px 1px 1px 1px);clip: rect(1px, 1px, 1px, 1px);height: 1px;margin: -1px;overflow: hidden;padding: 0;position: absolute;width: 1px;}#sk-container-id-28 div.sk-estimator {font-family: monospace;background-color: #f0f8ff;border: 1px dotted black;border-radius: 0.25em;box-sizing: border-box;margin-bottom: 0.5em;}#sk-container-id-28 div.sk-estimator:hover {background-color: #d4ebff;}#sk-container-id-28 div.sk-parallel-item::after {content: \"\";width: 100%;border-bottom: 1px solid gray;flex-grow: 1;}#sk-container-id-28 div.sk-label:hover label.sk-toggleable__label {background-color: #d4ebff;}#sk-container-id-28 div.sk-serial::before {content: \"\";position: absolute;border-left: 1px solid gray;box-sizing: border-box;top: 0;bottom: 0;left: 50%;z-index: 0;}#sk-container-id-28 div.sk-serial {display: flex;flex-direction: column;align-items: center;background-color: white;padding-right: 0.2em;padding-left: 0.2em;position: relative;}#sk-container-id-28 div.sk-item {position: relative;z-index: 1;}#sk-container-id-28 div.sk-parallel {display: flex;align-items: stretch;justify-content: center;background-color: white;position: relative;}#sk-container-id-28 div.sk-item::before, #sk-container-id-28 div.sk-parallel-item::before {content: \"\";position: absolute;border-left: 1px solid gray;box-sizing: border-box;top: 0;bottom: 0;left: 50%;z-index: -1;}#sk-container-id-28 div.sk-parallel-item {display: flex;flex-direction: column;z-index: 1;position: relative;background-color: white;}#sk-container-id-28 div.sk-parallel-item:first-child::after {align-self: flex-end;width: 50%;}#sk-container-id-28 div.sk-parallel-item:last-child::after {align-self: flex-start;width: 50%;}#sk-container-id-28 div.sk-parallel-item:only-child::after {width: 0;}#sk-container-id-28 div.sk-dashed-wrapped {border: 1px dashed gray;margin: 0 0.4em 0.5em 0.4em;box-sizing: border-box;padding-bottom: 0.4em;background-color: white;}#sk-container-id-28 div.sk-label label {font-family: monospace;font-weight: bold;display: inline-block;line-height: 1.2em;}#sk-container-id-28 div.sk-label-container {text-align: center;}#sk-container-id-28 div.sk-container {/* jupyter's `normalize.less` sets `[hidden] { display: none; }` but bootstrap.min.css set `[hidden] { display: none !important; }` so we also need the `!important` here to be able to override the default hidden behavior on the sphinx rendered scikit-learn.org. See: https://github.com/scikit-learn/scikit-learn/issues/21755 */display: inline-block !important;position: relative;}#sk-container-id-28 div.sk-text-repr-fallback {display: none;}</style><div id=\"sk-container-id-28\" class=\"sk-top-container\"><div class=\"sk-text-repr-fallback\"><pre>Ridge(alpha=6)</pre><b>In a Jupyter environment, please rerun this cell to show the HTML representation or trust the notebook. <br />On GitHub, the HTML representation is unable to render, please try loading this page with nbviewer.org.</b></div><div class=\"sk-container\" hidden><div class=\"sk-item\"><div class=\"sk-estimator sk-toggleable\"><input class=\"sk-toggleable__control sk-hidden--visually\" id=\"sk-estimator-id-52\" type=\"checkbox\" checked><label for=\"sk-estimator-id-52\" class=\"sk-toggleable__label sk-toggleable__label-arrow\">Ridge</label><div class=\"sk-toggleable__content\"><pre>Ridge(alpha=6)</pre></div></div></div></div></div>"
      ],
      "text/plain": [
       "Ridge(alpha=6)"
      ]
     },
     "execution_count": 1048,
     "metadata": {},
     "output_type": "execute_result"
    }
   ],
   "source": [
    "ridgereg = ridge_reg.best_estimator_\n",
    "ridgereg.fit(process_data_ridge(X_train_ridge), y_train)"
   ]
  },
  {
   "cell_type": "code",
   "execution_count": 1049,
   "id": "88449b78-8236-435a-b346-507e56d5c1b1",
   "metadata": {},
   "outputs": [
    {
     "data": {
      "text/html": [
       "<div>\n",
       "<style scoped>\n",
       "    .dataframe tbody tr th:only-of-type {\n",
       "        vertical-align: middle;\n",
       "    }\n",
       "\n",
       "    .dataframe tbody tr th {\n",
       "        vertical-align: top;\n",
       "    }\n",
       "\n",
       "    .dataframe thead tr th {\n",
       "        text-align: left;\n",
       "    }\n",
       "</style>\n",
       "<table border=\"1\" class=\"dataframe\">\n",
       "  <thead>\n",
       "    <tr>\n",
       "      <th></th>\n",
       "      <th colspan=\"4\" halign=\"left\">2021</th>\n",
       "      <th colspan=\"4\" halign=\"left\">2022</th>\n",
       "    </tr>\n",
       "    <tr>\n",
       "      <th></th>\n",
       "      <th>Pred_Player</th>\n",
       "      <th>Real_Player</th>\n",
       "      <th>Pred_Share</th>\n",
       "      <th>Real_Share</th>\n",
       "      <th>Pred_Player</th>\n",
       "      <th>Real_Player</th>\n",
       "      <th>Pred_Share</th>\n",
       "      <th>Real_Share</th>\n",
       "    </tr>\n",
       "  </thead>\n",
       "  <tbody>\n",
       "    <tr>\n",
       "      <th>1</th>\n",
       "      <td>Joel Embiid</td>\n",
       "      <td>Nikola Jokić</td>\n",
       "      <td>0.252451</td>\n",
       "      <td>0.961</td>\n",
       "      <td>Giannis Antetokounmpo</td>\n",
       "      <td>Nikola Jokić</td>\n",
       "      <td>0.301906</td>\n",
       "      <td>0.875</td>\n",
       "    </tr>\n",
       "    <tr>\n",
       "      <th>2</th>\n",
       "      <td>Giannis Antetokounmpo</td>\n",
       "      <td>Joel Embiid</td>\n",
       "      <td>0.250273</td>\n",
       "      <td>0.580</td>\n",
       "      <td>Nikola Jokić</td>\n",
       "      <td>Joel Embiid</td>\n",
       "      <td>0.284145</td>\n",
       "      <td>0.706</td>\n",
       "    </tr>\n",
       "    <tr>\n",
       "      <th>3</th>\n",
       "      <td>Stephen Curry</td>\n",
       "      <td>Stephen Curry</td>\n",
       "      <td>0.244205</td>\n",
       "      <td>0.449</td>\n",
       "      <td>Joel Embiid</td>\n",
       "      <td>Giannis Antetokounmpo</td>\n",
       "      <td>0.253574</td>\n",
       "      <td>0.595</td>\n",
       "    </tr>\n",
       "    <tr>\n",
       "      <th>4</th>\n",
       "      <td>Nikola Jokić</td>\n",
       "      <td>Giannis Antetokounmpo</td>\n",
       "      <td>0.233459</td>\n",
       "      <td>0.345</td>\n",
       "      <td>Luka Dončić</td>\n",
       "      <td>Devin Booker</td>\n",
       "      <td>0.221272</td>\n",
       "      <td>0.216</td>\n",
       "    </tr>\n",
       "    <tr>\n",
       "      <th>5</th>\n",
       "      <td>Luka Dončić</td>\n",
       "      <td>Chris Paul</td>\n",
       "      <td>0.214589</td>\n",
       "      <td>0.138</td>\n",
       "      <td>Trae Young</td>\n",
       "      <td>Luka Dončić</td>\n",
       "      <td>0.206674</td>\n",
       "      <td>0.146</td>\n",
       "    </tr>\n",
       "    <tr>\n",
       "      <th>6</th>\n",
       "      <td>LeBron James</td>\n",
       "      <td>Luka Dončić</td>\n",
       "      <td>0.184726</td>\n",
       "      <td>0.042</td>\n",
       "      <td>Kevin Durant</td>\n",
       "      <td>Jayson Tatum</td>\n",
       "      <td>0.196501</td>\n",
       "      <td>0.043</td>\n",
       "    </tr>\n",
       "    <tr>\n",
       "      <th>7</th>\n",
       "      <td>Damian Lillard</td>\n",
       "      <td>Damian Lillard</td>\n",
       "      <td>0.170559</td>\n",
       "      <td>0.038</td>\n",
       "      <td>LeBron James</td>\n",
       "      <td>Ja Morant</td>\n",
       "      <td>0.189604</td>\n",
       "      <td>0.010</td>\n",
       "    </tr>\n",
       "    <tr>\n",
       "      <th>8</th>\n",
       "      <td>Trae Young</td>\n",
       "      <td>Julius Randle</td>\n",
       "      <td>0.168492</td>\n",
       "      <td>0.020</td>\n",
       "      <td>Ja Morant</td>\n",
       "      <td>Stephen Curry</td>\n",
       "      <td>0.189329</td>\n",
       "      <td>0.004</td>\n",
       "    </tr>\n",
       "    <tr>\n",
       "      <th>9</th>\n",
       "      <td>Isaac Okoro</td>\n",
       "      <td>Rudy Gobert</td>\n",
       "      <td>0.167185</td>\n",
       "      <td>0.008</td>\n",
       "      <td>Donovan Mitchell</td>\n",
       "      <td>Chris Paul</td>\n",
       "      <td>0.153713</td>\n",
       "      <td>0.002</td>\n",
       "    </tr>\n",
       "    <tr>\n",
       "      <th>10</th>\n",
       "      <td>Zion Williamson</td>\n",
       "      <td>Russell Westbrook</td>\n",
       "      <td>0.164304</td>\n",
       "      <td>0.005</td>\n",
       "      <td>Jayson Tatum</td>\n",
       "      <td>DeMar DeRozan</td>\n",
       "      <td>0.150725</td>\n",
       "      <td>0.001</td>\n",
       "    </tr>\n",
       "  </tbody>\n",
       "</table>\n",
       "</div>"
      ],
      "text/plain": [
       "                     2021                                               \\\n",
       "              Pred_Player            Real_Player Pred_Share Real_Share   \n",
       "1             Joel Embiid           Nikola Jokić   0.252451      0.961   \n",
       "2   Giannis Antetokounmpo            Joel Embiid   0.250273      0.580   \n",
       "3           Stephen Curry          Stephen Curry   0.244205      0.449   \n",
       "4            Nikola Jokić  Giannis Antetokounmpo   0.233459      0.345   \n",
       "5             Luka Dončić             Chris Paul   0.214589      0.138   \n",
       "6            LeBron James            Luka Dončić   0.184726      0.042   \n",
       "7          Damian Lillard         Damian Lillard   0.170559      0.038   \n",
       "8              Trae Young          Julius Randle   0.168492      0.020   \n",
       "9             Isaac Okoro            Rudy Gobert   0.167185      0.008   \n",
       "10        Zion Williamson      Russell Westbrook   0.164304      0.005   \n",
       "\n",
       "                     2022                                               \n",
       "              Pred_Player            Real_Player Pred_Share Real_Share  \n",
       "1   Giannis Antetokounmpo           Nikola Jokić   0.301906      0.875  \n",
       "2            Nikola Jokić            Joel Embiid   0.284145      0.706  \n",
       "3             Joel Embiid  Giannis Antetokounmpo   0.253574      0.595  \n",
       "4             Luka Dončić           Devin Booker   0.221272      0.216  \n",
       "5              Trae Young            Luka Dončić   0.206674      0.146  \n",
       "6            Kevin Durant           Jayson Tatum   0.196501      0.043  \n",
       "7            LeBron James              Ja Morant   0.189604      0.010  \n",
       "8               Ja Morant          Stephen Curry   0.189329      0.004  \n",
       "9        Donovan Mitchell             Chris Paul   0.153713      0.002  \n",
       "10           Jayson Tatum          DeMar DeRozan   0.150725      0.001  "
      ]
     },
     "execution_count": 1049,
     "metadata": {},
     "output_type": "execute_result"
    }
   ],
   "source": [
    "y_pred_ridge = ridgereg.predict(process_data_ridge(X_test))\n",
    "y_pred_ridge[y_pred_ridge < 0.1] = 0\n",
    "\n",
    "display_results(y_pred_ridge, mvp, 10)"
   ]
  },
  {
   "cell_type": "code",
   "execution_count": 1050,
   "id": "ade8846d-650e-4a5a-a78e-6c8b6356d15f",
   "metadata": {},
   "outputs": [
    {
     "name": "stdout",
     "output_type": "stream",
     "text": [
      "0.01188279087366445\n",
      "-0.02647333154211916\n"
     ]
    }
   ],
   "source": [
    "print(mean_absolute_error(y_pred_ridge, y_test))\n",
    "print(cross_val_score(Ridge(alpha = 4), process_data_ridge(X_train_ridge), y_train, \n",
    "                cv = 10, scoring = \"neg_mean_absolute_error\").mean())"
   ]
  },
  {
   "cell_type": "markdown",
   "id": "89cae767-e82f-454e-bc98-2a649b1a5997",
   "metadata": {},
   "source": [
    "The model performs similarly to the multiple regression model utilizing the mean absolute error statistic, however let's measure using my custom error metric."
   ]
  },
  {
   "cell_type": "code",
   "execution_count": 1051,
   "id": "bc7b1faa-0a1a-4110-a019-7cf329a565a4",
   "metadata": {},
   "outputs": [
    {
     "name": "stdout",
     "output_type": "stream",
     "text": [
      "2021 Accuracy:  0.7271875000000001\n",
      "2022 Accuracy:  0.7518796992481203\n",
      "Combined:  0.7395335996240602\n"
     ]
    }
   ],
   "source": [
    "print(\"2021 Accuracy: \", custom_error(y_pred_ridge[:269], 2021))\n",
    "print(\"2022 Accuracy: \", custom_error(y_pred_ridge[-297:], 2022))\n",
    "print(\"Combined: \", np.mean([custom_error(y_pred_ridge[:269], 2021), custom_error(y_pred_ridge[-297:], 2022)]))"
   ]
  },
  {
   "cell_type": "markdown",
   "id": "fc9dbcbb-41a0-478e-b09f-eb4d3aec69f2",
   "metadata": {},
   "source": [
    "As we can see, the model did perform slightly better than the linear regression model. However, let's see if we can better results with other algorithms."
   ]
  },
  {
   "cell_type": "markdown",
   "id": "b642b820-d5c6-4909-a0ea-1d4d359e110c",
   "metadata": {},
   "source": [
    "## Support Vector Regressor"
   ]
  },
  {
   "cell_type": "code",
   "execution_count": 1052,
   "id": "c33486b4-f951-45a2-90bd-736117aecad8",
   "metadata": {},
   "outputs": [
    {
     "data": {
      "text/plain": [
       "{'C': 1, 'degree': 2, 'epsilon': 0.1, 'kernel': 'poly'}"
      ]
     },
     "execution_count": 1052,
     "metadata": {},
     "output_type": "execute_result"
    }
   ],
   "source": [
    "model = SVR()\n",
    "param_grid = {\"kernel\": (\"linear\", \"rbf\", \"poly\"), \"C\": (1, 1.5, 2), \"epsilon\": (0.1, 0.25, 0.5), \"degree\": (1,2,3,4)}\n",
    "svr_model = GridSearchCV(model, param_grid, scoring = \"neg_mean_squared_error\")\n",
    "svr_model.fit(X_train, y_train)\n",
    "svr_model.best_params_"
   ]
  },
  {
   "cell_type": "code",
   "execution_count": 1053,
   "id": "1984a4b8-8ecc-4aa6-ae22-1e9127daba8b",
   "metadata": {},
   "outputs": [
    {
     "data": {
      "text/html": [
       "<style>#sk-container-id-29 {color: black;background-color: white;}#sk-container-id-29 pre{padding: 0;}#sk-container-id-29 div.sk-toggleable {background-color: white;}#sk-container-id-29 label.sk-toggleable__label {cursor: pointer;display: block;width: 100%;margin-bottom: 0;padding: 0.3em;box-sizing: border-box;text-align: center;}#sk-container-id-29 label.sk-toggleable__label-arrow:before {content: \"▸\";float: left;margin-right: 0.25em;color: #696969;}#sk-container-id-29 label.sk-toggleable__label-arrow:hover:before {color: black;}#sk-container-id-29 div.sk-estimator:hover label.sk-toggleable__label-arrow:before {color: black;}#sk-container-id-29 div.sk-toggleable__content {max-height: 0;max-width: 0;overflow: hidden;text-align: left;background-color: #f0f8ff;}#sk-container-id-29 div.sk-toggleable__content pre {margin: 0.2em;color: black;border-radius: 0.25em;background-color: #f0f8ff;}#sk-container-id-29 input.sk-toggleable__control:checked~div.sk-toggleable__content {max-height: 200px;max-width: 100%;overflow: auto;}#sk-container-id-29 input.sk-toggleable__control:checked~label.sk-toggleable__label-arrow:before {content: \"▾\";}#sk-container-id-29 div.sk-estimator input.sk-toggleable__control:checked~label.sk-toggleable__label {background-color: #d4ebff;}#sk-container-id-29 div.sk-label input.sk-toggleable__control:checked~label.sk-toggleable__label {background-color: #d4ebff;}#sk-container-id-29 input.sk-hidden--visually {border: 0;clip: rect(1px 1px 1px 1px);clip: rect(1px, 1px, 1px, 1px);height: 1px;margin: -1px;overflow: hidden;padding: 0;position: absolute;width: 1px;}#sk-container-id-29 div.sk-estimator {font-family: monospace;background-color: #f0f8ff;border: 1px dotted black;border-radius: 0.25em;box-sizing: border-box;margin-bottom: 0.5em;}#sk-container-id-29 div.sk-estimator:hover {background-color: #d4ebff;}#sk-container-id-29 div.sk-parallel-item::after {content: \"\";width: 100%;border-bottom: 1px solid gray;flex-grow: 1;}#sk-container-id-29 div.sk-label:hover label.sk-toggleable__label {background-color: #d4ebff;}#sk-container-id-29 div.sk-serial::before {content: \"\";position: absolute;border-left: 1px solid gray;box-sizing: border-box;top: 0;bottom: 0;left: 50%;z-index: 0;}#sk-container-id-29 div.sk-serial {display: flex;flex-direction: column;align-items: center;background-color: white;padding-right: 0.2em;padding-left: 0.2em;position: relative;}#sk-container-id-29 div.sk-item {position: relative;z-index: 1;}#sk-container-id-29 div.sk-parallel {display: flex;align-items: stretch;justify-content: center;background-color: white;position: relative;}#sk-container-id-29 div.sk-item::before, #sk-container-id-29 div.sk-parallel-item::before {content: \"\";position: absolute;border-left: 1px solid gray;box-sizing: border-box;top: 0;bottom: 0;left: 50%;z-index: -1;}#sk-container-id-29 div.sk-parallel-item {display: flex;flex-direction: column;z-index: 1;position: relative;background-color: white;}#sk-container-id-29 div.sk-parallel-item:first-child::after {align-self: flex-end;width: 50%;}#sk-container-id-29 div.sk-parallel-item:last-child::after {align-self: flex-start;width: 50%;}#sk-container-id-29 div.sk-parallel-item:only-child::after {width: 0;}#sk-container-id-29 div.sk-dashed-wrapped {border: 1px dashed gray;margin: 0 0.4em 0.5em 0.4em;box-sizing: border-box;padding-bottom: 0.4em;background-color: white;}#sk-container-id-29 div.sk-label label {font-family: monospace;font-weight: bold;display: inline-block;line-height: 1.2em;}#sk-container-id-29 div.sk-label-container {text-align: center;}#sk-container-id-29 div.sk-container {/* jupyter's `normalize.less` sets `[hidden] { display: none; }` but bootstrap.min.css set `[hidden] { display: none !important; }` so we also need the `!important` here to be able to override the default hidden behavior on the sphinx rendered scikit-learn.org. See: https://github.com/scikit-learn/scikit-learn/issues/21755 */display: inline-block !important;position: relative;}#sk-container-id-29 div.sk-text-repr-fallback {display: none;}</style><div id=\"sk-container-id-29\" class=\"sk-top-container\"><div class=\"sk-text-repr-fallback\"><pre>SVR(C=1, degree=2, kernel=&#x27;poly&#x27;)</pre><b>In a Jupyter environment, please rerun this cell to show the HTML representation or trust the notebook. <br />On GitHub, the HTML representation is unable to render, please try loading this page with nbviewer.org.</b></div><div class=\"sk-container\" hidden><div class=\"sk-item\"><div class=\"sk-estimator sk-toggleable\"><input class=\"sk-toggleable__control sk-hidden--visually\" id=\"sk-estimator-id-53\" type=\"checkbox\" checked><label for=\"sk-estimator-id-53\" class=\"sk-toggleable__label sk-toggleable__label-arrow\">SVR</label><div class=\"sk-toggleable__content\"><pre>SVR(C=1, degree=2, kernel=&#x27;poly&#x27;)</pre></div></div></div></div></div>"
      ],
      "text/plain": [
       "SVR(C=1, degree=2, kernel='poly')"
      ]
     },
     "execution_count": 1053,
     "metadata": {},
     "output_type": "execute_result"
    }
   ],
   "source": [
    "svr = SVR(kernel = \"poly\", epsilon = 0.1, degree = 2, C = 1)\n",
    "svr.fit(X_train, y_train)"
   ]
  },
  {
   "cell_type": "code",
   "execution_count": 1055,
   "id": "9cae53cf-eca3-4d16-b707-0664247adcfd",
   "metadata": {},
   "outputs": [
    {
     "data": {
      "text/html": [
       "<div>\n",
       "<style scoped>\n",
       "    .dataframe tbody tr th:only-of-type {\n",
       "        vertical-align: middle;\n",
       "    }\n",
       "\n",
       "    .dataframe tbody tr th {\n",
       "        vertical-align: top;\n",
       "    }\n",
       "\n",
       "    .dataframe thead tr th {\n",
       "        text-align: left;\n",
       "    }\n",
       "</style>\n",
       "<table border=\"1\" class=\"dataframe\">\n",
       "  <thead>\n",
       "    <tr>\n",
       "      <th></th>\n",
       "      <th colspan=\"4\" halign=\"left\">2021</th>\n",
       "      <th colspan=\"4\" halign=\"left\">2022</th>\n",
       "    </tr>\n",
       "    <tr>\n",
       "      <th></th>\n",
       "      <th>Pred_Player</th>\n",
       "      <th>Real_Player</th>\n",
       "      <th>Pred_Share</th>\n",
       "      <th>Real_Share</th>\n",
       "      <th>Pred_Player</th>\n",
       "      <th>Real_Player</th>\n",
       "      <th>Pred_Share</th>\n",
       "      <th>Real_Share</th>\n",
       "    </tr>\n",
       "  </thead>\n",
       "  <tbody>\n",
       "    <tr>\n",
       "      <th>1</th>\n",
       "      <td>Nikola Jokić</td>\n",
       "      <td>Nikola Jokić</td>\n",
       "      <td>0.630804</td>\n",
       "      <td>0.961</td>\n",
       "      <td>Nikola Jokić</td>\n",
       "      <td>Nikola Jokić</td>\n",
       "      <td>0.768024</td>\n",
       "      <td>0.875</td>\n",
       "    </tr>\n",
       "    <tr>\n",
       "      <th>2</th>\n",
       "      <td>Giannis Antetokounmpo</td>\n",
       "      <td>Joel Embiid</td>\n",
       "      <td>0.382409</td>\n",
       "      <td>0.580</td>\n",
       "      <td>Giannis Antetokounmpo</td>\n",
       "      <td>Joel Embiid</td>\n",
       "      <td>0.574513</td>\n",
       "      <td>0.706</td>\n",
       "    </tr>\n",
       "    <tr>\n",
       "      <th>3</th>\n",
       "      <td>Joel Embiid</td>\n",
       "      <td>Stephen Curry</td>\n",
       "      <td>0.193194</td>\n",
       "      <td>0.449</td>\n",
       "      <td>Joel Embiid</td>\n",
       "      <td>Giannis Antetokounmpo</td>\n",
       "      <td>0.284948</td>\n",
       "      <td>0.595</td>\n",
       "    </tr>\n",
       "    <tr>\n",
       "      <th>4</th>\n",
       "      <td>Luka Dončić</td>\n",
       "      <td>Giannis Antetokounmpo</td>\n",
       "      <td>0.157617</td>\n",
       "      <td>0.345</td>\n",
       "      <td>LeBron James</td>\n",
       "      <td>Devin Booker</td>\n",
       "      <td>0.224052</td>\n",
       "      <td>0.216</td>\n",
       "    </tr>\n",
       "    <tr>\n",
       "      <th>5</th>\n",
       "      <td>Zion Williamson</td>\n",
       "      <td>Chris Paul</td>\n",
       "      <td>0.126374</td>\n",
       "      <td>0.138</td>\n",
       "      <td>Luka Dončić</td>\n",
       "      <td>Luka Dončić</td>\n",
       "      <td>0.198975</td>\n",
       "      <td>0.146</td>\n",
       "    </tr>\n",
       "    <tr>\n",
       "      <th>6</th>\n",
       "      <td>Stephen Curry</td>\n",
       "      <td>Luka Dončić</td>\n",
       "      <td>0.122521</td>\n",
       "      <td>0.042</td>\n",
       "      <td>Kevin Durant</td>\n",
       "      <td>Jayson Tatum</td>\n",
       "      <td>0.168634</td>\n",
       "      <td>0.043</td>\n",
       "    </tr>\n",
       "    <tr>\n",
       "      <th>7</th>\n",
       "      <td>Bradley Beal</td>\n",
       "      <td>Damian Lillard</td>\n",
       "      <td>0.112578</td>\n",
       "      <td>0.038</td>\n",
       "      <td>Trae Young</td>\n",
       "      <td>Ja Morant</td>\n",
       "      <td>0.158264</td>\n",
       "      <td>0.010</td>\n",
       "    </tr>\n",
       "    <tr>\n",
       "      <th>8</th>\n",
       "      <td>Kawhi Leonard</td>\n",
       "      <td>Julius Randle</td>\n",
       "      <td>0.104709</td>\n",
       "      <td>0.020</td>\n",
       "      <td>Ja Morant</td>\n",
       "      <td>Stephen Curry</td>\n",
       "      <td>0.139961</td>\n",
       "      <td>0.004</td>\n",
       "    </tr>\n",
       "    <tr>\n",
       "      <th>9</th>\n",
       "      <td>Trae Young</td>\n",
       "      <td>Rudy Gobert</td>\n",
       "      <td>0.097874</td>\n",
       "      <td>0.008</td>\n",
       "      <td>Jayson Tatum</td>\n",
       "      <td>Chris Paul</td>\n",
       "      <td>0.128496</td>\n",
       "      <td>0.002</td>\n",
       "    </tr>\n",
       "    <tr>\n",
       "      <th>10</th>\n",
       "      <td>Julius Randle</td>\n",
       "      <td>Russell Westbrook</td>\n",
       "      <td>0.083160</td>\n",
       "      <td>0.005</td>\n",
       "      <td>Donovan Mitchell</td>\n",
       "      <td>DeMar DeRozan</td>\n",
       "      <td>0.116108</td>\n",
       "      <td>0.001</td>\n",
       "    </tr>\n",
       "  </tbody>\n",
       "</table>\n",
       "</div>"
      ],
      "text/plain": [
       "                     2021                                               \\\n",
       "              Pred_Player            Real_Player Pred_Share Real_Share   \n",
       "1            Nikola Jokić           Nikola Jokić   0.630804      0.961   \n",
       "2   Giannis Antetokounmpo            Joel Embiid   0.382409      0.580   \n",
       "3             Joel Embiid          Stephen Curry   0.193194      0.449   \n",
       "4             Luka Dončić  Giannis Antetokounmpo   0.157617      0.345   \n",
       "5         Zion Williamson             Chris Paul   0.126374      0.138   \n",
       "6           Stephen Curry            Luka Dončić   0.122521      0.042   \n",
       "7            Bradley Beal         Damian Lillard   0.112578      0.038   \n",
       "8           Kawhi Leonard          Julius Randle   0.104709      0.020   \n",
       "9              Trae Young            Rudy Gobert   0.097874      0.008   \n",
       "10          Julius Randle      Russell Westbrook   0.083160      0.005   \n",
       "\n",
       "                     2022                                               \n",
       "              Pred_Player            Real_Player Pred_Share Real_Share  \n",
       "1            Nikola Jokić           Nikola Jokić   0.768024      0.875  \n",
       "2   Giannis Antetokounmpo            Joel Embiid   0.574513      0.706  \n",
       "3             Joel Embiid  Giannis Antetokounmpo   0.284948      0.595  \n",
       "4            LeBron James           Devin Booker   0.224052      0.216  \n",
       "5             Luka Dončić            Luka Dončić   0.198975      0.146  \n",
       "6            Kevin Durant           Jayson Tatum   0.168634      0.043  \n",
       "7              Trae Young              Ja Morant   0.158264      0.010  \n",
       "8               Ja Morant          Stephen Curry   0.139961      0.004  \n",
       "9            Jayson Tatum             Chris Paul   0.128496      0.002  \n",
       "10       Donovan Mitchell          DeMar DeRozan   0.116108      0.001  "
      ]
     },
     "execution_count": 1055,
     "metadata": {},
     "output_type": "execute_result"
    }
   ],
   "source": [
    "y_pred_svr = svr.predict(process_data(X_test))\n",
    "y_pred_svr[y_pred_svr < 0] = 0\n",
    "\n",
    "display_results(y_pred_svr, mvp, 10)"
   ]
  },
  {
   "cell_type": "code",
   "execution_count": 1057,
   "id": "945ff03d-928c-44c7-b74e-4297d38ca89f",
   "metadata": {},
   "outputs": [
    {
     "name": "stdout",
     "output_type": "stream",
     "text": [
      "0.009858057574405058\n",
      "-0.03994158748362802\n"
     ]
    }
   ],
   "source": [
    "print(mean_absolute_error(y_pred_svr, y_test))\n",
    "print(cross_val_score(SVR(kernel = \"rbf\", degree = 1, C = 2), X_train, y_train, \n",
    "                cv = 10, scoring = \"neg_mean_absolute_error\").mean())"
   ]
  },
  {
   "cell_type": "markdown",
   "id": "1c38ef2d-ad63-4449-bc12-2955c69aa53e",
   "metadata": {},
   "source": [
    "The cross validated scores show that this model does not perform well despite predicting the MVP correctly in both 2022 and 2021. However, after the first 5 players, the model becomes incredibly inaccurate."
   ]
  },
  {
   "cell_type": "code",
   "execution_count": 1058,
   "id": "7299bca1-c79e-45a6-a244-ed04307e43c2",
   "metadata": {},
   "outputs": [
    {
     "name": "stdout",
     "output_type": "stream",
     "text": [
      "2021 Accuracy:  0.663515625\n",
      "2022 Accuracy:  0.726516290726817\n",
      "Combined:  0.6950159578634085\n"
     ]
    }
   ],
   "source": [
    "print(\"2021 Accuracy: \", custom_error(y_pred_svr[:269], 2021))\n",
    "print(\"2022 Accuracy: \", custom_error(y_pred_svr[-297:], 2022))\n",
    "print(\"Combined: \", np.mean([custom_error(y_pred_svr[:269], 2021), custom_error(y_pred_svr[-297:], 2022)]))"
   ]
  },
  {
   "cell_type": "markdown",
   "id": "e794728a-4aa8-4735-ba2d-21919100438f",
   "metadata": {},
   "source": [
    "This model performs severely worse than the linear model and Ridge regressor model."
   ]
  },
  {
   "cell_type": "markdown",
   "id": "568fd869-87e8-4ea1-be50-4040b9b83367",
   "metadata": {},
   "source": [
    "## Random Forest Regressor"
   ]
  },
  {
   "cell_type": "markdown",
   "id": "29ff1c1a-3425-4409-884d-15ef470e80c7",
   "metadata": {},
   "source": [
    "The preprocessing steps for the Random Forest Regressor will be slightly different."
   ]
  },
  {
   "cell_type": "code",
   "execution_count": 1059,
   "id": "333c2de9-d19f-4827-ba30-d2467e4a75aa",
   "metadata": {},
   "outputs": [],
   "source": [
    "def process_data_rfr(df):\n",
    "    final_df = df.copy()\n",
    "    \n",
    "    #encoding\n",
    "    positions = ohe.transform(final_df[\"Pos\"].values.reshape(-1, 1))\n",
    "    encoded_pos = pd.DataFrame(positions, columns = ohe.categories_[0])\n",
    "    final_df.rename(columns = {\"PF\": \"Fouls\"}, inplace = True)\n",
    "    final_df = final_df.join(encoded_pos)\n",
    "\n",
    "    #dropping\n",
    "    features_to_drop = ['Pos', 'G', 'FGA', 'FG%', '3PA', '2P', '2PA', '2P%', \n",
    "                        'FT', 'FT%', 'DRB', 'TRB', 'Year', 'PER', 'USG%', 'DWS', \n",
    "                        'WS/48', 'OBPM', 'DBPM', 'Seed', 'SG']\n",
    "    final_df = final_df.drop(features_to_drop, axis = 1)\n",
    "    \n",
    "    return final_df"
   ]
  },
  {
   "cell_type": "code",
   "execution_count": 1281,
   "id": "49ad222a-13f2-4fc0-9bd5-6069cdac2758",
   "metadata": {},
   "outputs": [
    {
     "data": {
      "text/html": [
       "<div>\n",
       "<style scoped>\n",
       "    .dataframe tbody tr th:only-of-type {\n",
       "        vertical-align: middle;\n",
       "    }\n",
       "\n",
       "    .dataframe tbody tr th {\n",
       "        vertical-align: top;\n",
       "    }\n",
       "\n",
       "    .dataframe thead th {\n",
       "        text-align: right;\n",
       "    }\n",
       "</style>\n",
       "<table border=\"1\" class=\"dataframe\">\n",
       "  <thead>\n",
       "    <tr style=\"text-align: right;\">\n",
       "      <th></th>\n",
       "      <th>Pos</th>\n",
       "      <th>Age</th>\n",
       "      <th>G</th>\n",
       "      <th>GS</th>\n",
       "      <th>MP</th>\n",
       "      <th>FG</th>\n",
       "      <th>FGA</th>\n",
       "      <th>FG%</th>\n",
       "      <th>3P</th>\n",
       "      <th>3PA</th>\n",
       "      <th>...</th>\n",
       "      <th>VORP</th>\n",
       "      <th>Seed</th>\n",
       "      <th>WL</th>\n",
       "      <th>SS</th>\n",
       "      <th>MPG</th>\n",
       "      <th>C</th>\n",
       "      <th>PF</th>\n",
       "      <th>PG</th>\n",
       "      <th>SF</th>\n",
       "      <th>SG</th>\n",
       "    </tr>\n",
       "  </thead>\n",
       "  <tbody>\n",
       "    <tr>\n",
       "      <th>1705</th>\n",
       "      <td>PF</td>\n",
       "      <td>29</td>\n",
       "      <td>72</td>\n",
       "      <td>30</td>\n",
       "      <td>1961</td>\n",
       "      <td>6.1</td>\n",
       "      <td>11.6</td>\n",
       "      <td>0.525</td>\n",
       "      <td>0.1</td>\n",
       "      <td>0.4</td>\n",
       "      <td>...</td>\n",
       "      <td>1.4</td>\n",
       "      <td>8.0</td>\n",
       "      <td>0.537</td>\n",
       "      <td>72</td>\n",
       "      <td>27.236111</td>\n",
       "      <td>NaN</td>\n",
       "      <td>NaN</td>\n",
       "      <td>NaN</td>\n",
       "      <td>NaN</td>\n",
       "      <td>NaN</td>\n",
       "    </tr>\n",
       "    <tr>\n",
       "      <th>1706</th>\n",
       "      <td>PF</td>\n",
       "      <td>27</td>\n",
       "      <td>54</td>\n",
       "      <td>20</td>\n",
       "      <td>701</td>\n",
       "      <td>6.2</td>\n",
       "      <td>12.7</td>\n",
       "      <td>0.490</td>\n",
       "      <td>0.1</td>\n",
       "      <td>0.1</td>\n",
       "      <td>...</td>\n",
       "      <td>-0.1</td>\n",
       "      <td>7.0</td>\n",
       "      <td>0.500</td>\n",
       "      <td>144</td>\n",
       "      <td>12.981481</td>\n",
       "      <td>NaN</td>\n",
       "      <td>NaN</td>\n",
       "      <td>NaN</td>\n",
       "      <td>NaN</td>\n",
       "      <td>NaN</td>\n",
       "    </tr>\n",
       "    <tr>\n",
       "      <th>1707</th>\n",
       "      <td>SG</td>\n",
       "      <td>30</td>\n",
       "      <td>78</td>\n",
       "      <td>78</td>\n",
       "      <td>3022</td>\n",
       "      <td>8.1</td>\n",
       "      <td>17.9</td>\n",
       "      <td>0.454</td>\n",
       "      <td>3.2</td>\n",
       "      <td>7.8</td>\n",
       "      <td>...</td>\n",
       "      <td>4.9</td>\n",
       "      <td>11.0</td>\n",
       "      <td>0.427</td>\n",
       "      <td>13</td>\n",
       "      <td>38.743590</td>\n",
       "      <td>NaN</td>\n",
       "      <td>NaN</td>\n",
       "      <td>NaN</td>\n",
       "      <td>NaN</td>\n",
       "      <td>NaN</td>\n",
       "    </tr>\n",
       "    <tr>\n",
       "      <th>1708</th>\n",
       "      <td>PG</td>\n",
       "      <td>24</td>\n",
       "      <td>51</td>\n",
       "      <td>9</td>\n",
       "      <td>978</td>\n",
       "      <td>4.7</td>\n",
       "      <td>10.1</td>\n",
       "      <td>0.471</td>\n",
       "      <td>0.4</td>\n",
       "      <td>1.3</td>\n",
       "      <td>...</td>\n",
       "      <td>0.1</td>\n",
       "      <td>11.0</td>\n",
       "      <td>0.402</td>\n",
       "      <td>146</td>\n",
       "      <td>19.176471</td>\n",
       "      <td>NaN</td>\n",
       "      <td>NaN</td>\n",
       "      <td>NaN</td>\n",
       "      <td>NaN</td>\n",
       "      <td>NaN</td>\n",
       "    </tr>\n",
       "    <tr>\n",
       "      <th>1709</th>\n",
       "      <td>PG</td>\n",
       "      <td>29</td>\n",
       "      <td>63</td>\n",
       "      <td>63</td>\n",
       "      <td>2431</td>\n",
       "      <td>4.1</td>\n",
       "      <td>10.9</td>\n",
       "      <td>0.379</td>\n",
       "      <td>1.5</td>\n",
       "      <td>4.6</td>\n",
       "      <td>...</td>\n",
       "      <td>1.0</td>\n",
       "      <td>12.0</td>\n",
       "      <td>0.415</td>\n",
       "      <td>214</td>\n",
       "      <td>38.587302</td>\n",
       "      <td>NaN</td>\n",
       "      <td>NaN</td>\n",
       "      <td>NaN</td>\n",
       "      <td>NaN</td>\n",
       "      <td>NaN</td>\n",
       "    </tr>\n",
       "    <tr>\n",
       "      <th>...</th>\n",
       "      <td>...</td>\n",
       "      <td>...</td>\n",
       "      <td>...</td>\n",
       "      <td>...</td>\n",
       "      <td>...</td>\n",
       "      <td>...</td>\n",
       "      <td>...</td>\n",
       "      <td>...</td>\n",
       "      <td>...</td>\n",
       "      <td>...</td>\n",
       "      <td>...</td>\n",
       "      <td>...</td>\n",
       "      <td>...</td>\n",
       "      <td>...</td>\n",
       "      <td>...</td>\n",
       "      <td>...</td>\n",
       "      <td>...</td>\n",
       "      <td>...</td>\n",
       "      <td>...</td>\n",
       "      <td>...</td>\n",
       "      <td>...</td>\n",
       "    </tr>\n",
       "    <tr>\n",
       "      <th>1990</th>\n",
       "      <td>PG</td>\n",
       "      <td>30</td>\n",
       "      <td>59</td>\n",
       "      <td>56</td>\n",
       "      <td>1874</td>\n",
       "      <td>5.1</td>\n",
       "      <td>11.6</td>\n",
       "      <td>0.442</td>\n",
       "      <td>2.1</td>\n",
       "      <td>5.5</td>\n",
       "      <td>...</td>\n",
       "      <td>1.5</td>\n",
       "      <td>2.0</td>\n",
       "      <td>0.634</td>\n",
       "      <td>134</td>\n",
       "      <td>31.762712</td>\n",
       "      <td>NaN</td>\n",
       "      <td>NaN</td>\n",
       "      <td>NaN</td>\n",
       "      <td>NaN</td>\n",
       "      <td>NaN</td>\n",
       "    </tr>\n",
       "    <tr>\n",
       "      <th>1991</th>\n",
       "      <td>PF</td>\n",
       "      <td>19</td>\n",
       "      <td>79</td>\n",
       "      <td>7</td>\n",
       "      <td>1952</td>\n",
       "      <td>4.3</td>\n",
       "      <td>9.8</td>\n",
       "      <td>0.443</td>\n",
       "      <td>0.2</td>\n",
       "      <td>1.0</td>\n",
       "      <td>...</td>\n",
       "      <td>-0.7</td>\n",
       "      <td>14.0</td>\n",
       "      <td>0.317</td>\n",
       "      <td>185</td>\n",
       "      <td>24.708861</td>\n",
       "      <td>NaN</td>\n",
       "      <td>NaN</td>\n",
       "      <td>NaN</td>\n",
       "      <td>NaN</td>\n",
       "      <td>NaN</td>\n",
       "    </tr>\n",
       "    <tr>\n",
       "      <th>1992</th>\n",
       "      <td>PG</td>\n",
       "      <td>23</td>\n",
       "      <td>58</td>\n",
       "      <td>12</td>\n",
       "      <td>1531</td>\n",
       "      <td>6.3</td>\n",
       "      <td>14.8</td>\n",
       "      <td>0.424</td>\n",
       "      <td>1.7</td>\n",
       "      <td>4.5</td>\n",
       "      <td>...</td>\n",
       "      <td>0.8</td>\n",
       "      <td>8.0</td>\n",
       "      <td>0.488</td>\n",
       "      <td>65</td>\n",
       "      <td>26.396552</td>\n",
       "      <td>NaN</td>\n",
       "      <td>NaN</td>\n",
       "      <td>NaN</td>\n",
       "      <td>NaN</td>\n",
       "      <td>NaN</td>\n",
       "    </tr>\n",
       "    <tr>\n",
       "      <th>1993</th>\n",
       "      <td>SF</td>\n",
       "      <td>24</td>\n",
       "      <td>49</td>\n",
       "      <td>16</td>\n",
       "      <td>1013</td>\n",
       "      <td>4.6</td>\n",
       "      <td>9.0</td>\n",
       "      <td>0.508</td>\n",
       "      <td>0.8</td>\n",
       "      <td>2.1</td>\n",
       "      <td>...</td>\n",
       "      <td>0.3</td>\n",
       "      <td>15.0</td>\n",
       "      <td>0.280</td>\n",
       "      <td>203</td>\n",
       "      <td>20.673469</td>\n",
       "      <td>NaN</td>\n",
       "      <td>NaN</td>\n",
       "      <td>NaN</td>\n",
       "      <td>NaN</td>\n",
       "      <td>NaN</td>\n",
       "    </tr>\n",
       "    <tr>\n",
       "      <th>1994</th>\n",
       "      <td>C</td>\n",
       "      <td>30</td>\n",
       "      <td>78</td>\n",
       "      <td>58</td>\n",
       "      <td>1689</td>\n",
       "      <td>4.1</td>\n",
       "      <td>8.7</td>\n",
       "      <td>0.478</td>\n",
       "      <td>0.0</td>\n",
       "      <td>0.0</td>\n",
       "      <td>...</td>\n",
       "      <td>0.0</td>\n",
       "      <td>5.0</td>\n",
       "      <td>0.598</td>\n",
       "      <td>259</td>\n",
       "      <td>21.653846</td>\n",
       "      <td>NaN</td>\n",
       "      <td>NaN</td>\n",
       "      <td>NaN</td>\n",
       "      <td>NaN</td>\n",
       "      <td>NaN</td>\n",
       "    </tr>\n",
       "  </tbody>\n",
       "</table>\n",
       "<p>290 rows × 46 columns</p>\n",
       "</div>"
      ],
      "text/plain": [
       "     Pos  Age   G  GS    MP   FG   FGA    FG%   3P  3PA  ...  VORP  Seed  \\\n",
       "1705  PF   29  72  30  1961  6.1  11.6  0.525  0.1  0.4  ...   1.4   8.0   \n",
       "1706  PF   27  54  20   701  6.2  12.7  0.490  0.1  0.1  ...  -0.1   7.0   \n",
       "1707  SG   30  78  78  3022  8.1  17.9  0.454  3.2  7.8  ...   4.9  11.0   \n",
       "1708  PG   24  51   9   978  4.7  10.1  0.471  0.4  1.3  ...   0.1  11.0   \n",
       "1709  PG   29  63  63  2431  4.1  10.9  0.379  1.5  4.6  ...   1.0  12.0   \n",
       "...   ..  ...  ..  ..   ...  ...   ...    ...  ...  ...  ...   ...   ...   \n",
       "1990  PG   30  59  56  1874  5.1  11.6  0.442  2.1  5.5  ...   1.5   2.0   \n",
       "1991  PF   19  79   7  1952  4.3   9.8  0.443  0.2  1.0  ...  -0.7  14.0   \n",
       "1992  PG   23  58  12  1531  6.3  14.8  0.424  1.7  4.5  ...   0.8   8.0   \n",
       "1993  SF   24  49  16  1013  4.6   9.0  0.508  0.8  2.1  ...   0.3  15.0   \n",
       "1994   C   30  78  58  1689  4.1   8.7  0.478  0.0  0.0  ...   0.0   5.0   \n",
       "\n",
       "         WL   SS        MPG   C  PF  PG  SF  SG  \n",
       "1705  0.537   72  27.236111 NaN NaN NaN NaN NaN  \n",
       "1706  0.500  144  12.981481 NaN NaN NaN NaN NaN  \n",
       "1707  0.427   13  38.743590 NaN NaN NaN NaN NaN  \n",
       "1708  0.402  146  19.176471 NaN NaN NaN NaN NaN  \n",
       "1709  0.415  214  38.587302 NaN NaN NaN NaN NaN  \n",
       "...     ...  ...        ...  ..  ..  ..  ..  ..  \n",
       "1990  0.634  134  31.762712 NaN NaN NaN NaN NaN  \n",
       "1991  0.317  185  24.708861 NaN NaN NaN NaN NaN  \n",
       "1992  0.488   65  26.396552 NaN NaN NaN NaN NaN  \n",
       "1993  0.280  203  20.673469 NaN NaN NaN NaN NaN  \n",
       "1994  0.598  259  21.653846 NaN NaN NaN NaN NaN  \n",
       "\n",
       "[290 rows x 46 columns]"
      ]
     },
     "execution_count": 1281,
     "metadata": {},
     "output_type": "execute_result"
    }
   ],
   "source": [
    "testset.drop(\"PF\", axis = 1).join(encoded_pos)"
   ]
  },
  {
   "cell_type": "code",
   "execution_count": 1060,
   "id": "029659aa-b718-4183-8e31-bcbebff500d8",
   "metadata": {},
   "outputs": [
    {
     "data": {
      "text/html": [
       "<style>#sk-container-id-30 {color: black;background-color: white;}#sk-container-id-30 pre{padding: 0;}#sk-container-id-30 div.sk-toggleable {background-color: white;}#sk-container-id-30 label.sk-toggleable__label {cursor: pointer;display: block;width: 100%;margin-bottom: 0;padding: 0.3em;box-sizing: border-box;text-align: center;}#sk-container-id-30 label.sk-toggleable__label-arrow:before {content: \"▸\";float: left;margin-right: 0.25em;color: #696969;}#sk-container-id-30 label.sk-toggleable__label-arrow:hover:before {color: black;}#sk-container-id-30 div.sk-estimator:hover label.sk-toggleable__label-arrow:before {color: black;}#sk-container-id-30 div.sk-toggleable__content {max-height: 0;max-width: 0;overflow: hidden;text-align: left;background-color: #f0f8ff;}#sk-container-id-30 div.sk-toggleable__content pre {margin: 0.2em;color: black;border-radius: 0.25em;background-color: #f0f8ff;}#sk-container-id-30 input.sk-toggleable__control:checked~div.sk-toggleable__content {max-height: 200px;max-width: 100%;overflow: auto;}#sk-container-id-30 input.sk-toggleable__control:checked~label.sk-toggleable__label-arrow:before {content: \"▾\";}#sk-container-id-30 div.sk-estimator input.sk-toggleable__control:checked~label.sk-toggleable__label {background-color: #d4ebff;}#sk-container-id-30 div.sk-label input.sk-toggleable__control:checked~label.sk-toggleable__label {background-color: #d4ebff;}#sk-container-id-30 input.sk-hidden--visually {border: 0;clip: rect(1px 1px 1px 1px);clip: rect(1px, 1px, 1px, 1px);height: 1px;margin: -1px;overflow: hidden;padding: 0;position: absolute;width: 1px;}#sk-container-id-30 div.sk-estimator {font-family: monospace;background-color: #f0f8ff;border: 1px dotted black;border-radius: 0.25em;box-sizing: border-box;margin-bottom: 0.5em;}#sk-container-id-30 div.sk-estimator:hover {background-color: #d4ebff;}#sk-container-id-30 div.sk-parallel-item::after {content: \"\";width: 100%;border-bottom: 1px solid gray;flex-grow: 1;}#sk-container-id-30 div.sk-label:hover label.sk-toggleable__label {background-color: #d4ebff;}#sk-container-id-30 div.sk-serial::before {content: \"\";position: absolute;border-left: 1px solid gray;box-sizing: border-box;top: 0;bottom: 0;left: 50%;z-index: 0;}#sk-container-id-30 div.sk-serial {display: flex;flex-direction: column;align-items: center;background-color: white;padding-right: 0.2em;padding-left: 0.2em;position: relative;}#sk-container-id-30 div.sk-item {position: relative;z-index: 1;}#sk-container-id-30 div.sk-parallel {display: flex;align-items: stretch;justify-content: center;background-color: white;position: relative;}#sk-container-id-30 div.sk-item::before, #sk-container-id-30 div.sk-parallel-item::before {content: \"\";position: absolute;border-left: 1px solid gray;box-sizing: border-box;top: 0;bottom: 0;left: 50%;z-index: -1;}#sk-container-id-30 div.sk-parallel-item {display: flex;flex-direction: column;z-index: 1;position: relative;background-color: white;}#sk-container-id-30 div.sk-parallel-item:first-child::after {align-self: flex-end;width: 50%;}#sk-container-id-30 div.sk-parallel-item:last-child::after {align-self: flex-start;width: 50%;}#sk-container-id-30 div.sk-parallel-item:only-child::after {width: 0;}#sk-container-id-30 div.sk-dashed-wrapped {border: 1px dashed gray;margin: 0 0.4em 0.5em 0.4em;box-sizing: border-box;padding-bottom: 0.4em;background-color: white;}#sk-container-id-30 div.sk-label label {font-family: monospace;font-weight: bold;display: inline-block;line-height: 1.2em;}#sk-container-id-30 div.sk-label-container {text-align: center;}#sk-container-id-30 div.sk-container {/* jupyter's `normalize.less` sets `[hidden] { display: none; }` but bootstrap.min.css set `[hidden] { display: none !important; }` so we also need the `!important` here to be able to override the default hidden behavior on the sphinx rendered scikit-learn.org. See: https://github.com/scikit-learn/scikit-learn/issues/21755 */display: inline-block !important;position: relative;}#sk-container-id-30 div.sk-text-repr-fallback {display: none;}</style><div id=\"sk-container-id-30\" class=\"sk-top-container\"><div class=\"sk-text-repr-fallback\"><pre>RandomForestRegressor()</pre><b>In a Jupyter environment, please rerun this cell to show the HTML representation or trust the notebook. <br />On GitHub, the HTML representation is unable to render, please try loading this page with nbviewer.org.</b></div><div class=\"sk-container\" hidden><div class=\"sk-item\"><div class=\"sk-estimator sk-toggleable\"><input class=\"sk-toggleable__control sk-hidden--visually\" id=\"sk-estimator-id-54\" type=\"checkbox\" checked><label for=\"sk-estimator-id-54\" class=\"sk-toggleable__label sk-toggleable__label-arrow\">RandomForestRegressor</label><div class=\"sk-toggleable__content\"><pre>RandomForestRegressor()</pre></div></div></div></div></div>"
      ],
      "text/plain": [
       "RandomForestRegressor()"
      ]
     },
     "execution_count": 1060,
     "metadata": {},
     "output_type": "execute_result"
    }
   ],
   "source": [
    "rfr = RandomForestRegressor(n_estimators = 100)\n",
    "rfr.fit(process_data_rfr(X_train_ridge), y_train) #note: X_train_ridge applies correctly in this scenario"
   ]
  },
  {
   "cell_type": "code",
   "execution_count": 1062,
   "id": "45d5b6c2-7764-4019-ad23-7163b8a43b7c",
   "metadata": {},
   "outputs": [
    {
     "data": {
      "text/html": [
       "<div>\n",
       "<style scoped>\n",
       "    .dataframe tbody tr th:only-of-type {\n",
       "        vertical-align: middle;\n",
       "    }\n",
       "\n",
       "    .dataframe tbody tr th {\n",
       "        vertical-align: top;\n",
       "    }\n",
       "\n",
       "    .dataframe thead tr th {\n",
       "        text-align: left;\n",
       "    }\n",
       "</style>\n",
       "<table border=\"1\" class=\"dataframe\">\n",
       "  <thead>\n",
       "    <tr>\n",
       "      <th></th>\n",
       "      <th colspan=\"4\" halign=\"left\">2021</th>\n",
       "      <th colspan=\"4\" halign=\"left\">2022</th>\n",
       "    </tr>\n",
       "    <tr>\n",
       "      <th></th>\n",
       "      <th>Pred_Player</th>\n",
       "      <th>Real_Player</th>\n",
       "      <th>Pred_Share</th>\n",
       "      <th>Real_Share</th>\n",
       "      <th>Pred_Player</th>\n",
       "      <th>Real_Player</th>\n",
       "      <th>Pred_Share</th>\n",
       "      <th>Real_Share</th>\n",
       "    </tr>\n",
       "  </thead>\n",
       "  <tbody>\n",
       "    <tr>\n",
       "      <th>1</th>\n",
       "      <td>Nikola Jokić</td>\n",
       "      <td>Nikola Jokić</td>\n",
       "      <td>0.57673</td>\n",
       "      <td>0.961</td>\n",
       "      <td>Giannis Antetokounmpo</td>\n",
       "      <td>Nikola Jokić</td>\n",
       "      <td>0.50573</td>\n",
       "      <td>0.875</td>\n",
       "    </tr>\n",
       "    <tr>\n",
       "      <th>2</th>\n",
       "      <td>Joel Embiid</td>\n",
       "      <td>Joel Embiid</td>\n",
       "      <td>0.42450</td>\n",
       "      <td>0.580</td>\n",
       "      <td>Nikola Jokić</td>\n",
       "      <td>Joel Embiid</td>\n",
       "      <td>0.50395</td>\n",
       "      <td>0.706</td>\n",
       "    </tr>\n",
       "    <tr>\n",
       "      <th>3</th>\n",
       "      <td>Stephen Curry</td>\n",
       "      <td>Stephen Curry</td>\n",
       "      <td>0.20471</td>\n",
       "      <td>0.449</td>\n",
       "      <td>Joel Embiid</td>\n",
       "      <td>Giannis Antetokounmpo</td>\n",
       "      <td>0.41902</td>\n",
       "      <td>0.595</td>\n",
       "    </tr>\n",
       "    <tr>\n",
       "      <th>4</th>\n",
       "      <td>Giannis Antetokounmpo</td>\n",
       "      <td>Giannis Antetokounmpo</td>\n",
       "      <td>0.19994</td>\n",
       "      <td>0.345</td>\n",
       "      <td>Luka Dončić</td>\n",
       "      <td>Devin Booker</td>\n",
       "      <td>0.25873</td>\n",
       "      <td>0.216</td>\n",
       "    </tr>\n",
       "    <tr>\n",
       "      <th>5</th>\n",
       "      <td>Luka Dončić</td>\n",
       "      <td>Chris Paul</td>\n",
       "      <td>0.15490</td>\n",
       "      <td>0.138</td>\n",
       "      <td>LeBron James</td>\n",
       "      <td>Luka Dončić</td>\n",
       "      <td>0.12424</td>\n",
       "      <td>0.146</td>\n",
       "    </tr>\n",
       "    <tr>\n",
       "      <th>6</th>\n",
       "      <td>Damian Lillard</td>\n",
       "      <td>Luka Dončić</td>\n",
       "      <td>0.09863</td>\n",
       "      <td>0.042</td>\n",
       "      <td>Trae Young</td>\n",
       "      <td>Jayson Tatum</td>\n",
       "      <td>0.07764</td>\n",
       "      <td>0.043</td>\n",
       "    </tr>\n",
       "    <tr>\n",
       "      <th>7</th>\n",
       "      <td>Trae Young</td>\n",
       "      <td>Damian Lillard</td>\n",
       "      <td>0.06908</td>\n",
       "      <td>0.038</td>\n",
       "      <td>Chris Paul</td>\n",
       "      <td>Ja Morant</td>\n",
       "      <td>0.06365</td>\n",
       "      <td>0.010</td>\n",
       "    </tr>\n",
       "    <tr>\n",
       "      <th>8</th>\n",
       "      <td>Zion Williamson</td>\n",
       "      <td>Julius Randle</td>\n",
       "      <td>0.03140</td>\n",
       "      <td>0.020</td>\n",
       "      <td>Kevin Durant</td>\n",
       "      <td>Stephen Curry</td>\n",
       "      <td>0.04609</td>\n",
       "      <td>0.004</td>\n",
       "    </tr>\n",
       "    <tr>\n",
       "      <th>9</th>\n",
       "      <td>LeBron James</td>\n",
       "      <td>Rudy Gobert</td>\n",
       "      <td>0.03107</td>\n",
       "      <td>0.008</td>\n",
       "      <td>Ja Morant</td>\n",
       "      <td>Chris Paul</td>\n",
       "      <td>0.04262</td>\n",
       "      <td>0.002</td>\n",
       "    </tr>\n",
       "    <tr>\n",
       "      <th>10</th>\n",
       "      <td>Bradley Beal</td>\n",
       "      <td>Russell Westbrook</td>\n",
       "      <td>0.02794</td>\n",
       "      <td>0.005</td>\n",
       "      <td>Stephen Curry</td>\n",
       "      <td>DeMar DeRozan</td>\n",
       "      <td>0.01308</td>\n",
       "      <td>0.001</td>\n",
       "    </tr>\n",
       "  </tbody>\n",
       "</table>\n",
       "</div>"
      ],
      "text/plain": [
       "                     2021                                               \\\n",
       "              Pred_Player            Real_Player Pred_Share Real_Share   \n",
       "1            Nikola Jokić           Nikola Jokić    0.57673      0.961   \n",
       "2             Joel Embiid            Joel Embiid    0.42450      0.580   \n",
       "3           Stephen Curry          Stephen Curry    0.20471      0.449   \n",
       "4   Giannis Antetokounmpo  Giannis Antetokounmpo    0.19994      0.345   \n",
       "5             Luka Dončić             Chris Paul    0.15490      0.138   \n",
       "6          Damian Lillard            Luka Dončić    0.09863      0.042   \n",
       "7              Trae Young         Damian Lillard    0.06908      0.038   \n",
       "8         Zion Williamson          Julius Randle    0.03140      0.020   \n",
       "9            LeBron James            Rudy Gobert    0.03107      0.008   \n",
       "10           Bradley Beal      Russell Westbrook    0.02794      0.005   \n",
       "\n",
       "                     2022                                               \n",
       "              Pred_Player            Real_Player Pred_Share Real_Share  \n",
       "1   Giannis Antetokounmpo           Nikola Jokić    0.50573      0.875  \n",
       "2            Nikola Jokić            Joel Embiid    0.50395      0.706  \n",
       "3             Joel Embiid  Giannis Antetokounmpo    0.41902      0.595  \n",
       "4             Luka Dončić           Devin Booker    0.25873      0.216  \n",
       "5            LeBron James            Luka Dončić    0.12424      0.146  \n",
       "6              Trae Young           Jayson Tatum    0.07764      0.043  \n",
       "7              Chris Paul              Ja Morant    0.06365      0.010  \n",
       "8            Kevin Durant          Stephen Curry    0.04609      0.004  \n",
       "9               Ja Morant             Chris Paul    0.04262      0.002  \n",
       "10          Stephen Curry          DeMar DeRozan    0.01308      0.001  "
      ]
     },
     "execution_count": 1062,
     "metadata": {},
     "output_type": "execute_result"
    }
   ],
   "source": [
    "y_pred_rfr = rfr.predict(process_data_rfr(X_test))\n",
    "y_pred_rfr[y_pred_rfr < 0] = 0\n",
    "\n",
    "display_results(y_pred_rfr, mvp, 10)"
   ]
  },
  {
   "cell_type": "code",
   "execution_count": 1063,
   "id": "94c33d5f-c82d-485f-9c18-625754cfa644",
   "metadata": {},
   "outputs": [
    {
     "name": "stdout",
     "output_type": "stream",
     "text": [
      "0.0052739222614840995\n",
      "-0.006647118910072825\n"
     ]
    }
   ],
   "source": [
    "print(mean_absolute_error(y_pred_rfr, y_test))\n",
    "print(cross_val_score(RandomForestRegressor(), process_data_rfr(X_train_ridge), y_train, \n",
    "                cv = 10, scoring = \"neg_mean_absolute_error\").mean())"
   ]
  },
  {
   "cell_type": "code",
   "execution_count": 1064,
   "id": "a619d8ea-c665-4bad-b98b-11c452f8f40c",
   "metadata": {},
   "outputs": [
    {
     "name": "stdout",
     "output_type": "stream",
     "text": [
      "2021 Accuracy:  0.7445312500000001\n",
      "2022 Accuracy:  0.7048245614035087\n",
      "Combined:  0.7246779057017544\n"
     ]
    }
   ],
   "source": [
    "print(\"2021 Accuracy: \", custom_error(y_pred_rfr[:269], 2021))\n",
    "print(\"2022 Accuracy: \", custom_error(y_pred_rfr[-297:], 2022))\n",
    "print(\"Combined: \", np.mean([custom_error(y_pred_rfr[:269], 2021), custom_error(y_pred_rfr[-297:], 2022)]))"
   ]
  },
  {
   "cell_type": "markdown",
   "id": "ce393076-ebb0-4f80-8b09-bbef82258065",
   "metadata": {},
   "source": [
    "As we can see, the Random Forest regressor model performed the best in minimizing the MAE for the Share, AND maximizing the accuracy score using my custom metric. Therefore, I believe that a decision tree regressor may be the best algorithm for this dataset. Thus, I'll try constructing an *Extreme Gradient-Boosted Decision Tree Regressor* and compare it to the Random Forest Regressor."
   ]
  },
  {
   "cell_type": "markdown",
   "id": "a26fb71a-4774-4cd2-ac76-9bdc3afdb7f0",
   "metadata": {},
   "source": [
    "## XGBoost Regressor"
   ]
  },
  {
   "cell_type": "code",
   "execution_count": 1070,
   "id": "6f885d99-7cf4-4066-8bf6-4c1fea2585b7",
   "metadata": {},
   "outputs": [
    {
     "data": {
      "text/plain": [
       "Index(['Player', 'Pos', 'Age', 'Tm', 'G', 'GS', 'MP', 'FG', 'FGA', 'FG%', '3P',\n",
       "       '3PA', '3P%', '2P', '2PA', '2P%', 'FT', 'FTA', 'FT%', 'ORB', 'DRB',\n",
       "       'TRB', 'AST', 'STL', 'BLK', 'TOV', 'PF', 'PTS', 'Year', 'PER', 'TS%',\n",
       "       'USG%', 'OWS', 'DWS', 'WS', 'WS/48', 'OBPM', 'DBPM', 'BPM', 'VORP',\n",
       "       'Share', 'Seed', 'WL', 'SS', 'MPG'],\n",
       "      dtype='object')"
      ]
     },
     "execution_count": 1070,
     "metadata": {},
     "output_type": "execute_result"
    }
   ],
   "source": [
    "mvp.columns"
   ]
  },
  {
   "cell_type": "code",
   "execution_count": 1075,
   "id": "7d007c8a-d318-42c4-81b7-cd3fe6d79717",
   "metadata": {},
   "outputs": [
    {
     "data": {
      "text/plain": [
       "Index(['Age', 'GS', 'MP', 'FG', '3P', '3P%', 'FTA', 'ORB', 'AST', 'STL', 'BLK',\n",
       "       'TOV', 'Year', 'TS%', 'OWS', 'WS', 'OBPM', 'BPM', 'VORP', 'WL', 'SS',\n",
       "       'MPG', 'C', 'PF', 'PG', 'SF'],\n",
       "      dtype='object')"
      ]
     },
     "execution_count": 1075,
     "metadata": {},
     "output_type": "execute_result"
    }
   ],
   "source": [
    "kept_features"
   ]
  },
  {
   "cell_type": "code",
   "execution_count": 1104,
   "id": "99bc8a9c-fc91-43b7-8495-144960bff171",
   "metadata": {},
   "outputs": [],
   "source": [
    "def process_data_xgb(df):\n",
    "    final_df = df.copy()\n",
    "    \n",
    "    #encoding\n",
    "    positions = ohe.transform(final_df[\"Pos\"].values.reshape(-1, 1))\n",
    "    encoded_pos = pd.DataFrame(positions, columns = ohe.categories_[0])\n",
    "    final_df.rename(columns = {\"PF\": \"Fouls\"}, inplace = True)\n",
    "    final_df = final_df.join(encoded_pos)\n",
    "\n",
    "    #dropping\n",
    "    features_to_drop = ['Pos', 'G', 'MP', 'FGA', 'FG%', '3PA', '2P', '2PA', \n",
    "                        '2P%', 'FT', 'DRB', 'TRB', 'Fouls', 'Year',\n",
    "                        'USG%', 'DWS', 'WS', 'WS/48', 'DBPM', 'OBPM', 'TS%', 'Seed', 'SG']\n",
    "    final_df = final_df.drop(features_to_drop, axis = 1)\n",
    "    \n",
    "    return final_df"
   ]
  },
  {
   "cell_type": "code",
   "execution_count": 1105,
   "id": "a5c36610-b867-4f1f-9d32-a99642ef88f6",
   "metadata": {},
   "outputs": [
    {
     "name": "stdout",
     "output_type": "stream",
     "text": [
      "Fitting 5 folds for each of 10 candidates, totalling 50 fits\n"
     ]
    },
    {
     "data": {
      "text/plain": [
       "{'subsample': 0.7,\n",
       " 'n_estimators': 100,\n",
       " 'max_depth': 10,\n",
       " 'learning_rate': 0.1,\n",
       " 'colsample_bytree': 0.5,\n",
       " 'colsample_bylevel': 0.7999999999999999}"
      ]
     },
     "execution_count": 1105,
     "metadata": {},
     "output_type": "execute_result"
    }
   ],
   "source": [
    "parameters = {'max_depth': [3, 5, 10, 15, 20],\n",
    "           'learning_rate': [0.01, 0.1, 0.25, 0.5],\n",
    "           'subsample': np.arange(0.5, 1.0, 0.1),\n",
    "           'colsample_bytree': np.arange(0.5, 1.0, 0.1),\n",
    "           'colsample_bylevel': np.arange(0.5, 1.0, 0.1),\n",
    "           'n_estimators': [100, 500, 1000]}\n",
    "model = xgb.XGBRegressor()\n",
    "\n",
    "xgb_model = RandomizedSearchCV(estimator = model,\n",
    "                              param_distributions = parameters,\n",
    "                              scoring = \"neg_mean_squared_error\",\n",
    "                              verbose = 1)\n",
    "\n",
    "xgb_model.fit(process_data_xgb(X_train_ridge), y_train) #Using ridge training dataset again (not scaled)\n",
    "xgb_model.best_params_"
   ]
  },
  {
   "cell_type": "code",
   "execution_count": 1106,
   "id": "52886f57-670a-4bd9-9aa2-797366a31912",
   "metadata": {},
   "outputs": [
    {
     "data": {
      "text/html": [
       "<style>#sk-container-id-34 {color: black;background-color: white;}#sk-container-id-34 pre{padding: 0;}#sk-container-id-34 div.sk-toggleable {background-color: white;}#sk-container-id-34 label.sk-toggleable__label {cursor: pointer;display: block;width: 100%;margin-bottom: 0;padding: 0.3em;box-sizing: border-box;text-align: center;}#sk-container-id-34 label.sk-toggleable__label-arrow:before {content: \"▸\";float: left;margin-right: 0.25em;color: #696969;}#sk-container-id-34 label.sk-toggleable__label-arrow:hover:before {color: black;}#sk-container-id-34 div.sk-estimator:hover label.sk-toggleable__label-arrow:before {color: black;}#sk-container-id-34 div.sk-toggleable__content {max-height: 0;max-width: 0;overflow: hidden;text-align: left;background-color: #f0f8ff;}#sk-container-id-34 div.sk-toggleable__content pre {margin: 0.2em;color: black;border-radius: 0.25em;background-color: #f0f8ff;}#sk-container-id-34 input.sk-toggleable__control:checked~div.sk-toggleable__content {max-height: 200px;max-width: 100%;overflow: auto;}#sk-container-id-34 input.sk-toggleable__control:checked~label.sk-toggleable__label-arrow:before {content: \"▾\";}#sk-container-id-34 div.sk-estimator input.sk-toggleable__control:checked~label.sk-toggleable__label {background-color: #d4ebff;}#sk-container-id-34 div.sk-label input.sk-toggleable__control:checked~label.sk-toggleable__label {background-color: #d4ebff;}#sk-container-id-34 input.sk-hidden--visually {border: 0;clip: rect(1px 1px 1px 1px);clip: rect(1px, 1px, 1px, 1px);height: 1px;margin: -1px;overflow: hidden;padding: 0;position: absolute;width: 1px;}#sk-container-id-34 div.sk-estimator {font-family: monospace;background-color: #f0f8ff;border: 1px dotted black;border-radius: 0.25em;box-sizing: border-box;margin-bottom: 0.5em;}#sk-container-id-34 div.sk-estimator:hover {background-color: #d4ebff;}#sk-container-id-34 div.sk-parallel-item::after {content: \"\";width: 100%;border-bottom: 1px solid gray;flex-grow: 1;}#sk-container-id-34 div.sk-label:hover label.sk-toggleable__label {background-color: #d4ebff;}#sk-container-id-34 div.sk-serial::before {content: \"\";position: absolute;border-left: 1px solid gray;box-sizing: border-box;top: 0;bottom: 0;left: 50%;z-index: 0;}#sk-container-id-34 div.sk-serial {display: flex;flex-direction: column;align-items: center;background-color: white;padding-right: 0.2em;padding-left: 0.2em;position: relative;}#sk-container-id-34 div.sk-item {position: relative;z-index: 1;}#sk-container-id-34 div.sk-parallel {display: flex;align-items: stretch;justify-content: center;background-color: white;position: relative;}#sk-container-id-34 div.sk-item::before, #sk-container-id-34 div.sk-parallel-item::before {content: \"\";position: absolute;border-left: 1px solid gray;box-sizing: border-box;top: 0;bottom: 0;left: 50%;z-index: -1;}#sk-container-id-34 div.sk-parallel-item {display: flex;flex-direction: column;z-index: 1;position: relative;background-color: white;}#sk-container-id-34 div.sk-parallel-item:first-child::after {align-self: flex-end;width: 50%;}#sk-container-id-34 div.sk-parallel-item:last-child::after {align-self: flex-start;width: 50%;}#sk-container-id-34 div.sk-parallel-item:only-child::after {width: 0;}#sk-container-id-34 div.sk-dashed-wrapped {border: 1px dashed gray;margin: 0 0.4em 0.5em 0.4em;box-sizing: border-box;padding-bottom: 0.4em;background-color: white;}#sk-container-id-34 div.sk-label label {font-family: monospace;font-weight: bold;display: inline-block;line-height: 1.2em;}#sk-container-id-34 div.sk-label-container {text-align: center;}#sk-container-id-34 div.sk-container {/* jupyter's `normalize.less` sets `[hidden] { display: none; }` but bootstrap.min.css set `[hidden] { display: none !important; }` so we also need the `!important` here to be able to override the default hidden behavior on the sphinx rendered scikit-learn.org. See: https://github.com/scikit-learn/scikit-learn/issues/21755 */display: inline-block !important;position: relative;}#sk-container-id-34 div.sk-text-repr-fallback {display: none;}</style><div id=\"sk-container-id-34\" class=\"sk-top-container\"><div class=\"sk-text-repr-fallback\"><pre>XGBRegressor(base_score=0.5, booster=&#x27;gbtree&#x27;, callbacks=None,\n",
       "             colsample_bylevel=0.8, colsample_bynode=1, colsample_bytree=0.5,\n",
       "             early_stopping_rounds=None, enable_categorical=False,\n",
       "             eval_metric=None, gamma=0, gpu_id=-1, grow_policy=&#x27;depthwise&#x27;,\n",
       "             importance_type=None, interaction_constraints=&#x27;&#x27;,\n",
       "             learning_rate=0.1, max_bin=256, max_cat_to_onehot=4,\n",
       "             max_delta_step=0, max_depth=10, max_leaves=0, min_child_weight=1,\n",
       "             missing=nan, monotone_constraints=&#x27;()&#x27;, n_estimators=100, n_jobs=0,\n",
       "             num_parallel_tree=1, predictor=&#x27;auto&#x27;, random_state=0, reg_alpha=0,\n",
       "             reg_lambda=1, ...)</pre><b>In a Jupyter environment, please rerun this cell to show the HTML representation or trust the notebook. <br />On GitHub, the HTML representation is unable to render, please try loading this page with nbviewer.org.</b></div><div class=\"sk-container\" hidden><div class=\"sk-item\"><div class=\"sk-estimator sk-toggleable\"><input class=\"sk-toggleable__control sk-hidden--visually\" id=\"sk-estimator-id-58\" type=\"checkbox\" checked><label for=\"sk-estimator-id-58\" class=\"sk-toggleable__label sk-toggleable__label-arrow\">XGBRegressor</label><div class=\"sk-toggleable__content\"><pre>XGBRegressor(base_score=0.5, booster=&#x27;gbtree&#x27;, callbacks=None,\n",
       "             colsample_bylevel=0.8, colsample_bynode=1, colsample_bytree=0.5,\n",
       "             early_stopping_rounds=None, enable_categorical=False,\n",
       "             eval_metric=None, gamma=0, gpu_id=-1, grow_policy=&#x27;depthwise&#x27;,\n",
       "             importance_type=None, interaction_constraints=&#x27;&#x27;,\n",
       "             learning_rate=0.1, max_bin=256, max_cat_to_onehot=4,\n",
       "             max_delta_step=0, max_depth=10, max_leaves=0, min_child_weight=1,\n",
       "             missing=nan, monotone_constraints=&#x27;()&#x27;, n_estimators=100, n_jobs=0,\n",
       "             num_parallel_tree=1, predictor=&#x27;auto&#x27;, random_state=0, reg_alpha=0,\n",
       "             reg_lambda=1, ...)</pre></div></div></div></div></div>"
      ],
      "text/plain": [
       "XGBRegressor(base_score=0.5, booster='gbtree', callbacks=None,\n",
       "             colsample_bylevel=0.8, colsample_bynode=1, colsample_bytree=0.5,\n",
       "             early_stopping_rounds=None, enable_categorical=False,\n",
       "             eval_metric=None, gamma=0, gpu_id=-1, grow_policy='depthwise',\n",
       "             importance_type=None, interaction_constraints='',\n",
       "             learning_rate=0.1, max_bin=256, max_cat_to_onehot=4,\n",
       "             max_delta_step=0, max_depth=10, max_leaves=0, min_child_weight=1,\n",
       "             missing=nan, monotone_constraints='()', n_estimators=100, n_jobs=0,\n",
       "             num_parallel_tree=1, predictor='auto', random_state=0, reg_alpha=0,\n",
       "             reg_lambda=1, ...)"
      ]
     },
     "execution_count": 1106,
     "metadata": {},
     "output_type": "execute_result"
    }
   ],
   "source": [
    "xgbr = xgb.XGBRegressor(n_estimators = 100,\n",
    "                       subsample = 0.7,\n",
    "                       max_depth = 10,\n",
    "                       learning_rate = 0.1,\n",
    "                       colsample_bytree = 0.5,\n",
    "                       colsample_bylevel = 0.8)\n",
    "xgbr.fit(process_data_xgb(X_train_ridge), y_train)"
   ]
  },
  {
   "cell_type": "code",
   "execution_count": 1107,
   "id": "f08db134-ee9d-4844-90b4-a5ad9d280a73",
   "metadata": {},
   "outputs": [
    {
     "data": {
      "text/html": [
       "<div>\n",
       "<style scoped>\n",
       "    .dataframe tbody tr th:only-of-type {\n",
       "        vertical-align: middle;\n",
       "    }\n",
       "\n",
       "    .dataframe tbody tr th {\n",
       "        vertical-align: top;\n",
       "    }\n",
       "\n",
       "    .dataframe thead tr th {\n",
       "        text-align: left;\n",
       "    }\n",
       "</style>\n",
       "<table border=\"1\" class=\"dataframe\">\n",
       "  <thead>\n",
       "    <tr>\n",
       "      <th></th>\n",
       "      <th colspan=\"4\" halign=\"left\">2021</th>\n",
       "      <th colspan=\"4\" halign=\"left\">2022</th>\n",
       "    </tr>\n",
       "    <tr>\n",
       "      <th></th>\n",
       "      <th>Pred_Player</th>\n",
       "      <th>Real_Player</th>\n",
       "      <th>Pred_Share</th>\n",
       "      <th>Real_Share</th>\n",
       "      <th>Pred_Player</th>\n",
       "      <th>Real_Player</th>\n",
       "      <th>Pred_Share</th>\n",
       "      <th>Real_Share</th>\n",
       "    </tr>\n",
       "  </thead>\n",
       "  <tbody>\n",
       "    <tr>\n",
       "      <th>1</th>\n",
       "      <td>Nikola Jokić</td>\n",
       "      <td>Nikola Jokić</td>\n",
       "      <td>0.850982</td>\n",
       "      <td>0.961</td>\n",
       "      <td>Giannis Antetokounmpo</td>\n",
       "      <td>Nikola Jokić</td>\n",
       "      <td>0.815224</td>\n",
       "      <td>0.875</td>\n",
       "    </tr>\n",
       "    <tr>\n",
       "      <th>2</th>\n",
       "      <td>Joel Embiid</td>\n",
       "      <td>Joel Embiid</td>\n",
       "      <td>0.379030</td>\n",
       "      <td>0.580</td>\n",
       "      <td>Nikola Jokić</td>\n",
       "      <td>Joel Embiid</td>\n",
       "      <td>0.654954</td>\n",
       "      <td>0.706</td>\n",
       "    </tr>\n",
       "    <tr>\n",
       "      <th>3</th>\n",
       "      <td>Stephen Curry</td>\n",
       "      <td>Stephen Curry</td>\n",
       "      <td>0.310502</td>\n",
       "      <td>0.449</td>\n",
       "      <td>Joel Embiid</td>\n",
       "      <td>Giannis Antetokounmpo</td>\n",
       "      <td>0.633546</td>\n",
       "      <td>0.595</td>\n",
       "    </tr>\n",
       "    <tr>\n",
       "      <th>4</th>\n",
       "      <td>Giannis Antetokounmpo</td>\n",
       "      <td>Giannis Antetokounmpo</td>\n",
       "      <td>0.180406</td>\n",
       "      <td>0.345</td>\n",
       "      <td>Luka Dončić</td>\n",
       "      <td>Devin Booker</td>\n",
       "      <td>0.257890</td>\n",
       "      <td>0.216</td>\n",
       "    </tr>\n",
       "    <tr>\n",
       "      <th>5</th>\n",
       "      <td>Luka Dončić</td>\n",
       "      <td>Chris Paul</td>\n",
       "      <td>0.167969</td>\n",
       "      <td>0.138</td>\n",
       "      <td>Ja Morant</td>\n",
       "      <td>Luka Dončić</td>\n",
       "      <td>0.133445</td>\n",
       "      <td>0.146</td>\n",
       "    </tr>\n",
       "    <tr>\n",
       "      <th>6</th>\n",
       "      <td>LeBron James</td>\n",
       "      <td>Luka Dončić</td>\n",
       "      <td>0.099236</td>\n",
       "      <td>0.042</td>\n",
       "      <td>Kevin Durant</td>\n",
       "      <td>Jayson Tatum</td>\n",
       "      <td>0.111797</td>\n",
       "      <td>0.043</td>\n",
       "    </tr>\n",
       "    <tr>\n",
       "      <th>7</th>\n",
       "      <td>Bradley Beal</td>\n",
       "      <td>Damian Lillard</td>\n",
       "      <td>0.087907</td>\n",
       "      <td>0.038</td>\n",
       "      <td>LeBron James</td>\n",
       "      <td>Ja Morant</td>\n",
       "      <td>0.106373</td>\n",
       "      <td>0.010</td>\n",
       "    </tr>\n",
       "    <tr>\n",
       "      <th>8</th>\n",
       "      <td>Zion Williamson</td>\n",
       "      <td>Julius Randle</td>\n",
       "      <td>0.070360</td>\n",
       "      <td>0.020</td>\n",
       "      <td>Stephen Curry</td>\n",
       "      <td>Stephen Curry</td>\n",
       "      <td>0.047592</td>\n",
       "      <td>0.004</td>\n",
       "    </tr>\n",
       "    <tr>\n",
       "      <th>9</th>\n",
       "      <td>Damian Lillard</td>\n",
       "      <td>Rudy Gobert</td>\n",
       "      <td>0.059986</td>\n",
       "      <td>0.008</td>\n",
       "      <td>Trae Young</td>\n",
       "      <td>Chris Paul</td>\n",
       "      <td>0.039468</td>\n",
       "      <td>0.002</td>\n",
       "    </tr>\n",
       "    <tr>\n",
       "      <th>10</th>\n",
       "      <td>Russell Westbrook</td>\n",
       "      <td>Russell Westbrook</td>\n",
       "      <td>0.012727</td>\n",
       "      <td>0.005</td>\n",
       "      <td>Chris Paul</td>\n",
       "      <td>DeMar DeRozan</td>\n",
       "      <td>0.033920</td>\n",
       "      <td>0.001</td>\n",
       "    </tr>\n",
       "  </tbody>\n",
       "</table>\n",
       "</div>"
      ],
      "text/plain": [
       "                     2021                                               \\\n",
       "              Pred_Player            Real_Player Pred_Share Real_Share   \n",
       "1            Nikola Jokić           Nikola Jokić   0.850982      0.961   \n",
       "2             Joel Embiid            Joel Embiid   0.379030      0.580   \n",
       "3           Stephen Curry          Stephen Curry   0.310502      0.449   \n",
       "4   Giannis Antetokounmpo  Giannis Antetokounmpo   0.180406      0.345   \n",
       "5             Luka Dončić             Chris Paul   0.167969      0.138   \n",
       "6            LeBron James            Luka Dončić   0.099236      0.042   \n",
       "7            Bradley Beal         Damian Lillard   0.087907      0.038   \n",
       "8         Zion Williamson          Julius Randle   0.070360      0.020   \n",
       "9          Damian Lillard            Rudy Gobert   0.059986      0.008   \n",
       "10      Russell Westbrook      Russell Westbrook   0.012727      0.005   \n",
       "\n",
       "                     2022                                               \n",
       "              Pred_Player            Real_Player Pred_Share Real_Share  \n",
       "1   Giannis Antetokounmpo           Nikola Jokić   0.815224      0.875  \n",
       "2            Nikola Jokić            Joel Embiid   0.654954      0.706  \n",
       "3             Joel Embiid  Giannis Antetokounmpo   0.633546      0.595  \n",
       "4             Luka Dončić           Devin Booker   0.257890      0.216  \n",
       "5               Ja Morant            Luka Dončić   0.133445      0.146  \n",
       "6            Kevin Durant           Jayson Tatum   0.111797      0.043  \n",
       "7            LeBron James              Ja Morant   0.106373      0.010  \n",
       "8           Stephen Curry          Stephen Curry   0.047592      0.004  \n",
       "9              Trae Young             Chris Paul   0.039468      0.002  \n",
       "10             Chris Paul          DeMar DeRozan   0.033920      0.001  "
      ]
     },
     "execution_count": 1107,
     "metadata": {},
     "output_type": "execute_result"
    }
   ],
   "source": [
    "y_pred_xgb = xgbr.predict(process_data_xgb(X_test))\n",
    "y_pred_xgb[y_pred_xgb < 0.01] = 0\n",
    "\n",
    "display_results(y_pred_xgb, mvp, 10)"
   ]
  },
  {
   "cell_type": "code",
   "execution_count": 1108,
   "id": "8c85b414-7d4a-47be-8aca-7caf7828e082",
   "metadata": {},
   "outputs": [
    {
     "name": "stdout",
     "output_type": "stream",
     "text": [
      "0.004699097003432339\n",
      "-0.009719106512645074\n"
     ]
    }
   ],
   "source": [
    "print(mean_absolute_error(y_pred_xgb, y_test)) \n",
    "print(cross_val_score(xgb.XGBRegressor(n_estimators = 500, subsample = 0.6, max_depth = 5, learning_rate = 0.01,\n",
    "                                       colsample_bytree = 0.6,colsample_bylevel = 0.6), \n",
    "                      process_data_xgb(X_train_ridge), y_train, cv = 10, \n",
    "                      scoring = \"neg_mean_absolute_error\").mean()) "
   ]
  },
  {
   "cell_type": "code",
   "execution_count": 1109,
   "id": "f4cfbaaa-22d6-4201-bf11-c1771eff8f8e",
   "metadata": {},
   "outputs": [
    {
     "name": "stdout",
     "output_type": "stream",
     "text": [
      "2021 Accuracy:  0.837890625\n",
      "2022 Accuracy:  0.7733709273182957\n",
      "Combined:  0.8056307761591479\n"
     ]
    }
   ],
   "source": [
    "print(\"2021 Accuracy: \", custom_error(y_pred_xgb[:269], 2021))\n",
    "print(\"2022 Accuracy: \", custom_error(y_pred_xgb[-297:], 2022))\n",
    "print(\"Combined: \", np.mean([custom_error(y_pred_xgb[:269], 2021), custom_error(y_pred_xgb[-297:], 2022)]))"
   ]
  },
  {
   "cell_type": "markdown",
   "id": "7bf49a49-f723-40a7-acc1-c6701b10149f",
   "metadata": {},
   "source": [
    "This model outperformed all other models! Even though my error metric returns a similar result in both the RandomForestRegressor and XGBoost, the MAE score supports the XGBoost algorithm. Therefore, I'll proceed with this algorithm and apply it to the rest of the awards."
   ]
  },
  {
   "cell_type": "markdown",
   "id": "316ede25-279c-4bf1-a3a4-2add14c8bae3",
   "metadata": {},
   "source": [
    "# 3. Summary of Results"
   ]
  },
  {
   "cell_type": "markdown",
   "id": "e390a775-4d1c-4808-936c-ee32fbd17705",
   "metadata": {},
   "source": [
    "Below is a table of the results of the models and their relative performance."
   ]
  },
  {
   "cell_type": "code",
   "execution_count": 1110,
   "id": "7c130289-ff37-4801-a20c-887bea889775",
   "metadata": {},
   "outputs": [
    {
     "data": {
      "text/html": [
       "<div>\n",
       "<style scoped>\n",
       "    .dataframe tbody tr th:only-of-type {\n",
       "        vertical-align: middle;\n",
       "    }\n",
       "\n",
       "    .dataframe tbody tr th {\n",
       "        vertical-align: top;\n",
       "    }\n",
       "\n",
       "    .dataframe thead th {\n",
       "        text-align: right;\n",
       "    }\n",
       "</style>\n",
       "<table border=\"1\" class=\"dataframe\">\n",
       "  <thead>\n",
       "    <tr style=\"text-align: right;\">\n",
       "      <th></th>\n",
       "      <th>Model</th>\n",
       "      <th>MAE</th>\n",
       "      <th>Custom Error Score</th>\n",
       "      <th>2021 MVP</th>\n",
       "      <th>2022 MVP</th>\n",
       "    </tr>\n",
       "  </thead>\n",
       "  <tbody>\n",
       "    <tr>\n",
       "      <th>0</th>\n",
       "      <td>Linear</td>\n",
       "      <td>0.014780</td>\n",
       "      <td>0.746679</td>\n",
       "      <td>Isaac Okoro</td>\n",
       "      <td>Nikola Jokić</td>\n",
       "    </tr>\n",
       "    <tr>\n",
       "      <th>1</th>\n",
       "      <td>Ridge</td>\n",
       "      <td>0.011883</td>\n",
       "      <td>0.739534</td>\n",
       "      <td>Joel Embiid</td>\n",
       "      <td>Giannis Antetokounmpo</td>\n",
       "    </tr>\n",
       "    <tr>\n",
       "      <th>2</th>\n",
       "      <td>SVR</td>\n",
       "      <td>0.009858</td>\n",
       "      <td>0.695016</td>\n",
       "      <td>Nikola Jokić</td>\n",
       "      <td>Nikola Jokić</td>\n",
       "    </tr>\n",
       "    <tr>\n",
       "      <th>3</th>\n",
       "      <td>Random Forest</td>\n",
       "      <td>0.005274</td>\n",
       "      <td>0.724678</td>\n",
       "      <td>Nikola Jokić</td>\n",
       "      <td>Giannis Antetokounmpo</td>\n",
       "    </tr>\n",
       "    <tr>\n",
       "      <th>4</th>\n",
       "      <td>XGBoost</td>\n",
       "      <td>0.004699</td>\n",
       "      <td>0.805631</td>\n",
       "      <td>Nikola Jokić</td>\n",
       "      <td>Giannis Antetokounmpo</td>\n",
       "    </tr>\n",
       "  </tbody>\n",
       "</table>\n",
       "</div>"
      ],
      "text/plain": [
       "           Model       MAE  Custom Error Score      2021 MVP  \\\n",
       "0         Linear  0.014780            0.746679   Isaac Okoro   \n",
       "1          Ridge  0.011883            0.739534   Joel Embiid   \n",
       "2            SVR  0.009858            0.695016  Nikola Jokić   \n",
       "3  Random Forest  0.005274            0.724678  Nikola Jokić   \n",
       "4        XGBoost  0.004699            0.805631  Nikola Jokić   \n",
       "\n",
       "                2022 MVP  \n",
       "0           Nikola Jokić  \n",
       "1  Giannis Antetokounmpo  \n",
       "2           Nikola Jokić  \n",
       "3  Giannis Antetokounmpo  \n",
       "4  Giannis Antetokounmpo  "
      ]
     },
     "execution_count": 1110,
     "metadata": {},
     "output_type": "execute_result"
    }
   ],
   "source": [
    "results = pd.DataFrame()\n",
    "results[\"Model\"] = [\"Linear\", \"Ridge\", \"SVR\", \"Random Forest\", \"XGBoost\"]\n",
    "results[\"MAE\"] = [mean_absolute_error(y_pred, y_test),\n",
    "                  mean_absolute_error(y_pred_ridge, y_test),\n",
    "                  mean_absolute_error(y_pred_svr, y_test),\n",
    "                  mean_absolute_error(y_pred_rfr, y_test),\n",
    "                  mean_absolute_error(y_pred_xgb, y_test)]\n",
    "\n",
    "def mean_error(predictions):\n",
    "    return np.mean([custom_error(predictions[:269], 2021), custom_error(predictions[-297:], 2022)])\n",
    "\n",
    "error_scores = list(map(mean_error, [y_pred, y_pred_ridge, y_pred_svr, y_pred_rfr, y_pred_xgb]))\n",
    "results[\"Custom Error Score\"] = error_scores\n",
    "\n",
    "def mvp_prediction(predictions):\n",
    "    return display_results(predictions, mvp, 1)[2021][\"Pred_Player\"].values[0], display_results(predictions, mvp, 1)[2022][\"Pred_Player\"].values[0]\n",
    "\n",
    "mvp_predictions = pd.DataFrame((map(mvp_prediction, \n",
    "                                    [y_pred, y_pred_ridge, y_pred_svr, y_pred_rfr, y_pred_xgb])),\n",
    "                               columns = (\"2021 MVP\", \"2022 MVP\"))\n",
    "results = results.join(mvp_predictions)\n",
    "\n",
    "results"
   ]
  },
  {
   "cell_type": "markdown",
   "id": "cedc5c50-9c35-45b2-bab9-bbffc22f9b11",
   "metadata": {},
   "source": [
    "## Backtesting Model"
   ]
  },
  {
   "cell_type": "markdown",
   "id": "f96da97b-fe9c-4852-8644-ac197b1dc6e9",
   "metadata": {},
   "source": [
    "With this new model, I'll now create a backtest to predict the MVP (Player with highest voting share) every year from 2006-2022. "
   ]
  },
  {
   "cell_type": "code",
   "execution_count": 1323,
   "id": "7f4c849d-74e4-42ce-9cc5-731125e11d63",
   "metadata": {},
   "outputs": [
    {
     "data": {
      "text/plain": [
       "4453"
      ]
     },
     "execution_count": 1323,
     "metadata": {},
     "output_type": "execute_result"
    }
   ],
   "source": [
    "mvp[mvp[\"Player\"] == \"Giannis Antetokounmpo\"].index[0]"
   ]
  },
  {
   "cell_type": "code",
   "execution_count": 1335,
   "id": "417dc3bc-5004-4bde-8a68-4f2a1d3fa268",
   "metadata": {},
   "outputs": [
    {
     "data": {
      "text/plain": [
       "0.82870346"
      ]
     },
     "execution_count": 1335,
     "metadata": {},
     "output_type": "execute_result"
    }
   ],
   "source": [
    "temp.sort_values(\"Pred_Share\", ascending = False).iloc[0, 1]"
   ]
  },
  {
   "cell_type": "code",
   "execution_count": 1338,
   "id": "66e07c54-9d5f-43e8-b1e0-05f7d4cf34f2",
   "metadata": {},
   "outputs": [
    {
     "data": {
      "text/html": [
       "<div>\n",
       "<style scoped>\n",
       "    .dataframe tbody tr th:only-of-type {\n",
       "        vertical-align: middle;\n",
       "    }\n",
       "\n",
       "    .dataframe tbody tr th {\n",
       "        vertical-align: top;\n",
       "    }\n",
       "\n",
       "    .dataframe thead th {\n",
       "        text-align: right;\n",
       "    }\n",
       "</style>\n",
       "<table border=\"1\" class=\"dataframe\">\n",
       "  <thead>\n",
       "    <tr style=\"text-align: right;\">\n",
       "      <th></th>\n",
       "      <th>Year</th>\n",
       "      <th>Pred MVP</th>\n",
       "      <th>Real MVP</th>\n",
       "      <th>Pred Share</th>\n",
       "      <th>Real Share</th>\n",
       "    </tr>\n",
       "  </thead>\n",
       "  <tbody>\n",
       "    <tr>\n",
       "      <th>0</th>\n",
       "      <td>2006</td>\n",
       "      <td>Kobe Bryant</td>\n",
       "      <td>Steve Nash</td>\n",
       "      <td>0.535109</td>\n",
       "      <td>0.739</td>\n",
       "    </tr>\n",
       "    <tr>\n",
       "      <th>1</th>\n",
       "      <td>2007</td>\n",
       "      <td>Steve Nash</td>\n",
       "      <td>Dirk Nowitzki</td>\n",
       "      <td>0.907199</td>\n",
       "      <td>0.882</td>\n",
       "    </tr>\n",
       "    <tr>\n",
       "      <th>2</th>\n",
       "      <td>2008</td>\n",
       "      <td>LeBron James</td>\n",
       "      <td>Kobe Bryant</td>\n",
       "      <td>0.430484</td>\n",
       "      <td>0.873</td>\n",
       "    </tr>\n",
       "    <tr>\n",
       "      <th>3</th>\n",
       "      <td>2009</td>\n",
       "      <td>LeBron James</td>\n",
       "      <td>LeBron James</td>\n",
       "      <td>0.655591</td>\n",
       "      <td>0.969</td>\n",
       "    </tr>\n",
       "    <tr>\n",
       "      <th>4</th>\n",
       "      <td>2010</td>\n",
       "      <td>LeBron James</td>\n",
       "      <td>LeBron James</td>\n",
       "      <td>0.889428</td>\n",
       "      <td>0.980</td>\n",
       "    </tr>\n",
       "    <tr>\n",
       "      <th>5</th>\n",
       "      <td>2011</td>\n",
       "      <td>LeBron James</td>\n",
       "      <td>Derrick Rose</td>\n",
       "      <td>0.540028</td>\n",
       "      <td>0.977</td>\n",
       "    </tr>\n",
       "    <tr>\n",
       "      <th>6</th>\n",
       "      <td>2012</td>\n",
       "      <td>LeBron James</td>\n",
       "      <td>LeBron James</td>\n",
       "      <td>0.553897</td>\n",
       "      <td>0.888</td>\n",
       "    </tr>\n",
       "    <tr>\n",
       "      <th>7</th>\n",
       "      <td>2013</td>\n",
       "      <td>LeBron James</td>\n",
       "      <td>LeBron James</td>\n",
       "      <td>0.776861</td>\n",
       "      <td>0.998</td>\n",
       "    </tr>\n",
       "    <tr>\n",
       "      <th>8</th>\n",
       "      <td>2014</td>\n",
       "      <td>Kevin Durant</td>\n",
       "      <td>Kevin Durant</td>\n",
       "      <td>0.645513</td>\n",
       "      <td>0.986</td>\n",
       "    </tr>\n",
       "    <tr>\n",
       "      <th>9</th>\n",
       "      <td>2015</td>\n",
       "      <td>Stephen Curry</td>\n",
       "      <td>Stephen Curry</td>\n",
       "      <td>0.696836</td>\n",
       "      <td>0.922</td>\n",
       "    </tr>\n",
       "    <tr>\n",
       "      <th>10</th>\n",
       "      <td>2016</td>\n",
       "      <td>Stephen Curry</td>\n",
       "      <td>Stephen Curry</td>\n",
       "      <td>0.880878</td>\n",
       "      <td>1.000</td>\n",
       "    </tr>\n",
       "    <tr>\n",
       "      <th>11</th>\n",
       "      <td>2017</td>\n",
       "      <td>James Harden</td>\n",
       "      <td>Russell Westbrook</td>\n",
       "      <td>0.546846</td>\n",
       "      <td>0.879</td>\n",
       "    </tr>\n",
       "    <tr>\n",
       "      <th>12</th>\n",
       "      <td>2018</td>\n",
       "      <td>James Harden</td>\n",
       "      <td>James Harden</td>\n",
       "      <td>0.669766</td>\n",
       "      <td>0.955</td>\n",
       "    </tr>\n",
       "    <tr>\n",
       "      <th>13</th>\n",
       "      <td>2019</td>\n",
       "      <td>James Harden</td>\n",
       "      <td>Giannis Antetokounmpo</td>\n",
       "      <td>0.804118</td>\n",
       "      <td>0.932</td>\n",
       "    </tr>\n",
       "    <tr>\n",
       "      <th>14</th>\n",
       "      <td>2020</td>\n",
       "      <td>Giannis Antetokounmpo</td>\n",
       "      <td>Giannis Antetokounmpo</td>\n",
       "      <td>0.764765</td>\n",
       "      <td>0.952</td>\n",
       "    </tr>\n",
       "    <tr>\n",
       "      <th>15</th>\n",
       "      <td>2021</td>\n",
       "      <td>Nikola Jokić</td>\n",
       "      <td>Nikola Jokić</td>\n",
       "      <td>0.850982</td>\n",
       "      <td>0.961</td>\n",
       "    </tr>\n",
       "    <tr>\n",
       "      <th>16</th>\n",
       "      <td>2022</td>\n",
       "      <td>Giannis Antetokounmpo</td>\n",
       "      <td>Nikola Jokić</td>\n",
       "      <td>0.828703</td>\n",
       "      <td>0.875</td>\n",
       "    </tr>\n",
       "  </tbody>\n",
       "</table>\n",
       "</div>"
      ],
      "text/plain": [
       "    Year               Pred MVP               Real MVP  Pred Share  Real Share\n",
       "0   2006            Kobe Bryant             Steve Nash    0.535109       0.739\n",
       "1   2007             Steve Nash          Dirk Nowitzki    0.907199       0.882\n",
       "2   2008           LeBron James            Kobe Bryant    0.430484       0.873\n",
       "3   2009           LeBron James           LeBron James    0.655591       0.969\n",
       "4   2010           LeBron James           LeBron James    0.889428       0.980\n",
       "5   2011           LeBron James           Derrick Rose    0.540028       0.977\n",
       "6   2012           LeBron James           LeBron James    0.553897       0.888\n",
       "7   2013           LeBron James           LeBron James    0.776861       0.998\n",
       "8   2014           Kevin Durant           Kevin Durant    0.645513       0.986\n",
       "9   2015          Stephen Curry          Stephen Curry    0.696836       0.922\n",
       "10  2016          Stephen Curry          Stephen Curry    0.880878       1.000\n",
       "11  2017           James Harden      Russell Westbrook    0.546846       0.879\n",
       "12  2018           James Harden           James Harden    0.669766       0.955\n",
       "13  2019           James Harden  Giannis Antetokounmpo    0.804118       0.932\n",
       "14  2020  Giannis Antetokounmpo  Giannis Antetokounmpo    0.764765       0.952\n",
       "15  2021           Nikola Jokić           Nikola Jokić    0.850982       0.961\n",
       "16  2022  Giannis Antetokounmpo           Nikola Jokić    0.828703       0.875"
      ]
     },
     "execution_count": 1338,
     "metadata": {},
     "output_type": "execute_result"
    }
   ],
   "source": [
    "#creating dataframe for real MVPs\n",
    "real_mvps = pd.DataFrame() \n",
    "players = []\n",
    "shares = []\n",
    "for x in range(2006, 2023):\n",
    "    players.append(mvp[mvp[\"Year\"] == x].sort_values(\"Share\", ascending = False).iloc[0][\"Player\"])\n",
    "    shares.append(mvp[mvp[\"Year\"] == x].sort_values(\"Share\", ascending = False).iloc[0][\"Share\"])\n",
    "\n",
    "real_mvps[\"Year\"] = range(2006, 2023)\n",
    "real_mvps[\"Real MVP\"] = players\n",
    "real_mvps[\"Real Share\"] = shares\n",
    "\n",
    "#creating dataframe for predictions \n",
    "agg = pd.concat([X_train_ridge, X_test], axis = 0).reset_index(drop = True)\n",
    "pred_mvps = pd.DataFrame()\n",
    "players_2 = []\n",
    "shares_2 = []\n",
    "for x in range(2006, 2023):\n",
    "    trainset = agg[agg[\"Year\"] < x] #due to temporal data, we'll only include years before \n",
    "    testset = agg[agg[\"Year\"] == x]\n",
    "    xgbr.fit(process_data_xgb(trainset), mvp[mvp[\"Year\"] < x][\"Share\"])\n",
    "    predict = xgbr.predict(process_data_xgb(testset))\n",
    "    \n",
    "    temp = pd.DataFrame({\"Player\": mvp[mvp[\"Year\"] == x][\"Player\"], \"Pred_Share\": predict})\n",
    "    temp.reset_index(drop = True, inplace = True)\n",
    "    pred_mvp = temp.sort_values(\"Pred_Share\", ascending = False).iloc[0, 0]\n",
    "    pred_share = temp.sort_values(\"Pred_Share\", ascending = False).iloc[0, 1]\n",
    "    players_2.append(pred_mvp)\n",
    "    shares_2.append(pred_share)\n",
    "\n",
    "pred_mvps[\"Year\"] = range(2006, 2023)\n",
    "pred_mvps[\"Pred MVP\"] = players_2\n",
    "pred_mvps[\"Pred Share\"] = shares_2 \n",
    "\n",
    "output = pd.merge(real_mvps, pred_mvps, on = \"Year\")\n",
    "output[[\"Year\", \"Pred MVP\", \"Real MVP\", \"Pred Share\", \"Real Share\"]]"
   ]
  },
  {
   "cell_type": "code",
   "execution_count": 1265,
   "id": "8726bf52-a542-4fd5-8bc7-03273517ad61",
   "metadata": {},
   "outputs": [
    {
     "data": {
      "text/plain": [
       "10"
      ]
     },
     "execution_count": 1265,
     "metadata": {},
     "output_type": "execute_result"
    }
   ],
   "source": [
    "np.sum(output[\"Pred MVP\"] == output[\"Real MVP\"])"
   ]
  },
  {
   "cell_type": "markdown",
   "id": "0febebe2-4760-4ddf-9715-1402fd77b55b",
   "metadata": {},
   "source": [
    "I was able to successfully predict 10/16 MVPs using this model. This is also considering controversial MVPs such as Derrick, Russell Westbrook, and Steve Nash"
   ]
  },
  {
   "cell_type": "markdown",
   "id": "6205539a-2fbd-4800-aeb8-17b825c060a7",
   "metadata": {},
   "source": [
    "# 4. Constructing Data Pipelines for Each Award"
   ]
  },
  {
   "cell_type": "markdown",
   "id": "0b2bc38a-d415-4149-92bd-2fd3d7941897",
   "metadata": {},
   "source": [
    "*NOTE:* We'll be utilizing the XGBoost algorithm with the same hyperparameters. Each award can have its own model tuning and selection process, however due to the similarity in the features and voting process for the NBA awards, this model should be sufficient in predicting within my desired range. "
   ]
  },
  {
   "cell_type": "markdown",
   "id": "ae49fb86-fb72-4d32-8c9d-3ee366cbc95c",
   "metadata": {},
   "source": [
    "1. Train/Test Split\n",
    "2. Encode Position\n",
    "3. Utilize Lasso Reduction to reduce the features\n",
    "4. Filter out the features \n",
    "5. Utilize RandomizedGridSearch for model tuning \n",
    "6. Fit training data into XGBRegressor model\n",
    "7. Output results"
   ]
  },
  {
   "cell_type": "code",
   "execution_count": 1131,
   "id": "aafcaba1-1b8f-4da0-8417-da4e9c5e4099",
   "metadata": {},
   "outputs": [],
   "source": [
    "#function that takes unprocessed dataframe and returns the train and test datasets that are processed and ready for model training\n",
    "def construct_datasets(df):\n",
    "    #Train/Test Split\n",
    "    X = df.drop([\"Player\", \"Share\"], axis = 1)\n",
    "    y = df[\"Share\"]\n",
    "    \n",
    "    X_train = X[(X[\"Year\"] != 2022) & (X[\"Year\"] != 2021)].reset_index(drop = True)\n",
    "    X_test = X[~((X[\"Year\"] != 2022) & (X[\"Year\"] != 2021))].reset_index(drop = True)\n",
    "    cutoff = len(X) - len(X_train) #represents amount of players in 2021 and 2022\n",
    "    y_train = y[:-cutoff]\n",
    "    y_test = y.tail(cutoff)\n",
    "\n",
    "    #Encoding\n",
    "    ohe = OneHotEncoder(sparse = False)\n",
    "    new_pos = ohe.fit_transform(X_train[\"Pos\"].values.reshape(-1, 1))\n",
    "    df = pd.DataFrame(new_pos, columns = ohe.categories_[0])\n",
    "    X_train.rename(columns = {\"PF\": \"Fouls\"}, inplace = True) #PF already exists in feature names \n",
    "    X_train = X_train.join(df)\n",
    "    \n",
    "    positions = ohe.transform(X_test[\"Pos\"].values.reshape(-1, 1))\n",
    "    encoded_pos = pd.DataFrame(positions, columns = ohe.categories_[0])\n",
    "    X_test.rename(columns = {\"PF\": \"Fouls\"}, inplace = True)\n",
    "    X_test = X_test.join(encoded_pos)\n",
    "    \n",
    "    X_train.drop(\"Pos\", axis = 1, inplace = True)\n",
    "    X_test.drop(\"Pos\", axis = 1, inplace = True)\n",
    "    \n",
    "    #Using Lasso Regressor for Feature Selection\n",
    "    lasso = Pipeline([\n",
    "        (\"scaler\", StandardScaler()),\n",
    "        (\"ls\", Lasso(alpha = 0.0005, random_state = 10))\n",
    "    ])\n",
    "\n",
    "    feature_select = SelectFromModel(lasso).fit(X_train, y_train)\n",
    "    coefficients = feature_select.estimator_[\"ls\"].coef_\n",
    "    kept_features = list(X_train.columns[coefficients != 0])\n",
    "    \n",
    "    #searching for best parameters for XGBoost\n",
    "    parameters = {'max_depth': [3, 5, 10, 15, 20],\n",
    "               'learning_rate': [0.01, 0.1, 0.25, 0.5],\n",
    "               'subsample': np.arange(0.5, 1.0, 0.1),\n",
    "               'colsample_bytree': np.arange(0.5, 1.0, 0.1),\n",
    "               'colsample_bylevel': np.arange(0.5, 1.0, 0.1),\n",
    "               'n_estimators': [100, 500, 1000]}\n",
    "    model = xgb.XGBRegressor()\n",
    "\n",
    "    xgb_model = RandomizedSearchCV(estimator = model,\n",
    "                                  param_distributions = parameters,\n",
    "                                  scoring = \"neg_mean_squared_error\",\n",
    "                                  verbose = 1)\n",
    "\n",
    "    xgb_model.fit(X_train[kept_features], y_train) #Using ridge training dataset again\n",
    "    \n",
    "    #returns all the necessary information\n",
    "    return X_train[kept_features], X_test[kept_features], y_train, y_test, xgb_model.best_params_"
   ]
  },
  {
   "cell_type": "markdown",
   "id": "2dae04b4-6608-419b-8b0d-1f46f328bfbe",
   "metadata": {},
   "source": [
    "## ROY"
   ]
  },
  {
   "cell_type": "code",
   "execution_count": 1132,
   "id": "9d47606b-bae3-472d-b304-0c4bf56d0587",
   "metadata": {},
   "outputs": [],
   "source": [
    "#Getting rid of missing data using knowledge from EDA\n",
    "roy.drop([\"Unnamed: 0\", \"Tm\"], axis = 1, inplace = True)\n",
    "roy[\"3P%\"].fillna(0, inplace = True)\n",
    "roy[\"Share\"].fillna(0, inplace = True)\n",
    "roy.dropna(axis = 0, inplace = True)"
   ]
  },
  {
   "cell_type": "code",
   "execution_count": 1133,
   "id": "df23b141-ec82-43e9-a1e7-cf1e7cfe47d2",
   "metadata": {},
   "outputs": [
    {
     "name": "stdout",
     "output_type": "stream",
     "text": [
      "Fitting 5 folds for each of 10 candidates, totalling 50 fits\n",
      "Parameters for Model:  {'subsample': 0.7999999999999999, 'n_estimators': 500, 'max_depth': 5, 'learning_rate': 0.01, 'colsample_bytree': 0.7999999999999999, 'colsample_bylevel': 0.7999999999999999}\n"
     ]
    }
   ],
   "source": [
    "roy_datasets = construct_datasets(roy)\n",
    "\n",
    "X_train_roy = roy_datasets[0]\n",
    "X_test_roy = roy_datasets[1]\n",
    "y_train_roy = roy_datasets[2]\n",
    "y_test_roy = roy_datasets[3]\n",
    "print(\"Parameters for Model: \", roy_datasets[4])"
   ]
  },
  {
   "cell_type": "code",
   "execution_count": 1134,
   "id": "193f41bc-5d5a-49ac-a06b-e5732488f224",
   "metadata": {},
   "outputs": [
    {
     "name": "stdout",
     "output_type": "stream",
     "text": [
      "Kept Features:  ['Age' 'G' 'GS' 'MP' 'FG' 'FG%' '3P%' '2P%' 'FT' 'FT%' 'ORB' 'DRB' 'AST'\n",
      " 'STL' 'BLK' 'TOV' 'Fouls' 'Year' 'PER' 'TS%' 'DWS' 'WS/48' 'DBPM' 'BPM'\n",
      " 'VORP' 'Seed' 'WL' 'SS' 'MPG' 'PF' 'SG']\n"
     ]
    }
   ],
   "source": [
    "print(\"Kept Features: \", X_train_roy.columns.values)"
   ]
  },
  {
   "cell_type": "code",
   "execution_count": 1287,
   "id": "1853af85-730b-41bf-a656-566c4b2c8713",
   "metadata": {},
   "outputs": [],
   "source": [
    "xgbr_roy = xgb.XGBRegressor(n_estimators = 500,\n",
    "                       subsample = 0.8,\n",
    "                       max_depth = 5,\n",
    "                       learning_rate = 0.01,\n",
    "                       colsample_bytree = 0.8,\n",
    "                       colsample_bylevel = 0.8)\n",
    "\n",
    "xgbr_roy.fit(X_train_roy, y_train_roy)\n",
    "y_pred_roy = xgbr_roy.predict(X_test_roy)\n",
    "y_pred_roy[y_pred_roy < 0.05] = 0"
   ]
  },
  {
   "cell_type": "markdown",
   "id": "d8f9c105-83c4-426e-a5f9-a8cb958669d1",
   "metadata": {},
   "source": [
    "Evaluating Results:"
   ]
  },
  {
   "cell_type": "code",
   "execution_count": 1288,
   "id": "fc1c55ce-6df7-4cb1-88e2-1ed48616d456",
   "metadata": {},
   "outputs": [
    {
     "data": {
      "text/html": [
       "<div>\n",
       "<style scoped>\n",
       "    .dataframe tbody tr th:only-of-type {\n",
       "        vertical-align: middle;\n",
       "    }\n",
       "\n",
       "    .dataframe tbody tr th {\n",
       "        vertical-align: top;\n",
       "    }\n",
       "\n",
       "    .dataframe thead tr th {\n",
       "        text-align: left;\n",
       "    }\n",
       "</style>\n",
       "<table border=\"1\" class=\"dataframe\">\n",
       "  <thead>\n",
       "    <tr>\n",
       "      <th></th>\n",
       "      <th colspan=\"4\" halign=\"left\">2021</th>\n",
       "      <th colspan=\"4\" halign=\"left\">2022</th>\n",
       "    </tr>\n",
       "    <tr>\n",
       "      <th></th>\n",
       "      <th>Pred_Player</th>\n",
       "      <th>Real_Player</th>\n",
       "      <th>Pred_Share</th>\n",
       "      <th>Real_Share</th>\n",
       "      <th>Pred_Player</th>\n",
       "      <th>Real_Player</th>\n",
       "      <th>Pred_Share</th>\n",
       "      <th>Real_Share</th>\n",
       "    </tr>\n",
       "  </thead>\n",
       "  <tbody>\n",
       "    <tr>\n",
       "      <th>1</th>\n",
       "      <td>Anthony Edwards</td>\n",
       "      <td>LaMelo Ball</td>\n",
       "      <td>0.343941</td>\n",
       "      <td>0.939</td>\n",
       "      <td>Evan Mobley</td>\n",
       "      <td>Scottie Barnes</td>\n",
       "      <td>0.497229</td>\n",
       "      <td>0.756</td>\n",
       "    </tr>\n",
       "    <tr>\n",
       "      <th>2</th>\n",
       "      <td>Tyrese Haliburton</td>\n",
       "      <td>Anthony Edwards</td>\n",
       "      <td>0.138295</td>\n",
       "      <td>0.624</td>\n",
       "      <td>Scottie Barnes</td>\n",
       "      <td>Evan Mobley</td>\n",
       "      <td>0.496494</td>\n",
       "      <td>0.726</td>\n",
       "    </tr>\n",
       "    <tr>\n",
       "      <th>3</th>\n",
       "      <td>LaMelo Ball</td>\n",
       "      <td>Tyrese Haliburton</td>\n",
       "      <td>0.135329</td>\n",
       "      <td>0.230</td>\n",
       "      <td>Cade Cunningham</td>\n",
       "      <td>Cade Cunningham</td>\n",
       "      <td>0.288039</td>\n",
       "      <td>0.306</td>\n",
       "    </tr>\n",
       "    <tr>\n",
       "      <th>4</th>\n",
       "      <td>Isaac Okoro</td>\n",
       "      <td>Saddiq Bey</td>\n",
       "      <td>0.113235</td>\n",
       "      <td>0.006</td>\n",
       "      <td>Jalen Green</td>\n",
       "      <td>Jalen Green</td>\n",
       "      <td>0.217565</td>\n",
       "      <td>0.006</td>\n",
       "    </tr>\n",
       "    <tr>\n",
       "      <th>5</th>\n",
       "      <td>Immanuel Quickley</td>\n",
       "      <td>Precious Achiuwa</td>\n",
       "      <td>0.053184</td>\n",
       "      <td>0.000</td>\n",
       "      <td>Franz Wagner</td>\n",
       "      <td>Franz Wagner</td>\n",
       "      <td>0.210502</td>\n",
       "      <td>0.004</td>\n",
       "    </tr>\n",
       "    <tr>\n",
       "      <th>6</th>\n",
       "      <td>Precious Achiuwa</td>\n",
       "      <td>Immanuel Quickley</td>\n",
       "      <td>0.000000</td>\n",
       "      <td>0.000</td>\n",
       "      <td>Josh Giddey</td>\n",
       "      <td>Herbert Jones</td>\n",
       "      <td>0.173029</td>\n",
       "      <td>0.002</td>\n",
       "    </tr>\n",
       "    <tr>\n",
       "      <th>7</th>\n",
       "      <td>Zeke Nnaji</td>\n",
       "      <td>Onyeka Okongwu</td>\n",
       "      <td>0.000000</td>\n",
       "      <td>0.000</td>\n",
       "      <td>Jose Alvarado</td>\n",
       "      <td>Jose Alvarado</td>\n",
       "      <td>0.000000</td>\n",
       "      <td>0.000</td>\n",
       "    </tr>\n",
       "  </tbody>\n",
       "</table>\n",
       "</div>"
      ],
      "text/plain": [
       "                2021                                           \\\n",
       "         Pred_Player        Real_Player Pred_Share Real_Share   \n",
       "1    Anthony Edwards        LaMelo Ball   0.343941      0.939   \n",
       "2  Tyrese Haliburton    Anthony Edwards   0.138295      0.624   \n",
       "3        LaMelo Ball  Tyrese Haliburton   0.135329      0.230   \n",
       "4        Isaac Okoro         Saddiq Bey   0.113235      0.006   \n",
       "5  Immanuel Quickley   Precious Achiuwa   0.053184      0.000   \n",
       "6   Precious Achiuwa  Immanuel Quickley   0.000000      0.000   \n",
       "7         Zeke Nnaji     Onyeka Okongwu   0.000000      0.000   \n",
       "\n",
       "              2022                                         \n",
       "       Pred_Player      Real_Player Pred_Share Real_Share  \n",
       "1      Evan Mobley   Scottie Barnes   0.497229      0.756  \n",
       "2   Scottie Barnes      Evan Mobley   0.496494      0.726  \n",
       "3  Cade Cunningham  Cade Cunningham   0.288039      0.306  \n",
       "4      Jalen Green      Jalen Green   0.217565      0.006  \n",
       "5     Franz Wagner     Franz Wagner   0.210502      0.004  \n",
       "6      Josh Giddey    Herbert Jones   0.173029      0.002  \n",
       "7    Jose Alvarado    Jose Alvarado   0.000000      0.000  "
      ]
     },
     "execution_count": 1288,
     "metadata": {},
     "output_type": "execute_result"
    }
   ],
   "source": [
    "display_results(y_pred_roy, roy, 7)"
   ]
  },
  {
   "cell_type": "code",
   "execution_count": 1289,
   "id": "718a287a-ce6b-410f-927e-046b07afe343",
   "metadata": {},
   "outputs": [
    {
     "name": "stdout",
     "output_type": "stream",
     "text": [
      "MAE:  0.03652517786799971\n"
     ]
    }
   ],
   "source": [
    "print(\"MAE: \", mean_absolute_error(y_pred_roy, y_test_roy))"
   ]
  },
  {
   "cell_type": "markdown",
   "id": "c0412e0d-b459-4f8a-80b2-ce666fe989b2",
   "metadata": {},
   "source": [
    "## SMOY"
   ]
  },
  {
   "cell_type": "code",
   "execution_count": 1290,
   "id": "e98b021d-57dd-46a0-8e42-0534c74159a0",
   "metadata": {},
   "outputs": [
    {
     "data": {
      "text/plain": [
       "0"
      ]
     },
     "execution_count": 1290,
     "metadata": {},
     "output_type": "execute_result"
    }
   ],
   "source": [
    "smoy.drop([\"Unnamed: 0\", \"Tm\"], axis = 1, inplace = True)\n",
    "smoy[\"3P%\"].fillna(0, inplace = True)\n",
    "smoy[\"Share\"].fillna(0, inplace = True)\n",
    "smoy.dropna(axis = 1, inplace = True)\n",
    "smoy.isna().sum().sum()"
   ]
  },
  {
   "cell_type": "markdown",
   "id": "3459085e-a2c3-41f5-8a96-1d7b7dc6f496",
   "metadata": {},
   "source": [
    "As discovered in EDA, SMOY has more positions than necessary. Therefore, we'll convert positions to fit one of the five from below. (Whatever comes first in the string)"
   ]
  },
  {
   "cell_type": "code",
   "execution_count": 819,
   "id": "6ba3b504-9776-41ba-a1aa-3acbc3d7d517",
   "metadata": {},
   "outputs": [
    {
     "data": {
      "text/plain": [
       "array(['C', 'PG', 'SG', 'PF', 'SF', 'SF-SG', 'PF-SF', 'PG-SG', 'C-PF',\n",
       "       'PF-C', 'SG-PG', 'SG-SF', 'SF-PF', 'SG-PF', 'SG-PG-SF'],\n",
       "      dtype=object)"
      ]
     },
     "execution_count": 819,
     "metadata": {},
     "output_type": "execute_result"
    }
   ],
   "source": [
    "smoy[\"Pos\"].unique()"
   ]
  },
  {
   "cell_type": "code",
   "execution_count": 1291,
   "id": "09dc52bf-510d-4f10-bb95-3c611c15a6da",
   "metadata": {},
   "outputs": [
    {
     "data": {
      "text/plain": [
       "array(['C', 'PG', 'SG', 'PF', 'SF'], dtype=object)"
      ]
     },
     "execution_count": 1291,
     "metadata": {},
     "output_type": "execute_result"
    }
   ],
   "source": [
    "def fix_pos(pos):\n",
    "    return pos.split(\"-\")[0]\n",
    "\n",
    "smoy[\"Pos\"] = smoy[\"Pos\"].apply(fix_pos)\n",
    "smoy[\"Pos\"].unique()"
   ]
  },
  {
   "cell_type": "code",
   "execution_count": 1292,
   "id": "00017b23-6782-4925-bfd9-fdda9bea826e",
   "metadata": {},
   "outputs": [
    {
     "name": "stdout",
     "output_type": "stream",
     "text": [
      "Fitting 5 folds for each of 10 candidates, totalling 50 fits\n",
      "\n",
      "Parameters for Model:  {'subsample': 0.7999999999999999, 'n_estimators': 1000, 'max_depth': 5, 'learning_rate': 0.25, 'colsample_bytree': 0.7999999999999999, 'colsample_bylevel': 0.5}\n"
     ]
    }
   ],
   "source": [
    "smoy_datasets = construct_datasets(smoy)\n",
    "\n",
    "X_train_smoy = smoy_datasets[0]\n",
    "X_test_smoy = smoy_datasets[1]\n",
    "y_train_smoy = smoy_datasets[2]\n",
    "y_test_smoy = smoy_datasets[3]\n",
    "print(\"\\nParameters for Model: \", smoy_datasets[4])"
   ]
  },
  {
   "cell_type": "code",
   "execution_count": 1293,
   "id": "8e1397f6-2e45-47c9-8fb7-e4d58d29e6b8",
   "metadata": {},
   "outputs": [
    {
     "name": "stdout",
     "output_type": "stream",
     "text": [
      "Kept Features:  ['Age' 'G' 'GS' 'MP' 'FG%' '3P%' '2P%' 'FT' 'DRB' 'TRB' 'AST' 'STL' 'TOV'\n",
      " 'Fouls' 'PTS' 'TS%' 'OWS' 'WS' 'DBPM' 'BPM' 'VORP' 'SS' 'C' 'PG' 'SG']\n"
     ]
    }
   ],
   "source": [
    "print(\"Kept Features: \", X_train_smoy.columns.values)"
   ]
  },
  {
   "cell_type": "code",
   "execution_count": 1294,
   "id": "3904843d-d438-4959-b5a9-a990ade5c8e3",
   "metadata": {},
   "outputs": [],
   "source": [
    "xgbr_smoy = xgb.XGBRegressor(n_estimators = 1000,\n",
    "                       subsample = 0.8,\n",
    "                       max_depth = 5,\n",
    "                       learning_rate = 0.25,\n",
    "                       colsample_bytree = 0.8,\n",
    "                       colsample_bylevel = 0.5)\n",
    "\n",
    "xgbr_smoy.fit(X_train_smoy, y_train_smoy)\n",
    "y_pred_smoy = xgbr_smoy.predict(X_test_smoy)\n",
    "y_pred_smoy[y_pred_smoy < 0.01] = 0"
   ]
  },
  {
   "cell_type": "markdown",
   "id": "eafc7085-e053-4a96-8082-ac62c48ea156",
   "metadata": {},
   "source": [
    "Results:"
   ]
  },
  {
   "cell_type": "code",
   "execution_count": 1295,
   "id": "d09c280c-33a2-47b2-b9b8-b3c165e0f3b6",
   "metadata": {},
   "outputs": [
    {
     "data": {
      "text/html": [
       "<div>\n",
       "<style scoped>\n",
       "    .dataframe tbody tr th:only-of-type {\n",
       "        vertical-align: middle;\n",
       "    }\n",
       "\n",
       "    .dataframe tbody tr th {\n",
       "        vertical-align: top;\n",
       "    }\n",
       "\n",
       "    .dataframe thead tr th {\n",
       "        text-align: left;\n",
       "    }\n",
       "</style>\n",
       "<table border=\"1\" class=\"dataframe\">\n",
       "  <thead>\n",
       "    <tr>\n",
       "      <th></th>\n",
       "      <th colspan=\"4\" halign=\"left\">2021</th>\n",
       "      <th colspan=\"4\" halign=\"left\">2022</th>\n",
       "    </tr>\n",
       "    <tr>\n",
       "      <th></th>\n",
       "      <th>Pred_Player</th>\n",
       "      <th>Real_Player</th>\n",
       "      <th>Pred_Share</th>\n",
       "      <th>Real_Share</th>\n",
       "      <th>Pred_Player</th>\n",
       "      <th>Real_Player</th>\n",
       "      <th>Pred_Share</th>\n",
       "      <th>Real_Share</th>\n",
       "    </tr>\n",
       "  </thead>\n",
       "  <tbody>\n",
       "    <tr>\n",
       "      <th>1</th>\n",
       "      <td>Jordan Clarkson</td>\n",
       "      <td>Jordan Clarkson</td>\n",
       "      <td>0.309898</td>\n",
       "      <td>0.814</td>\n",
       "      <td>Kevin Love</td>\n",
       "      <td>Tyler Herro</td>\n",
       "      <td>0.398781</td>\n",
       "      <td>0.976</td>\n",
       "    </tr>\n",
       "    <tr>\n",
       "      <th>2</th>\n",
       "      <td>Montrezl Harrell</td>\n",
       "      <td>Joe Ingles</td>\n",
       "      <td>0.268048</td>\n",
       "      <td>0.544</td>\n",
       "      <td>Montrezl Harrell</td>\n",
       "      <td>Kevin Love</td>\n",
       "      <td>0.362839</td>\n",
       "      <td>0.428</td>\n",
       "    </tr>\n",
       "    <tr>\n",
       "      <th>3</th>\n",
       "      <td>Chris Boucher</td>\n",
       "      <td>Derrick Rose</td>\n",
       "      <td>0.176908</td>\n",
       "      <td>0.154</td>\n",
       "      <td>Tyler Herro</td>\n",
       "      <td>Cameron Johnson</td>\n",
       "      <td>0.211696</td>\n",
       "      <td>0.256</td>\n",
       "    </tr>\n",
       "    <tr>\n",
       "      <th>4</th>\n",
       "      <td>Tim Hardaway Jr.</td>\n",
       "      <td>Jalen Brunson</td>\n",
       "      <td>0.120818</td>\n",
       "      <td>0.134</td>\n",
       "      <td>Jordan Clarkson</td>\n",
       "      <td>Jordan Clarkson</td>\n",
       "      <td>0.096038</td>\n",
       "      <td>0.054</td>\n",
       "    </tr>\n",
       "    <tr>\n",
       "      <th>5</th>\n",
       "      <td>Tyrese Haliburton</td>\n",
       "      <td>Tim Hardaway Jr.</td>\n",
       "      <td>0.070840</td>\n",
       "      <td>0.048</td>\n",
       "      <td>Tyus Jones</td>\n",
       "      <td>Luke Kennard</td>\n",
       "      <td>0.061306</td>\n",
       "      <td>0.024</td>\n",
       "    </tr>\n",
       "    <tr>\n",
       "      <th>6</th>\n",
       "      <td>Thaddeus Young</td>\n",
       "      <td>Montrezl Harrell</td>\n",
       "      <td>0.051730</td>\n",
       "      <td>0.028</td>\n",
       "      <td>Kelly Oubre Jr.</td>\n",
       "      <td>Bogdan Bogdanović</td>\n",
       "      <td>0.046030</td>\n",
       "      <td>0.020</td>\n",
       "    </tr>\n",
       "    <tr>\n",
       "      <th>7</th>\n",
       "      <td>T.J. McConnell</td>\n",
       "      <td>Carmelo Anthony</td>\n",
       "      <td>0.050932</td>\n",
       "      <td>0.016</td>\n",
       "      <td>JaVale McGee</td>\n",
       "      <td>Kelly Oubre Jr.</td>\n",
       "      <td>0.045416</td>\n",
       "      <td>0.018</td>\n",
       "    </tr>\n",
       "    <tr>\n",
       "      <th>8</th>\n",
       "      <td>Tyus Jones</td>\n",
       "      <td>Chris Boucher</td>\n",
       "      <td>0.041740</td>\n",
       "      <td>0.014</td>\n",
       "      <td>Isaiah Hartenstein</td>\n",
       "      <td>De'Anthony Melton</td>\n",
       "      <td>0.042703</td>\n",
       "      <td>0.008</td>\n",
       "    </tr>\n",
       "    <tr>\n",
       "      <th>9</th>\n",
       "      <td>Derrick Rose</td>\n",
       "      <td>Bobby Portis</td>\n",
       "      <td>0.041564</td>\n",
       "      <td>0.012</td>\n",
       "      <td>LaMarcus Aldridge</td>\n",
       "      <td>Montrezl Harrell</td>\n",
       "      <td>0.041335</td>\n",
       "      <td>0.006</td>\n",
       "    </tr>\n",
       "    <tr>\n",
       "      <th>10</th>\n",
       "      <td>Joe Ingles</td>\n",
       "      <td>Enes Freedom</td>\n",
       "      <td>0.039834</td>\n",
       "      <td>0.010</td>\n",
       "      <td>Terance Mann</td>\n",
       "      <td>Immanuel Quickley</td>\n",
       "      <td>0.026277</td>\n",
       "      <td>0.004</td>\n",
       "    </tr>\n",
       "  </tbody>\n",
       "</table>\n",
       "</div>"
      ],
      "text/plain": [
       "                 2021                                          \\\n",
       "          Pred_Player       Real_Player Pred_Share Real_Share   \n",
       "1     Jordan Clarkson   Jordan Clarkson   0.309898      0.814   \n",
       "2    Montrezl Harrell        Joe Ingles   0.268048      0.544   \n",
       "3       Chris Boucher      Derrick Rose   0.176908      0.154   \n",
       "4    Tim Hardaway Jr.     Jalen Brunson   0.120818      0.134   \n",
       "5   Tyrese Haliburton  Tim Hardaway Jr.   0.070840      0.048   \n",
       "6      Thaddeus Young  Montrezl Harrell   0.051730      0.028   \n",
       "7      T.J. McConnell   Carmelo Anthony   0.050932      0.016   \n",
       "8          Tyus Jones     Chris Boucher   0.041740      0.014   \n",
       "9        Derrick Rose      Bobby Portis   0.041564      0.012   \n",
       "10         Joe Ingles      Enes Freedom   0.039834      0.010   \n",
       "\n",
       "                  2022                                           \n",
       "           Pred_Player        Real_Player Pred_Share Real_Share  \n",
       "1           Kevin Love        Tyler Herro   0.398781      0.976  \n",
       "2     Montrezl Harrell         Kevin Love   0.362839      0.428  \n",
       "3          Tyler Herro    Cameron Johnson   0.211696      0.256  \n",
       "4      Jordan Clarkson    Jordan Clarkson   0.096038      0.054  \n",
       "5           Tyus Jones       Luke Kennard   0.061306      0.024  \n",
       "6      Kelly Oubre Jr.  Bogdan Bogdanović   0.046030      0.020  \n",
       "7         JaVale McGee    Kelly Oubre Jr.   0.045416      0.018  \n",
       "8   Isaiah Hartenstein  De'Anthony Melton   0.042703      0.008  \n",
       "9    LaMarcus Aldridge   Montrezl Harrell   0.041335      0.006  \n",
       "10        Terance Mann  Immanuel Quickley   0.026277      0.004  "
      ]
     },
     "execution_count": 1295,
     "metadata": {},
     "output_type": "execute_result"
    }
   ],
   "source": [
    "display_results(y_pred_smoy, smoy, 10)"
   ]
  },
  {
   "cell_type": "code",
   "execution_count": 1296,
   "id": "d6c4d803-bc28-4616-a39f-5847afef95c8",
   "metadata": {},
   "outputs": [
    {
     "data": {
      "text/plain": [
       "0.01164987078466709"
      ]
     },
     "execution_count": 1296,
     "metadata": {},
     "output_type": "execute_result"
    }
   ],
   "source": [
    "mean_absolute_error(y_pred_smoy, y_test_smoy)"
   ]
  },
  {
   "cell_type": "markdown",
   "id": "765e6ca1-2992-43f8-a328-2a4619493175",
   "metadata": {},
   "source": [
    "## DPOY\n",
    "\n",
    "Utilizing insights from EDA to process the data"
   ]
  },
  {
   "cell_type": "code",
   "execution_count": 1297,
   "id": "4e3d50b0-b020-4b68-9e5d-f5f740352432",
   "metadata": {},
   "outputs": [
    {
     "data": {
      "text/plain": [
       "0"
      ]
     },
     "execution_count": 1297,
     "metadata": {},
     "output_type": "execute_result"
    }
   ],
   "source": [
    "dpoy.drop([\"Unnamed: 0\", \"Tm\"], axis = 1, inplace = True)\n",
    "\n",
    "dpoy[\"Pos\"] = dpoy[\"Pos\"].apply(fix_pos)\n",
    "\n",
    "dpoy[\"3P%\"].fillna(0, inplace = True)\n",
    "dpoy[\"FT%\"].fillna(0, inplace = True)\n",
    "dpoy[\"Share\"].fillna(0, inplace = True)\n",
    "dpoy.dropna(axis = 0, inplace = True)\n",
    "dpoy.isna().sum().sum()"
   ]
  },
  {
   "cell_type": "code",
   "execution_count": 1298,
   "id": "deec0531-7177-4380-8cf8-831cdf9fc493",
   "metadata": {},
   "outputs": [
    {
     "name": "stdout",
     "output_type": "stream",
     "text": [
      "Fitting 5 folds for each of 10 candidates, totalling 50 fits\n",
      "\n",
      "Parameters for Model:  {'subsample': 0.7, 'n_estimators': 500, 'max_depth': 3, 'learning_rate': 0.01, 'colsample_bytree': 0.5, 'colsample_bylevel': 0.6}\n"
     ]
    }
   ],
   "source": [
    "dpoy_datasets = construct_datasets(dpoy)\n",
    "\n",
    "X_train_dpoy = dpoy_datasets[0]\n",
    "X_test_dpoy = dpoy_datasets[1]\n",
    "y_train_dpoy = dpoy_datasets[2]\n",
    "y_test_dpoy = dpoy_datasets[3]\n",
    "print(\"\\nParameters for Model: \", dpoy_datasets[4])"
   ]
  },
  {
   "cell_type": "code",
   "execution_count": 1299,
   "id": "b97f12f6-d1ae-40cf-b0a7-e75c66a56016",
   "metadata": {},
   "outputs": [
    {
     "name": "stdout",
     "output_type": "stream",
     "text": [
      "Kept Features:  Index(['Age', 'G', 'GS', 'MP', 'FGA', '3P%', '2PA', 'FTA', 'FT%', 'BLK', 'TOV',\n",
      "       'Fouls', 'USG%', 'DWS', 'WS/48', 'DBPM', 'VORP', 'DEF RTG', 'DREB',\n",
      "       '%DREB', 'OPP PTS2ND CHANCE', 'PF', 'SG'],\n",
      "      dtype='object')\n"
     ]
    }
   ],
   "source": [
    "print(\"Kept Features: \", X_train_dpoy.columns)"
   ]
  },
  {
   "cell_type": "code",
   "execution_count": 1302,
   "id": "6ea322f4-c0ba-480b-9731-76af1a75adf3",
   "metadata": {},
   "outputs": [],
   "source": [
    "def add_back_features(features):\n",
    "    for x in features:\n",
    "        X_train_dpoy[x] = (dpoy[x])[:6028]\n",
    "        X_test_dpoy[x] = (dpoy[x])[-614:]\n",
    "\n",
    "add_back_features([\"STL\", \"STL%\"])"
   ]
  },
  {
   "cell_type": "code",
   "execution_count": 1303,
   "id": "63f6977a-b7bc-43b1-805f-bace50cccdb9",
   "metadata": {},
   "outputs": [],
   "source": [
    "xgbr_dpoy = xgb.XGBRegressor(n_estimators = 500,\n",
    "                       subsample = 0.5,\n",
    "                       max_depth = 20,\n",
    "                       learning_rate = 0.25,\n",
    "                       colsample_bytree = 0.9,\n",
    "                       colsample_bylevel = 0.6)\n",
    "\n",
    "xgbr_dpoy.fit(X_train_dpoy, y_train_dpoy)\n",
    "y_pred_dpoy = xgbr_dpoy.predict(X_test_dpoy)\n",
    "y_pred_dpoy[y_pred_dpoy < 0.01] = 0"
   ]
  },
  {
   "cell_type": "markdown",
   "id": "442d7538-1de8-4915-821c-637a1b979b10",
   "metadata": {},
   "source": [
    "Results:"
   ]
  },
  {
   "cell_type": "code",
   "execution_count": 1304,
   "id": "1569d41d-1cf7-4197-940c-d92024c48dbd",
   "metadata": {},
   "outputs": [
    {
     "data": {
      "text/html": [
       "<div>\n",
       "<style scoped>\n",
       "    .dataframe tbody tr th:only-of-type {\n",
       "        vertical-align: middle;\n",
       "    }\n",
       "\n",
       "    .dataframe tbody tr th {\n",
       "        vertical-align: top;\n",
       "    }\n",
       "\n",
       "    .dataframe thead tr th {\n",
       "        text-align: left;\n",
       "    }\n",
       "</style>\n",
       "<table border=\"1\" class=\"dataframe\">\n",
       "  <thead>\n",
       "    <tr>\n",
       "      <th></th>\n",
       "      <th colspan=\"4\" halign=\"left\">2021</th>\n",
       "      <th colspan=\"4\" halign=\"left\">2022</th>\n",
       "    </tr>\n",
       "    <tr>\n",
       "      <th></th>\n",
       "      <th>Pred_Player</th>\n",
       "      <th>Real_Player</th>\n",
       "      <th>Pred_Share</th>\n",
       "      <th>Real_Share</th>\n",
       "      <th>Pred_Player</th>\n",
       "      <th>Real_Player</th>\n",
       "      <th>Pred_Share</th>\n",
       "      <th>Real_Share</th>\n",
       "    </tr>\n",
       "  </thead>\n",
       "  <tbody>\n",
       "    <tr>\n",
       "      <th>1</th>\n",
       "      <td>Rudy Gobert</td>\n",
       "      <td>Rudy Gobert</td>\n",
       "      <td>0.740379</td>\n",
       "      <td>0.928</td>\n",
       "      <td>Giannis Antetokounmpo</td>\n",
       "      <td>Marcus Smart</td>\n",
       "      <td>0.395723</td>\n",
       "      <td>0.514</td>\n",
       "    </tr>\n",
       "    <tr>\n",
       "      <th>2</th>\n",
       "      <td>Giannis Antetokounmpo</td>\n",
       "      <td>Ben Simmons</td>\n",
       "      <td>0.278684</td>\n",
       "      <td>0.574</td>\n",
       "      <td>Mitchell Robinson</td>\n",
       "      <td>Mikal Bridges</td>\n",
       "      <td>0.133426</td>\n",
       "      <td>0.404</td>\n",
       "    </tr>\n",
       "    <tr>\n",
       "      <th>3</th>\n",
       "      <td>Joel Embiid</td>\n",
       "      <td>Draymond Green</td>\n",
       "      <td>0.064166</td>\n",
       "      <td>0.152</td>\n",
       "      <td>Al Horford</td>\n",
       "      <td>Rudy Gobert</td>\n",
       "      <td>0.127000</td>\n",
       "      <td>0.272</td>\n",
       "    </tr>\n",
       "    <tr>\n",
       "      <th>4</th>\n",
       "      <td>Clint Capela</td>\n",
       "      <td>Bam Adebayo</td>\n",
       "      <td>0.063590</td>\n",
       "      <td>0.062</td>\n",
       "      <td>Rudy Gobert</td>\n",
       "      <td>Bam Adebayo</td>\n",
       "      <td>0.105850</td>\n",
       "      <td>0.256</td>\n",
       "    </tr>\n",
       "    <tr>\n",
       "      <th>5</th>\n",
       "      <td>Domantas Sabonis</td>\n",
       "      <td>Giannis Antetokounmpo</td>\n",
       "      <td>0.045747</td>\n",
       "      <td>0.024</td>\n",
       "      <td>Jae Crowder</td>\n",
       "      <td>Jaren Jackson Jr.</td>\n",
       "      <td>0.089239</td>\n",
       "      <td>0.198</td>\n",
       "    </tr>\n",
       "    <tr>\n",
       "      <th>6</th>\n",
       "      <td>Matisse Thybulle</td>\n",
       "      <td>Clint Capela</td>\n",
       "      <td>0.041042</td>\n",
       "      <td>0.020</td>\n",
       "      <td>Dwight Powell</td>\n",
       "      <td>Giannis Antetokounmpo</td>\n",
       "      <td>0.056710</td>\n",
       "      <td>0.116</td>\n",
       "    </tr>\n",
       "    <tr>\n",
       "      <th>7</th>\n",
       "      <td>Draymond Green</td>\n",
       "      <td>Joel Embiid</td>\n",
       "      <td>0.037510</td>\n",
       "      <td>0.014</td>\n",
       "      <td>Chris Paul</td>\n",
       "      <td>Jrue Holiday</td>\n",
       "      <td>0.054849</td>\n",
       "      <td>0.012</td>\n",
       "    </tr>\n",
       "    <tr>\n",
       "      <th>8</th>\n",
       "      <td>Trae Young</td>\n",
       "      <td>Jrue Holiday</td>\n",
       "      <td>0.035427</td>\n",
       "      <td>0.012</td>\n",
       "      <td>Mikal Bridges</td>\n",
       "      <td>Al Horford</td>\n",
       "      <td>0.052728</td>\n",
       "      <td>0.006</td>\n",
       "    </tr>\n",
       "  </tbody>\n",
       "</table>\n",
       "</div>"
      ],
      "text/plain": [
       "                    2021                                               \\\n",
       "             Pred_Player            Real_Player Pred_Share Real_Share   \n",
       "1            Rudy Gobert            Rudy Gobert   0.740379      0.928   \n",
       "2  Giannis Antetokounmpo            Ben Simmons   0.278684      0.574   \n",
       "3            Joel Embiid         Draymond Green   0.064166      0.152   \n",
       "4           Clint Capela            Bam Adebayo   0.063590      0.062   \n",
       "5       Domantas Sabonis  Giannis Antetokounmpo   0.045747      0.024   \n",
       "6       Matisse Thybulle           Clint Capela   0.041042      0.020   \n",
       "7         Draymond Green            Joel Embiid   0.037510      0.014   \n",
       "8             Trae Young           Jrue Holiday   0.035427      0.012   \n",
       "\n",
       "                    2022                                               \n",
       "             Pred_Player            Real_Player Pred_Share Real_Share  \n",
       "1  Giannis Antetokounmpo           Marcus Smart   0.395723      0.514  \n",
       "2      Mitchell Robinson          Mikal Bridges   0.133426      0.404  \n",
       "3             Al Horford            Rudy Gobert   0.127000      0.272  \n",
       "4            Rudy Gobert            Bam Adebayo   0.105850      0.256  \n",
       "5            Jae Crowder      Jaren Jackson Jr.   0.089239      0.198  \n",
       "6          Dwight Powell  Giannis Antetokounmpo   0.056710      0.116  \n",
       "7             Chris Paul           Jrue Holiday   0.054849      0.012  \n",
       "8          Mikal Bridges             Al Horford   0.052728      0.006  "
      ]
     },
     "execution_count": 1304,
     "metadata": {},
     "output_type": "execute_result"
    }
   ],
   "source": [
    "display_results(y_pred_dpoy, dpoy, 8)"
   ]
  },
  {
   "cell_type": "markdown",
   "id": "290fcc6c-6f1f-4dc9-9ae2-329d3a837269",
   "metadata": {},
   "source": [
    "As I suspected from EDA, Marcus Smart would not be predicted for the award in 2022. This is a result of the model favoring centers and power forwards, making guards inaccurate. "
   ]
  },
  {
   "cell_type": "code",
   "execution_count": 1305,
   "id": "81be9b42-45e4-4f41-bd96-e551375a3611",
   "metadata": {},
   "outputs": [
    {
     "data": {
      "text/plain": [
       "0.006884449524252831"
      ]
     },
     "execution_count": 1305,
     "metadata": {},
     "output_type": "execute_result"
    }
   ],
   "source": [
    "mean_absolute_error(y_pred_dpoy, y_test_dpoy)"
   ]
  },
  {
   "cell_type": "markdown",
   "id": "4dff043a-7ad0-4306-b2f1-561029583ce0",
   "metadata": {},
   "source": [
    "## MIP"
   ]
  },
  {
   "cell_type": "code",
   "execution_count": 1306,
   "id": "8ce8d5cc-b4ac-4372-9127-03cc12ffb44d",
   "metadata": {},
   "outputs": [
    {
     "data": {
      "text/plain": [
       "0"
      ]
     },
     "execution_count": 1306,
     "metadata": {},
     "output_type": "execute_result"
    }
   ],
   "source": [
    "mip.drop([\"Unnamed: 0\", \"Tm\", \"AGG\"], axis = 1, inplace = True)\n",
    "\n",
    "mip[\"Pos\"] = mip[\"Pos\"].apply(fix_pos)\n",
    "\n",
    "mip.drop(mip[mip[\"GS - Q\"].isna()].index, axis = 0, inplace = True)\n",
    "mip.replace(np.inf, np.nan, inplace = True)\n",
    "mip[\"GS - %\"].fillna(0, inplace = True)\n",
    "mip[\"BLK - %\"].fillna(0, inplace = True)\n",
    "mip[\"Share\"].fillna(0, inplace = True)\n",
    "mip.isna().sum().sum()"
   ]
  },
  {
   "cell_type": "code",
   "execution_count": 1307,
   "id": "9eab1a9d-f5d3-4431-b892-e93770b3712f",
   "metadata": {},
   "outputs": [
    {
     "name": "stdout",
     "output_type": "stream",
     "text": [
      "Fitting 5 folds for each of 10 candidates, totalling 50 fits\n",
      "\n",
      "Parameters for Model:  {'subsample': 0.7, 'n_estimators': 100, 'max_depth': 15, 'learning_rate': 0.1, 'colsample_bytree': 0.6, 'colsample_bylevel': 0.6}\n"
     ]
    }
   ],
   "source": [
    "mip_datasets = construct_datasets(mip)\n",
    "\n",
    "X_train_mip = mip_datasets[0]\n",
    "X_test_mip = mip_datasets[1]\n",
    "y_train_mip = mip_datasets[2]\n",
    "y_test_mip = mip_datasets[3]\n",
    "print(\"\\nParameters for Model: \", mip_datasets[4])"
   ]
  },
  {
   "cell_type": "code",
   "execution_count": 1308,
   "id": "64164268-2b46-4e3c-add4-70a61bcf6427",
   "metadata": {},
   "outputs": [
    {
     "name": "stdout",
     "output_type": "stream",
     "text": [
      "Kept Features:  Index(['Age', 'G', 'GS', 'MP', 'TOV', 'OWS', 'WS', 'VORP', 'GS - %', 'MP - %',\n",
      "       'TS% - %', 'GS - Q', 'TRB - Q', 'AST - Q', 'STL - Q', 'PTS - Q',\n",
      "       'USG% - Q', 'WS/48 - Q', 'BPM - Q', 'VORP - Q', 'C', 'PF', 'PG', 'SG'],\n",
      "      dtype='object')\n"
     ]
    }
   ],
   "source": [
    "print(\"Kept Features: \", X_train_mip.columns)"
   ]
  },
  {
   "cell_type": "code",
   "execution_count": 1309,
   "id": "afefea91-59e7-487d-8a82-e58e35d9b4bf",
   "metadata": {},
   "outputs": [],
   "source": [
    "xgbr_mip = xgb.XGBRegressor(n_estimators = 100,\n",
    "                       subsample = 0.7,\n",
    "                       max_depth = 15,\n",
    "                       learning_rate = 0.1,\n",
    "                       colsample_bytree = 0.6,\n",
    "                       colsample_bylevel = 0.6)\n",
    "\n",
    "xgbr_mip.fit(X_train_mip, y_train_mip)\n",
    "y_pred_mip = xgbr_mip.predict(X_test_mip)\n",
    "#y_pred_dpoy[y_pred_dpoy < 0.01] = 0"
   ]
  },
  {
   "cell_type": "markdown",
   "id": "7f1540aa-334b-4fa9-a4fa-478961ae81d1",
   "metadata": {},
   "source": [
    "Results:"
   ]
  },
  {
   "cell_type": "code",
   "execution_count": 1310,
   "id": "0242542f-0ab3-4f6c-bbc4-3efb9558680c",
   "metadata": {},
   "outputs": [
    {
     "data": {
      "text/html": [
       "<div>\n",
       "<style scoped>\n",
       "    .dataframe tbody tr th:only-of-type {\n",
       "        vertical-align: middle;\n",
       "    }\n",
       "\n",
       "    .dataframe tbody tr th {\n",
       "        vertical-align: top;\n",
       "    }\n",
       "\n",
       "    .dataframe thead tr th {\n",
       "        text-align: left;\n",
       "    }\n",
       "</style>\n",
       "<table border=\"1\" class=\"dataframe\">\n",
       "  <thead>\n",
       "    <tr>\n",
       "      <th></th>\n",
       "      <th colspan=\"4\" halign=\"left\">2021</th>\n",
       "      <th colspan=\"4\" halign=\"left\">2022</th>\n",
       "    </tr>\n",
       "    <tr>\n",
       "      <th></th>\n",
       "      <th>Pred_Player</th>\n",
       "      <th>Real_Player</th>\n",
       "      <th>Pred_Share</th>\n",
       "      <th>Real_Share</th>\n",
       "      <th>Pred_Player</th>\n",
       "      <th>Real_Player</th>\n",
       "      <th>Pred_Share</th>\n",
       "      <th>Real_Share</th>\n",
       "    </tr>\n",
       "  </thead>\n",
       "  <tbody>\n",
       "    <tr>\n",
       "      <th>1</th>\n",
       "      <td>Kyle Anderson</td>\n",
       "      <td>Julius Randle</td>\n",
       "      <td>0.105915</td>\n",
       "      <td>0.986</td>\n",
       "      <td>LaMelo Ball</td>\n",
       "      <td>Ja Morant</td>\n",
       "      <td>0.238846</td>\n",
       "      <td>0.442</td>\n",
       "    </tr>\n",
       "    <tr>\n",
       "      <th>2</th>\n",
       "      <td>Julius Randle</td>\n",
       "      <td>Jerami Grant</td>\n",
       "      <td>0.095437</td>\n",
       "      <td>0.280</td>\n",
       "      <td>Miles Bridges</td>\n",
       "      <td>Dejounte Murray</td>\n",
       "      <td>0.214977</td>\n",
       "      <td>0.366</td>\n",
       "    </tr>\n",
       "    <tr>\n",
       "      <th>3</th>\n",
       "      <td>Michael Porter Jr.</td>\n",
       "      <td>Michael Porter Jr.</td>\n",
       "      <td>0.087314</td>\n",
       "      <td>0.276</td>\n",
       "      <td>Ja Morant</td>\n",
       "      <td>Darius Garland</td>\n",
       "      <td>0.200743</td>\n",
       "      <td>0.356</td>\n",
       "    </tr>\n",
       "    <tr>\n",
       "      <th>4</th>\n",
       "      <td>Nikola Jokić</td>\n",
       "      <td>Zach LaVine</td>\n",
       "      <td>0.068060</td>\n",
       "      <td>0.040</td>\n",
       "      <td>Darius Garland</td>\n",
       "      <td>Jordan Poole</td>\n",
       "      <td>0.173781</td>\n",
       "      <td>0.262</td>\n",
       "    </tr>\n",
       "    <tr>\n",
       "      <th>5</th>\n",
       "      <td>Jordan Poole</td>\n",
       "      <td>Jaylen Brown</td>\n",
       "      <td>0.053807</td>\n",
       "      <td>0.020</td>\n",
       "      <td>Robert Williams</td>\n",
       "      <td>Desmond Bane</td>\n",
       "      <td>0.151852</td>\n",
       "      <td>0.148</td>\n",
       "    </tr>\n",
       "    <tr>\n",
       "      <th>6</th>\n",
       "      <td>Thaddeus Young</td>\n",
       "      <td>Chris Boucher</td>\n",
       "      <td>0.050339</td>\n",
       "      <td>0.020</td>\n",
       "      <td>Desmond Bane</td>\n",
       "      <td>Tyrese Maxey</td>\n",
       "      <td>0.135287</td>\n",
       "      <td>0.104</td>\n",
       "    </tr>\n",
       "    <tr>\n",
       "      <th>7</th>\n",
       "      <td>RJ Barrett</td>\n",
       "      <td>Mikal Bridges</td>\n",
       "      <td>0.044568</td>\n",
       "      <td>0.016</td>\n",
       "      <td>Tyrese Haliburton</td>\n",
       "      <td>Miles Bridges</td>\n",
       "      <td>0.084936</td>\n",
       "      <td>0.076</td>\n",
       "    </tr>\n",
       "    <tr>\n",
       "      <th>8</th>\n",
       "      <td>Mikal Bridges</td>\n",
       "      <td>Jordan Poole</td>\n",
       "      <td>0.040307</td>\n",
       "      <td>0.006</td>\n",
       "      <td>Tyrese Maxey</td>\n",
       "      <td>Anfernee Simons</td>\n",
       "      <td>0.071110</td>\n",
       "      <td>0.026</td>\n",
       "    </tr>\n",
       "    <tr>\n",
       "      <th>9</th>\n",
       "      <td>Mike Conley</td>\n",
       "      <td>Jordan Clarkson</td>\n",
       "      <td>0.032184</td>\n",
       "      <td>0.006</td>\n",
       "      <td>Dejounte Murray</td>\n",
       "      <td>Robert Williams</td>\n",
       "      <td>0.066219</td>\n",
       "      <td>0.008</td>\n",
       "    </tr>\n",
       "    <tr>\n",
       "      <th>10</th>\n",
       "      <td>Coby White</td>\n",
       "      <td>Darius Garland</td>\n",
       "      <td>0.025129</td>\n",
       "      <td>0.006</td>\n",
       "      <td>P.J. Tucker</td>\n",
       "      <td>Jalen Brunson</td>\n",
       "      <td>0.055472</td>\n",
       "      <td>0.004</td>\n",
       "    </tr>\n",
       "  </tbody>\n",
       "</table>\n",
       "</div>"
      ],
      "text/plain": [
       "                  2021                                            \\\n",
       "           Pred_Player         Real_Player Pred_Share Real_Share   \n",
       "1        Kyle Anderson       Julius Randle   0.105915      0.986   \n",
       "2        Julius Randle        Jerami Grant   0.095437      0.280   \n",
       "3   Michael Porter Jr.  Michael Porter Jr.   0.087314      0.276   \n",
       "4         Nikola Jokić         Zach LaVine   0.068060      0.040   \n",
       "5         Jordan Poole        Jaylen Brown   0.053807      0.020   \n",
       "6       Thaddeus Young       Chris Boucher   0.050339      0.020   \n",
       "7           RJ Barrett       Mikal Bridges   0.044568      0.016   \n",
       "8        Mikal Bridges        Jordan Poole   0.040307      0.006   \n",
       "9          Mike Conley     Jordan Clarkson   0.032184      0.006   \n",
       "10          Coby White      Darius Garland   0.025129      0.006   \n",
       "\n",
       "                 2022                                         \n",
       "          Pred_Player      Real_Player Pred_Share Real_Share  \n",
       "1         LaMelo Ball        Ja Morant   0.238846      0.442  \n",
       "2       Miles Bridges  Dejounte Murray   0.214977      0.366  \n",
       "3           Ja Morant   Darius Garland   0.200743      0.356  \n",
       "4      Darius Garland     Jordan Poole   0.173781      0.262  \n",
       "5     Robert Williams     Desmond Bane   0.151852      0.148  \n",
       "6        Desmond Bane     Tyrese Maxey   0.135287      0.104  \n",
       "7   Tyrese Haliburton    Miles Bridges   0.084936      0.076  \n",
       "8        Tyrese Maxey  Anfernee Simons   0.071110      0.026  \n",
       "9     Dejounte Murray  Robert Williams   0.066219      0.008  \n",
       "10        P.J. Tucker    Jalen Brunson   0.055472      0.004  "
      ]
     },
     "execution_count": 1310,
     "metadata": {},
     "output_type": "execute_result"
    }
   ],
   "source": [
    "display_results(y_pred_mip, mip, 10)"
   ]
  },
  {
   "cell_type": "markdown",
   "id": "80972580-8c33-4153-8e4f-7e1982c195e2",
   "metadata": {},
   "source": [
    "A big reason why these results are inaccurate is because the data being used is per 36 min. data, whereas in the NBA, the award looks more specifically at per game data for the most improved player award. However, for deployment purposes, we have to rely on per 36 min. data because we'll be using per 36 min. data to project 2023 statistics."
   ]
  },
  {
   "cell_type": "code",
   "execution_count": 1311,
   "id": "702c36e4-c70a-44a6-a019-d59d00ef8d47",
   "metadata": {},
   "outputs": [
    {
     "data": {
      "text/plain": [
       "0.010001410542925767"
      ]
     },
     "execution_count": 1311,
     "metadata": {},
     "output_type": "execute_result"
    }
   ],
   "source": [
    "mean_absolute_error(y_pred_mip, y_test_mip)"
   ]
  },
  {
   "cell_type": "markdown",
   "id": "42ea66a8-a1a8-48c8-a674-9118c9299fb7",
   "metadata": {},
   "source": [
    "# 5. Final Models for Deployment"
   ]
  },
  {
   "cell_type": "code",
   "execution_count": 914,
   "id": "6ff953dd-8d54-4bf2-9d55-19ffa6774405",
   "metadata": {},
   "outputs": [],
   "source": [
    "import joblib"
   ]
  },
  {
   "cell_type": "markdown",
   "id": "b9b55691-64ad-4615-929a-75588f0f2924",
   "metadata": {},
   "source": [
    "Fitting the models onto the whole dataset (including 2021 and 2022):"
   ]
  },
  {
   "cell_type": "code",
   "execution_count": 1319,
   "id": "c817ac52-df81-4ae6-9c41-fa540459b226",
   "metadata": {},
   "outputs": [
    {
     "data": {
      "text/html": [
       "<style>#sk-container-id-35 {color: black;background-color: white;}#sk-container-id-35 pre{padding: 0;}#sk-container-id-35 div.sk-toggleable {background-color: white;}#sk-container-id-35 label.sk-toggleable__label {cursor: pointer;display: block;width: 100%;margin-bottom: 0;padding: 0.3em;box-sizing: border-box;text-align: center;}#sk-container-id-35 label.sk-toggleable__label-arrow:before {content: \"▸\";float: left;margin-right: 0.25em;color: #696969;}#sk-container-id-35 label.sk-toggleable__label-arrow:hover:before {color: black;}#sk-container-id-35 div.sk-estimator:hover label.sk-toggleable__label-arrow:before {color: black;}#sk-container-id-35 div.sk-toggleable__content {max-height: 0;max-width: 0;overflow: hidden;text-align: left;background-color: #f0f8ff;}#sk-container-id-35 div.sk-toggleable__content pre {margin: 0.2em;color: black;border-radius: 0.25em;background-color: #f0f8ff;}#sk-container-id-35 input.sk-toggleable__control:checked~div.sk-toggleable__content {max-height: 200px;max-width: 100%;overflow: auto;}#sk-container-id-35 input.sk-toggleable__control:checked~label.sk-toggleable__label-arrow:before {content: \"▾\";}#sk-container-id-35 div.sk-estimator input.sk-toggleable__control:checked~label.sk-toggleable__label {background-color: #d4ebff;}#sk-container-id-35 div.sk-label input.sk-toggleable__control:checked~label.sk-toggleable__label {background-color: #d4ebff;}#sk-container-id-35 input.sk-hidden--visually {border: 0;clip: rect(1px 1px 1px 1px);clip: rect(1px, 1px, 1px, 1px);height: 1px;margin: -1px;overflow: hidden;padding: 0;position: absolute;width: 1px;}#sk-container-id-35 div.sk-estimator {font-family: monospace;background-color: #f0f8ff;border: 1px dotted black;border-radius: 0.25em;box-sizing: border-box;margin-bottom: 0.5em;}#sk-container-id-35 div.sk-estimator:hover {background-color: #d4ebff;}#sk-container-id-35 div.sk-parallel-item::after {content: \"\";width: 100%;border-bottom: 1px solid gray;flex-grow: 1;}#sk-container-id-35 div.sk-label:hover label.sk-toggleable__label {background-color: #d4ebff;}#sk-container-id-35 div.sk-serial::before {content: \"\";position: absolute;border-left: 1px solid gray;box-sizing: border-box;top: 0;bottom: 0;left: 50%;z-index: 0;}#sk-container-id-35 div.sk-serial {display: flex;flex-direction: column;align-items: center;background-color: white;padding-right: 0.2em;padding-left: 0.2em;position: relative;}#sk-container-id-35 div.sk-item {position: relative;z-index: 1;}#sk-container-id-35 div.sk-parallel {display: flex;align-items: stretch;justify-content: center;background-color: white;position: relative;}#sk-container-id-35 div.sk-item::before, #sk-container-id-35 div.sk-parallel-item::before {content: \"\";position: absolute;border-left: 1px solid gray;box-sizing: border-box;top: 0;bottom: 0;left: 50%;z-index: -1;}#sk-container-id-35 div.sk-parallel-item {display: flex;flex-direction: column;z-index: 1;position: relative;background-color: white;}#sk-container-id-35 div.sk-parallel-item:first-child::after {align-self: flex-end;width: 50%;}#sk-container-id-35 div.sk-parallel-item:last-child::after {align-self: flex-start;width: 50%;}#sk-container-id-35 div.sk-parallel-item:only-child::after {width: 0;}#sk-container-id-35 div.sk-dashed-wrapped {border: 1px dashed gray;margin: 0 0.4em 0.5em 0.4em;box-sizing: border-box;padding-bottom: 0.4em;background-color: white;}#sk-container-id-35 div.sk-label label {font-family: monospace;font-weight: bold;display: inline-block;line-height: 1.2em;}#sk-container-id-35 div.sk-label-container {text-align: center;}#sk-container-id-35 div.sk-container {/* jupyter's `normalize.less` sets `[hidden] { display: none; }` but bootstrap.min.css set `[hidden] { display: none !important; }` so we also need the `!important` here to be able to override the default hidden behavior on the sphinx rendered scikit-learn.org. See: https://github.com/scikit-learn/scikit-learn/issues/21755 */display: inline-block !important;position: relative;}#sk-container-id-35 div.sk-text-repr-fallback {display: none;}</style><div id=\"sk-container-id-35\" class=\"sk-top-container\"><div class=\"sk-text-repr-fallback\"><pre>XGBRegressor(base_score=0.5, booster=&#x27;gbtree&#x27;, callbacks=None,\n",
       "             colsample_bylevel=0.8, colsample_bynode=1, colsample_bytree=0.5,\n",
       "             early_stopping_rounds=None, enable_categorical=False,\n",
       "             eval_metric=None, gamma=0, gpu_id=-1, grow_policy=&#x27;depthwise&#x27;,\n",
       "             importance_type=None, interaction_constraints=&#x27;&#x27;,\n",
       "             learning_rate=0.1, max_bin=256, max_cat_to_onehot=4,\n",
       "             max_delta_step=0, max_depth=10, max_leaves=0, min_child_weight=1,\n",
       "             missing=nan, monotone_constraints=&#x27;()&#x27;, n_estimators=100, n_jobs=0,\n",
       "             num_parallel_tree=1, predictor=&#x27;auto&#x27;, random_state=0, reg_alpha=0,\n",
       "             reg_lambda=1, ...)</pre><b>In a Jupyter environment, please rerun this cell to show the HTML representation or trust the notebook. <br />On GitHub, the HTML representation is unable to render, please try loading this page with nbviewer.org.</b></div><div class=\"sk-container\" hidden><div class=\"sk-item\"><div class=\"sk-estimator sk-toggleable\"><input class=\"sk-toggleable__control sk-hidden--visually\" id=\"sk-estimator-id-59\" type=\"checkbox\" checked><label for=\"sk-estimator-id-59\" class=\"sk-toggleable__label sk-toggleable__label-arrow\">XGBRegressor</label><div class=\"sk-toggleable__content\"><pre>XGBRegressor(base_score=0.5, booster=&#x27;gbtree&#x27;, callbacks=None,\n",
       "             colsample_bylevel=0.8, colsample_bynode=1, colsample_bytree=0.5,\n",
       "             early_stopping_rounds=None, enable_categorical=False,\n",
       "             eval_metric=None, gamma=0, gpu_id=-1, grow_policy=&#x27;depthwise&#x27;,\n",
       "             importance_type=None, interaction_constraints=&#x27;&#x27;,\n",
       "             learning_rate=0.1, max_bin=256, max_cat_to_onehot=4,\n",
       "             max_delta_step=0, max_depth=10, max_leaves=0, min_child_weight=1,\n",
       "             missing=nan, monotone_constraints=&#x27;()&#x27;, n_estimators=100, n_jobs=0,\n",
       "             num_parallel_tree=1, predictor=&#x27;auto&#x27;, random_state=0, reg_alpha=0,\n",
       "             reg_lambda=1, ...)</pre></div></div></div></div></div>"
      ],
      "text/plain": [
       "XGBRegressor(base_score=0.5, booster='gbtree', callbacks=None,\n",
       "             colsample_bylevel=0.8, colsample_bynode=1, colsample_bytree=0.5,\n",
       "             early_stopping_rounds=None, enable_categorical=False,\n",
       "             eval_metric=None, gamma=0, gpu_id=-1, grow_policy='depthwise',\n",
       "             importance_type=None, interaction_constraints='',\n",
       "             learning_rate=0.1, max_bin=256, max_cat_to_onehot=4,\n",
       "             max_delta_step=0, max_depth=10, max_leaves=0, min_child_weight=1,\n",
       "             missing=nan, monotone_constraints='()', n_estimators=100, n_jobs=0,\n",
       "             num_parallel_tree=1, predictor='auto', random_state=0, reg_alpha=0,\n",
       "             reg_lambda=1, ...)"
      ]
     },
     "execution_count": 1319,
     "metadata": {},
     "output_type": "execute_result"
    }
   ],
   "source": [
    "#mvp\n",
    "xgbr.fit(process_data_xgb(agg), mvp[\"Share\"].reset_index(drop = True))"
   ]
  },
  {
   "cell_type": "code",
   "execution_count": 1352,
   "id": "e39d5940-8ea1-48db-85d3-7468bd1af672",
   "metadata": {},
   "outputs": [
    {
     "data": {
      "text/html": [
       "<style>#sk-container-id-39 {color: black;background-color: white;}#sk-container-id-39 pre{padding: 0;}#sk-container-id-39 div.sk-toggleable {background-color: white;}#sk-container-id-39 label.sk-toggleable__label {cursor: pointer;display: block;width: 100%;margin-bottom: 0;padding: 0.3em;box-sizing: border-box;text-align: center;}#sk-container-id-39 label.sk-toggleable__label-arrow:before {content: \"▸\";float: left;margin-right: 0.25em;color: #696969;}#sk-container-id-39 label.sk-toggleable__label-arrow:hover:before {color: black;}#sk-container-id-39 div.sk-estimator:hover label.sk-toggleable__label-arrow:before {color: black;}#sk-container-id-39 div.sk-toggleable__content {max-height: 0;max-width: 0;overflow: hidden;text-align: left;background-color: #f0f8ff;}#sk-container-id-39 div.sk-toggleable__content pre {margin: 0.2em;color: black;border-radius: 0.25em;background-color: #f0f8ff;}#sk-container-id-39 input.sk-toggleable__control:checked~div.sk-toggleable__content {max-height: 200px;max-width: 100%;overflow: auto;}#sk-container-id-39 input.sk-toggleable__control:checked~label.sk-toggleable__label-arrow:before {content: \"▾\";}#sk-container-id-39 div.sk-estimator input.sk-toggleable__control:checked~label.sk-toggleable__label {background-color: #d4ebff;}#sk-container-id-39 div.sk-label input.sk-toggleable__control:checked~label.sk-toggleable__label {background-color: #d4ebff;}#sk-container-id-39 input.sk-hidden--visually {border: 0;clip: rect(1px 1px 1px 1px);clip: rect(1px, 1px, 1px, 1px);height: 1px;margin: -1px;overflow: hidden;padding: 0;position: absolute;width: 1px;}#sk-container-id-39 div.sk-estimator {font-family: monospace;background-color: #f0f8ff;border: 1px dotted black;border-radius: 0.25em;box-sizing: border-box;margin-bottom: 0.5em;}#sk-container-id-39 div.sk-estimator:hover {background-color: #d4ebff;}#sk-container-id-39 div.sk-parallel-item::after {content: \"\";width: 100%;border-bottom: 1px solid gray;flex-grow: 1;}#sk-container-id-39 div.sk-label:hover label.sk-toggleable__label {background-color: #d4ebff;}#sk-container-id-39 div.sk-serial::before {content: \"\";position: absolute;border-left: 1px solid gray;box-sizing: border-box;top: 0;bottom: 0;left: 50%;z-index: 0;}#sk-container-id-39 div.sk-serial {display: flex;flex-direction: column;align-items: center;background-color: white;padding-right: 0.2em;padding-left: 0.2em;position: relative;}#sk-container-id-39 div.sk-item {position: relative;z-index: 1;}#sk-container-id-39 div.sk-parallel {display: flex;align-items: stretch;justify-content: center;background-color: white;position: relative;}#sk-container-id-39 div.sk-item::before, #sk-container-id-39 div.sk-parallel-item::before {content: \"\";position: absolute;border-left: 1px solid gray;box-sizing: border-box;top: 0;bottom: 0;left: 50%;z-index: -1;}#sk-container-id-39 div.sk-parallel-item {display: flex;flex-direction: column;z-index: 1;position: relative;background-color: white;}#sk-container-id-39 div.sk-parallel-item:first-child::after {align-self: flex-end;width: 50%;}#sk-container-id-39 div.sk-parallel-item:last-child::after {align-self: flex-start;width: 50%;}#sk-container-id-39 div.sk-parallel-item:only-child::after {width: 0;}#sk-container-id-39 div.sk-dashed-wrapped {border: 1px dashed gray;margin: 0 0.4em 0.5em 0.4em;box-sizing: border-box;padding-bottom: 0.4em;background-color: white;}#sk-container-id-39 div.sk-label label {font-family: monospace;font-weight: bold;display: inline-block;line-height: 1.2em;}#sk-container-id-39 div.sk-label-container {text-align: center;}#sk-container-id-39 div.sk-container {/* jupyter's `normalize.less` sets `[hidden] { display: none; }` but bootstrap.min.css set `[hidden] { display: none !important; }` so we also need the `!important` here to be able to override the default hidden behavior on the sphinx rendered scikit-learn.org. See: https://github.com/scikit-learn/scikit-learn/issues/21755 */display: inline-block !important;position: relative;}#sk-container-id-39 div.sk-text-repr-fallback {display: none;}</style><div id=\"sk-container-id-39\" class=\"sk-top-container\"><div class=\"sk-text-repr-fallback\"><pre>XGBRegressor(base_score=0.5, booster=&#x27;gbtree&#x27;, callbacks=None,\n",
       "             colsample_bylevel=0.6, colsample_bynode=1, colsample_bytree=0.9,\n",
       "             early_stopping_rounds=None, enable_categorical=False,\n",
       "             eval_metric=None, gamma=0, gpu_id=-1, grow_policy=&#x27;depthwise&#x27;,\n",
       "             importance_type=None, interaction_constraints=&#x27;&#x27;,\n",
       "             learning_rate=0.25, max_bin=256, max_cat_to_onehot=4,\n",
       "             max_delta_step=0, max_depth=20, max_leaves=0, min_child_weight=1,\n",
       "             missing=nan, monotone_constraints=&#x27;()&#x27;, n_estimators=500, n_jobs=0,\n",
       "             num_parallel_tree=1, predictor=&#x27;auto&#x27;, random_state=0, reg_alpha=0,\n",
       "             reg_lambda=1, ...)</pre><b>In a Jupyter environment, please rerun this cell to show the HTML representation or trust the notebook. <br />On GitHub, the HTML representation is unable to render, please try loading this page with nbviewer.org.</b></div><div class=\"sk-container\" hidden><div class=\"sk-item\"><div class=\"sk-estimator sk-toggleable\"><input class=\"sk-toggleable__control sk-hidden--visually\" id=\"sk-estimator-id-63\" type=\"checkbox\" checked><label for=\"sk-estimator-id-63\" class=\"sk-toggleable__label sk-toggleable__label-arrow\">XGBRegressor</label><div class=\"sk-toggleable__content\"><pre>XGBRegressor(base_score=0.5, booster=&#x27;gbtree&#x27;, callbacks=None,\n",
       "             colsample_bylevel=0.6, colsample_bynode=1, colsample_bytree=0.9,\n",
       "             early_stopping_rounds=None, enable_categorical=False,\n",
       "             eval_metric=None, gamma=0, gpu_id=-1, grow_policy=&#x27;depthwise&#x27;,\n",
       "             importance_type=None, interaction_constraints=&#x27;&#x27;,\n",
       "             learning_rate=0.25, max_bin=256, max_cat_to_onehot=4,\n",
       "             max_delta_step=0, max_depth=20, max_leaves=0, min_child_weight=1,\n",
       "             missing=nan, monotone_constraints=&#x27;()&#x27;, n_estimators=500, n_jobs=0,\n",
       "             num_parallel_tree=1, predictor=&#x27;auto&#x27;, random_state=0, reg_alpha=0,\n",
       "             reg_lambda=1, ...)</pre></div></div></div></div></div>"
      ],
      "text/plain": [
       "XGBRegressor(base_score=0.5, booster='gbtree', callbacks=None,\n",
       "             colsample_bylevel=0.6, colsample_bynode=1, colsample_bytree=0.9,\n",
       "             early_stopping_rounds=None, enable_categorical=False,\n",
       "             eval_metric=None, gamma=0, gpu_id=-1, grow_policy='depthwise',\n",
       "             importance_type=None, interaction_constraints='',\n",
       "             learning_rate=0.25, max_bin=256, max_cat_to_onehot=4,\n",
       "             max_delta_step=0, max_depth=20, max_leaves=0, min_child_weight=1,\n",
       "             missing=nan, monotone_constraints='()', n_estimators=500, n_jobs=0,\n",
       "             num_parallel_tree=1, predictor='auto', random_state=0, reg_alpha=0,\n",
       "             reg_lambda=1, ...)"
      ]
     },
     "execution_count": 1352,
     "metadata": {},
     "output_type": "execute_result"
    }
   ],
   "source": [
    "#dpoy\n",
    "agg_dpoy = pd.concat([X_train_dpoy, X_test_dpoy], axis = 0).reset_index(drop = True)\n",
    "xgbr_dpoy.fit(agg_dpoy, dpoy[\"Share\"].reset_index(drop = True))"
   ]
  },
  {
   "cell_type": "code",
   "execution_count": 1361,
   "id": "5b2f944b-6e73-4506-b8b2-d6481eae1f86",
   "metadata": {},
   "outputs": [
    {
     "data": {
      "text/html": [
       "<style>#sk-container-id-42 {color: black;background-color: white;}#sk-container-id-42 pre{padding: 0;}#sk-container-id-42 div.sk-toggleable {background-color: white;}#sk-container-id-42 label.sk-toggleable__label {cursor: pointer;display: block;width: 100%;margin-bottom: 0;padding: 0.3em;box-sizing: border-box;text-align: center;}#sk-container-id-42 label.sk-toggleable__label-arrow:before {content: \"▸\";float: left;margin-right: 0.25em;color: #696969;}#sk-container-id-42 label.sk-toggleable__label-arrow:hover:before {color: black;}#sk-container-id-42 div.sk-estimator:hover label.sk-toggleable__label-arrow:before {color: black;}#sk-container-id-42 div.sk-toggleable__content {max-height: 0;max-width: 0;overflow: hidden;text-align: left;background-color: #f0f8ff;}#sk-container-id-42 div.sk-toggleable__content pre {margin: 0.2em;color: black;border-radius: 0.25em;background-color: #f0f8ff;}#sk-container-id-42 input.sk-toggleable__control:checked~div.sk-toggleable__content {max-height: 200px;max-width: 100%;overflow: auto;}#sk-container-id-42 input.sk-toggleable__control:checked~label.sk-toggleable__label-arrow:before {content: \"▾\";}#sk-container-id-42 div.sk-estimator input.sk-toggleable__control:checked~label.sk-toggleable__label {background-color: #d4ebff;}#sk-container-id-42 div.sk-label input.sk-toggleable__control:checked~label.sk-toggleable__label {background-color: #d4ebff;}#sk-container-id-42 input.sk-hidden--visually {border: 0;clip: rect(1px 1px 1px 1px);clip: rect(1px, 1px, 1px, 1px);height: 1px;margin: -1px;overflow: hidden;padding: 0;position: absolute;width: 1px;}#sk-container-id-42 div.sk-estimator {font-family: monospace;background-color: #f0f8ff;border: 1px dotted black;border-radius: 0.25em;box-sizing: border-box;margin-bottom: 0.5em;}#sk-container-id-42 div.sk-estimator:hover {background-color: #d4ebff;}#sk-container-id-42 div.sk-parallel-item::after {content: \"\";width: 100%;border-bottom: 1px solid gray;flex-grow: 1;}#sk-container-id-42 div.sk-label:hover label.sk-toggleable__label {background-color: #d4ebff;}#sk-container-id-42 div.sk-serial::before {content: \"\";position: absolute;border-left: 1px solid gray;box-sizing: border-box;top: 0;bottom: 0;left: 50%;z-index: 0;}#sk-container-id-42 div.sk-serial {display: flex;flex-direction: column;align-items: center;background-color: white;padding-right: 0.2em;padding-left: 0.2em;position: relative;}#sk-container-id-42 div.sk-item {position: relative;z-index: 1;}#sk-container-id-42 div.sk-parallel {display: flex;align-items: stretch;justify-content: center;background-color: white;position: relative;}#sk-container-id-42 div.sk-item::before, #sk-container-id-42 div.sk-parallel-item::before {content: \"\";position: absolute;border-left: 1px solid gray;box-sizing: border-box;top: 0;bottom: 0;left: 50%;z-index: -1;}#sk-container-id-42 div.sk-parallel-item {display: flex;flex-direction: column;z-index: 1;position: relative;background-color: white;}#sk-container-id-42 div.sk-parallel-item:first-child::after {align-self: flex-end;width: 50%;}#sk-container-id-42 div.sk-parallel-item:last-child::after {align-self: flex-start;width: 50%;}#sk-container-id-42 div.sk-parallel-item:only-child::after {width: 0;}#sk-container-id-42 div.sk-dashed-wrapped {border: 1px dashed gray;margin: 0 0.4em 0.5em 0.4em;box-sizing: border-box;padding-bottom: 0.4em;background-color: white;}#sk-container-id-42 div.sk-label label {font-family: monospace;font-weight: bold;display: inline-block;line-height: 1.2em;}#sk-container-id-42 div.sk-label-container {text-align: center;}#sk-container-id-42 div.sk-container {/* jupyter's `normalize.less` sets `[hidden] { display: none; }` but bootstrap.min.css set `[hidden] { display: none !important; }` so we also need the `!important` here to be able to override the default hidden behavior on the sphinx rendered scikit-learn.org. See: https://github.com/scikit-learn/scikit-learn/issues/21755 */display: inline-block !important;position: relative;}#sk-container-id-42 div.sk-text-repr-fallback {display: none;}</style><div id=\"sk-container-id-42\" class=\"sk-top-container\"><div class=\"sk-text-repr-fallback\"><pre>XGBRegressor(base_score=0.5, booster=&#x27;gbtree&#x27;, callbacks=None,\n",
       "             colsample_bylevel=0.5, colsample_bynode=1, colsample_bytree=0.8,\n",
       "             early_stopping_rounds=None, enable_categorical=False,\n",
       "             eval_metric=None, gamma=0, gpu_id=-1, grow_policy=&#x27;depthwise&#x27;,\n",
       "             importance_type=None, interaction_constraints=&#x27;&#x27;,\n",
       "             learning_rate=0.25, max_bin=256, max_cat_to_onehot=4,\n",
       "             max_delta_step=0, max_depth=5, max_leaves=0, min_child_weight=1,\n",
       "             missing=nan, monotone_constraints=&#x27;()&#x27;, n_estimators=1000,\n",
       "             n_jobs=0, num_parallel_tree=1, predictor=&#x27;auto&#x27;, random_state=0,\n",
       "             reg_alpha=0, reg_lambda=1, ...)</pre><b>In a Jupyter environment, please rerun this cell to show the HTML representation or trust the notebook. <br />On GitHub, the HTML representation is unable to render, please try loading this page with nbviewer.org.</b></div><div class=\"sk-container\" hidden><div class=\"sk-item\"><div class=\"sk-estimator sk-toggleable\"><input class=\"sk-toggleable__control sk-hidden--visually\" id=\"sk-estimator-id-66\" type=\"checkbox\" checked><label for=\"sk-estimator-id-66\" class=\"sk-toggleable__label sk-toggleable__label-arrow\">XGBRegressor</label><div class=\"sk-toggleable__content\"><pre>XGBRegressor(base_score=0.5, booster=&#x27;gbtree&#x27;, callbacks=None,\n",
       "             colsample_bylevel=0.5, colsample_bynode=1, colsample_bytree=0.8,\n",
       "             early_stopping_rounds=None, enable_categorical=False,\n",
       "             eval_metric=None, gamma=0, gpu_id=-1, grow_policy=&#x27;depthwise&#x27;,\n",
       "             importance_type=None, interaction_constraints=&#x27;&#x27;,\n",
       "             learning_rate=0.25, max_bin=256, max_cat_to_onehot=4,\n",
       "             max_delta_step=0, max_depth=5, max_leaves=0, min_child_weight=1,\n",
       "             missing=nan, monotone_constraints=&#x27;()&#x27;, n_estimators=1000,\n",
       "             n_jobs=0, num_parallel_tree=1, predictor=&#x27;auto&#x27;, random_state=0,\n",
       "             reg_alpha=0, reg_lambda=1, ...)</pre></div></div></div></div></div>"
      ],
      "text/plain": [
       "XGBRegressor(base_score=0.5, booster='gbtree', callbacks=None,\n",
       "             colsample_bylevel=0.5, colsample_bynode=1, colsample_bytree=0.8,\n",
       "             early_stopping_rounds=None, enable_categorical=False,\n",
       "             eval_metric=None, gamma=0, gpu_id=-1, grow_policy='depthwise',\n",
       "             importance_type=None, interaction_constraints='',\n",
       "             learning_rate=0.25, max_bin=256, max_cat_to_onehot=4,\n",
       "             max_delta_step=0, max_depth=5, max_leaves=0, min_child_weight=1,\n",
       "             missing=nan, monotone_constraints='()', n_estimators=1000,\n",
       "             n_jobs=0, num_parallel_tree=1, predictor='auto', random_state=0,\n",
       "             reg_alpha=0, reg_lambda=1, ...)"
      ]
     },
     "execution_count": 1361,
     "metadata": {},
     "output_type": "execute_result"
    }
   ],
   "source": [
    "#smoy \n",
    "agg_smoy = pd.concat([X_train_smoy, X_test_smoy], axis = 0).reset_index(drop = True)\n",
    "xgbr_smoy.fit(agg_smoy, smoy[\"Share\"].reset_index(drop = True))"
   ]
  },
  {
   "cell_type": "code",
   "execution_count": 1363,
   "id": "353cb870-c0e8-4555-8bdc-ee1def02c52e",
   "metadata": {},
   "outputs": [
    {
     "data": {
      "text/html": [
       "<style>#sk-container-id-43 {color: black;background-color: white;}#sk-container-id-43 pre{padding: 0;}#sk-container-id-43 div.sk-toggleable {background-color: white;}#sk-container-id-43 label.sk-toggleable__label {cursor: pointer;display: block;width: 100%;margin-bottom: 0;padding: 0.3em;box-sizing: border-box;text-align: center;}#sk-container-id-43 label.sk-toggleable__label-arrow:before {content: \"▸\";float: left;margin-right: 0.25em;color: #696969;}#sk-container-id-43 label.sk-toggleable__label-arrow:hover:before {color: black;}#sk-container-id-43 div.sk-estimator:hover label.sk-toggleable__label-arrow:before {color: black;}#sk-container-id-43 div.sk-toggleable__content {max-height: 0;max-width: 0;overflow: hidden;text-align: left;background-color: #f0f8ff;}#sk-container-id-43 div.sk-toggleable__content pre {margin: 0.2em;color: black;border-radius: 0.25em;background-color: #f0f8ff;}#sk-container-id-43 input.sk-toggleable__control:checked~div.sk-toggleable__content {max-height: 200px;max-width: 100%;overflow: auto;}#sk-container-id-43 input.sk-toggleable__control:checked~label.sk-toggleable__label-arrow:before {content: \"▾\";}#sk-container-id-43 div.sk-estimator input.sk-toggleable__control:checked~label.sk-toggleable__label {background-color: #d4ebff;}#sk-container-id-43 div.sk-label input.sk-toggleable__control:checked~label.sk-toggleable__label {background-color: #d4ebff;}#sk-container-id-43 input.sk-hidden--visually {border: 0;clip: rect(1px 1px 1px 1px);clip: rect(1px, 1px, 1px, 1px);height: 1px;margin: -1px;overflow: hidden;padding: 0;position: absolute;width: 1px;}#sk-container-id-43 div.sk-estimator {font-family: monospace;background-color: #f0f8ff;border: 1px dotted black;border-radius: 0.25em;box-sizing: border-box;margin-bottom: 0.5em;}#sk-container-id-43 div.sk-estimator:hover {background-color: #d4ebff;}#sk-container-id-43 div.sk-parallel-item::after {content: \"\";width: 100%;border-bottom: 1px solid gray;flex-grow: 1;}#sk-container-id-43 div.sk-label:hover label.sk-toggleable__label {background-color: #d4ebff;}#sk-container-id-43 div.sk-serial::before {content: \"\";position: absolute;border-left: 1px solid gray;box-sizing: border-box;top: 0;bottom: 0;left: 50%;z-index: 0;}#sk-container-id-43 div.sk-serial {display: flex;flex-direction: column;align-items: center;background-color: white;padding-right: 0.2em;padding-left: 0.2em;position: relative;}#sk-container-id-43 div.sk-item {position: relative;z-index: 1;}#sk-container-id-43 div.sk-parallel {display: flex;align-items: stretch;justify-content: center;background-color: white;position: relative;}#sk-container-id-43 div.sk-item::before, #sk-container-id-43 div.sk-parallel-item::before {content: \"\";position: absolute;border-left: 1px solid gray;box-sizing: border-box;top: 0;bottom: 0;left: 50%;z-index: -1;}#sk-container-id-43 div.sk-parallel-item {display: flex;flex-direction: column;z-index: 1;position: relative;background-color: white;}#sk-container-id-43 div.sk-parallel-item:first-child::after {align-self: flex-end;width: 50%;}#sk-container-id-43 div.sk-parallel-item:last-child::after {align-self: flex-start;width: 50%;}#sk-container-id-43 div.sk-parallel-item:only-child::after {width: 0;}#sk-container-id-43 div.sk-dashed-wrapped {border: 1px dashed gray;margin: 0 0.4em 0.5em 0.4em;box-sizing: border-box;padding-bottom: 0.4em;background-color: white;}#sk-container-id-43 div.sk-label label {font-family: monospace;font-weight: bold;display: inline-block;line-height: 1.2em;}#sk-container-id-43 div.sk-label-container {text-align: center;}#sk-container-id-43 div.sk-container {/* jupyter's `normalize.less` sets `[hidden] { display: none; }` but bootstrap.min.css set `[hidden] { display: none !important; }` so we also need the `!important` here to be able to override the default hidden behavior on the sphinx rendered scikit-learn.org. See: https://github.com/scikit-learn/scikit-learn/issues/21755 */display: inline-block !important;position: relative;}#sk-container-id-43 div.sk-text-repr-fallback {display: none;}</style><div id=\"sk-container-id-43\" class=\"sk-top-container\"><div class=\"sk-text-repr-fallback\"><pre>XGBRegressor(base_score=0.5, booster=&#x27;gbtree&#x27;, callbacks=None,\n",
       "             colsample_bylevel=0.6, colsample_bynode=1, colsample_bytree=0.6,\n",
       "             early_stopping_rounds=None, enable_categorical=False,\n",
       "             eval_metric=None, gamma=0, gpu_id=-1, grow_policy=&#x27;depthwise&#x27;,\n",
       "             importance_type=None, interaction_constraints=&#x27;&#x27;,\n",
       "             learning_rate=0.1, max_bin=256, max_cat_to_onehot=4,\n",
       "             max_delta_step=0, max_depth=15, max_leaves=0, min_child_weight=1,\n",
       "             missing=nan, monotone_constraints=&#x27;()&#x27;, n_estimators=100, n_jobs=0,\n",
       "             num_parallel_tree=1, predictor=&#x27;auto&#x27;, random_state=0, reg_alpha=0,\n",
       "             reg_lambda=1, ...)</pre><b>In a Jupyter environment, please rerun this cell to show the HTML representation or trust the notebook. <br />On GitHub, the HTML representation is unable to render, please try loading this page with nbviewer.org.</b></div><div class=\"sk-container\" hidden><div class=\"sk-item\"><div class=\"sk-estimator sk-toggleable\"><input class=\"sk-toggleable__control sk-hidden--visually\" id=\"sk-estimator-id-67\" type=\"checkbox\" checked><label for=\"sk-estimator-id-67\" class=\"sk-toggleable__label sk-toggleable__label-arrow\">XGBRegressor</label><div class=\"sk-toggleable__content\"><pre>XGBRegressor(base_score=0.5, booster=&#x27;gbtree&#x27;, callbacks=None,\n",
       "             colsample_bylevel=0.6, colsample_bynode=1, colsample_bytree=0.6,\n",
       "             early_stopping_rounds=None, enable_categorical=False,\n",
       "             eval_metric=None, gamma=0, gpu_id=-1, grow_policy=&#x27;depthwise&#x27;,\n",
       "             importance_type=None, interaction_constraints=&#x27;&#x27;,\n",
       "             learning_rate=0.1, max_bin=256, max_cat_to_onehot=4,\n",
       "             max_delta_step=0, max_depth=15, max_leaves=0, min_child_weight=1,\n",
       "             missing=nan, monotone_constraints=&#x27;()&#x27;, n_estimators=100, n_jobs=0,\n",
       "             num_parallel_tree=1, predictor=&#x27;auto&#x27;, random_state=0, reg_alpha=0,\n",
       "             reg_lambda=1, ...)</pre></div></div></div></div></div>"
      ],
      "text/plain": [
       "XGBRegressor(base_score=0.5, booster='gbtree', callbacks=None,\n",
       "             colsample_bylevel=0.6, colsample_bynode=1, colsample_bytree=0.6,\n",
       "             early_stopping_rounds=None, enable_categorical=False,\n",
       "             eval_metric=None, gamma=0, gpu_id=-1, grow_policy='depthwise',\n",
       "             importance_type=None, interaction_constraints='',\n",
       "             learning_rate=0.1, max_bin=256, max_cat_to_onehot=4,\n",
       "             max_delta_step=0, max_depth=15, max_leaves=0, min_child_weight=1,\n",
       "             missing=nan, monotone_constraints='()', n_estimators=100, n_jobs=0,\n",
       "             num_parallel_tree=1, predictor='auto', random_state=0, reg_alpha=0,\n",
       "             reg_lambda=1, ...)"
      ]
     },
     "execution_count": 1363,
     "metadata": {},
     "output_type": "execute_result"
    }
   ],
   "source": [
    "#smoy \n",
    "agg_mip = pd.concat([X_train_mip, X_test_mip], axis = 0).reset_index(drop = True)\n",
    "xgbr_mip.fit(agg_mip, mip[\"Share\"].reset_index(drop = True))"
   ]
  },
  {
   "cell_type": "code",
   "execution_count": 1364,
   "id": "f1ba750f-bce8-4cb8-ac26-73f5fdd6756f",
   "metadata": {},
   "outputs": [
    {
     "data": {
      "text/plain": [
       "['../models/roy_model']"
      ]
     },
     "execution_count": 1364,
     "metadata": {},
     "output_type": "execute_result"
    }
   ],
   "source": [
    "joblib.dump(xgbr, \"../models/mvp_model\")\n",
    "joblib.dump(xgbr_dpoy, \"../models/dpoy_model\")\n",
    "joblib.dump(xgbr_mip, \"../models/mip_model\")\n",
    "joblib.dump(xgbr_smoy, \"../models/smoy_model\")\n",
    "joblib.dump(xgbr_roy, \"../models/roy_model\")"
   ]
  }
 ],
 "metadata": {
  "kernelspec": {
   "display_name": "Python 3",
   "language": "python",
   "name": "python3"
  },
  "language_info": {
   "codemirror_mode": {
    "name": "ipython",
    "version": 3
   },
   "file_extension": ".py",
   "mimetype": "text/x-python",
   "name": "python",
   "nbconvert_exporter": "python",
   "pygments_lexer": "ipython3",
   "version": "3.8.8"
  }
 },
 "nbformat": 4,
 "nbformat_minor": 5
}
